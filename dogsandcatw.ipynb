{
  "nbformat": 4,
  "nbformat_minor": 0,
  "metadata": {
    "colab": {
      "name": "dogsandcatw.ipynb",
      "version": "0.3.2",
      "provenance": [],
      "collapsed_sections": [],
      "include_colab_link": true
    },
    "kernelspec": {
      "name": "python3",
      "display_name": "Python 3"
    },
    "accelerator": "GPU"
  },
  "cells": [
    {
      "cell_type": "markdown",
      "metadata": {
        "id": "view-in-github",
        "colab_type": "text"
      },
      "source": [
        "<a href=\"https://colab.research.google.com/github/vuchicago/Python/blob/master/dogsandcatw.ipynb\" target=\"_parent\"><img src=\"https://colab.research.google.com/assets/colab-badge.svg\" alt=\"Open In Colab\"/></a>"
      ]
    },
    {
      "metadata": {
        "id": "vXfPqTTijexp",
        "colab_type": "code",
        "outputId": "8762cdab-3c10-4794-be80-14458ae6e071",
        "colab": {
          "base_uri": "https://localhost:8080/",
          "height": 122
        }
      },
      "cell_type": "code",
      "source": [
        "from google.colab import drive\n",
        "drive.mount('/content/gdrive',force_remount=True)\n"
      ],
      "execution_count": 0,
      "outputs": [
        {
          "output_type": "stream",
          "text": [
            "Go to this URL in a browser: https://accounts.google.com/o/oauth2/auth?client_id=947318989803-6bn6qk8qdgf4n4g3pfee6491hc0brc4i.apps.googleusercontent.com&redirect_uri=urn%3Aietf%3Awg%3Aoauth%3A2.0%3Aoob&scope=email%20https%3A%2F%2Fwww.googleapis.com%2Fauth%2Fdocs.test%20https%3A%2F%2Fwww.googleapis.com%2Fauth%2Fdrive%20https%3A%2F%2Fwww.googleapis.com%2Fauth%2Fdrive.photos.readonly%20https%3A%2F%2Fwww.googleapis.com%2Fauth%2Fpeopleapi.readonly&response_type=code\n",
            "\n",
            "Enter your authorization code:\n",
            "··········\n",
            "Mounted at /content/gdrive\n"
          ],
          "name": "stdout"
        }
      ]
    },
    {
      "metadata": {
        "id": "kWnbFK69vyUb",
        "colab_type": "code",
        "colab": {}
      },
      "cell_type": "code",
      "source": [
        ""
      ],
      "execution_count": 0,
      "outputs": []
    },
    {
      "metadata": {
        "id": "u-5G6Tda5O9C",
        "colab_type": "code",
        "colab": {}
      },
      "cell_type": "code",
      "source": [
        ""
      ],
      "execution_count": 0,
      "outputs": []
    },
    {
      "metadata": {
        "id": "8Ls5c37_jfXo",
        "colab_type": "code",
        "colab": {}
      },
      "cell_type": "code",
      "source": [
        "import os, shutil\n",
        "original_dataset_dir='/content/gdrive/My Drive/dogsandcats/train1'\n",
        "original_dataset_test_dir='/content/gdrive/My Drive/dogsandcats/test'\n",
        "base_dir= '/content/gdrive/My Drive/dogsandcats'\n",
        "\n",
        "train_dir=os.path.join(base_dir,'train')\n",
        "validation_dir=os.path.join(base_dir,'validation')\n",
        "test_dir=os.path.join(base_dir,'test')\n",
        "train_cats_dir=os.path.join(train_dir,'cats')\n",
        "train_dogs_dir=os.path.join(train_dir,'dogs')\n",
        "validation_cats_dir=os.path.join(validation_dir,'cats')\n",
        "validation_dogs_dir=os.path.join(validation_dir,'dogs')\n",
        "test_cats_dir=os.path.join(test_dir,'cats')\n",
        "test_dogs_dir=os.path.join(test_dir,'dogs')\n"
      ],
      "execution_count": 0,
      "outputs": []
    },
    {
      "metadata": {
        "id": "4y3SMg1TmZTh",
        "colab_type": "code",
        "colab": {}
      },
      "cell_type": "code",
      "source": [
        "####ONLY RUN THIS ONCE TO CREATE THE PROPER FOLDERS\n",
        "\n",
        "os.mkdir(train_dir)\n",
        "os.mkdir(validation_dir)\n",
        "os.mkdir(test_dir)\n",
        "os.mkdir(train_cats_dir)\n",
        "os.mkdir(train_dogs_dir)\n",
        "os.mkdir(validation_cats_dir)\n",
        "os.mkdir(validation_dogs_dir)\n",
        "os.mkdir(test_cats_dir)\n",
        "os.mkdir(test_dogs_dir)"
      ],
      "execution_count": 0,
      "outputs": []
    },
    {
      "metadata": {
        "id": "9aXDDaN3mx92",
        "colab_type": "code",
        "colab": {}
      },
      "cell_type": "code",
      "source": [
        "##Copy cat and dog images to relevant directories created above\n",
        "###RUN ONLY ONCE\n",
        "\n",
        "fnames=['cat.{}.jpg'.format(i) for i in range(1000)]\n",
        "for fname in fnames:\n",
        "    src=os.path.join(original_dataset_dir,fname)\n",
        "    dst=os.path.join(train_cats_dir,fname)\n",
        "    shutil.copyfile(src,dst)\n",
        "    \n",
        "fnames=['cat.{}.jpg'.format(i) for i in range(1000,1500)]\n",
        "for fname in fnames:\n",
        "    src=os.path.join(original_dataset_dir,fname)\n",
        "    dst=os.path.join(validation_cats_dir,fname)\n",
        "    shutil.copyfile(src,dst)\n",
        "    \n",
        "fnames=['cat.{}.jpg'.format(i) for i in range(1500,2000)]\n",
        "for fname in fnames:\n",
        "    src=os.path.join(original_dataset_dir,fname)\n",
        "    dst=os.path.join(test_cats_dir,fname)\n",
        "    shutil.copyfile(src,dst)\n",
        "    \n",
        "fnames=['dog.{}.jpg'.format(i) for i in range(1000)]\n",
        "for fname in fnames:\n",
        "    src=os.path.join(original_dataset_dir,fname)\n",
        "    dst=os.path.join(train_dogs_dir,fname)\n",
        "    shutil.copyfile(src,dst)\n",
        "    \n",
        "fnames=['dog.{}.jpg'.format(i) for i in range(1000,1500)]\n",
        "for fname in fnames:\n",
        "    src=os.path.join(original_dataset_dir,fname)\n",
        "    dst=os.path.join(validation_dogs_dir,fname)\n",
        "    shutil.copyfile(src,dst)\n",
        "    \n",
        "fnames=['dog.{}.jpg'.format(i) for i in range(1500,2000)]\n",
        "for fname in fnames:\n",
        "    src=os.path.join(original_dataset_dir,fname)\n",
        "    dst=os.path.join(test_dogs_dir,fname)\n",
        "    shutil.copyfile(src,dst)"
      ],
      "execution_count": 0,
      "outputs": []
    },
    {
      "metadata": {
        "id": "Gkk0yuOz5bHv",
        "colab_type": "code",
        "outputId": "afcb88af-6f11-4ea5-d012-d519364e8c88",
        "colab": {
          "base_uri": "https://localhost:8080/",
          "height": 102
        }
      },
      "cell_type": "code",
      "source": [
        "###SEE HOW MANY IMAGES ARE IN EACH FOLDER##########\n",
        "\n",
        "print(\"total training images:\",len(os.listdir(original_dataset_dir))) #25k images\n",
        "\n",
        "print(\"total training cat images:\",len(os.listdir(train_cats_dir))) #1k images\n",
        "\n",
        "print(\"total training dog images:\",len(os.listdir(train_dogs_dir))) #25k images\n",
        "\n",
        "print(\"total val cat images:\",len(os.listdir(validation_cats_dir))) #1k images\n",
        "\n",
        "print(\"total val dog images:\",len(os.listdir(validation_dogs_dir))) #1k images"
      ],
      "execution_count": 0,
      "outputs": [
        {
          "output_type": "stream",
          "text": [
            "total training images: 4002\n",
            "total training cat images: 1000\n",
            "total training dog images: 1000\n",
            "total val cat images: 500\n",
            "total val dog images: 500\n"
          ],
          "name": "stdout"
        }
      ]
    },
    {
      "metadata": {
        "id": "IYAez3MOAw9V",
        "colab_type": "code",
        "outputId": "efc0850a-61a7-4f39-ece2-e6df37bbc922",
        "colab": {
          "base_uri": "https://localhost:8080/",
          "height": 190
        }
      },
      "cell_type": "code",
      "source": [
        "##########THIS WILL TRAIN THE INPUTS ON THE VGG16 AND USE ITS OUTPUTS AS INPUTS FOR THE REST OF THE MODEL######\n",
        "#########YOU CAN USE DATA AUGMENTATION FOR THIS\n",
        "\n",
        "from keras.applications import VGG16\n",
        "\n",
        "conv_base=VGG16(weights='imagenet',include_top=False,input_shape=(150,150,3))\n",
        "\n",
        "import os\n",
        "import numpy as np\n",
        "from keras.preprocessing.image import ImageDataGenerator\n",
        "\n",
        "batch_size=20\n",
        "\n",
        "#######################IMAGE AUGMENTATION TO CREATE NEW TRAINING EXAMPLES FROM EXISTING\n",
        "#####DATA AUGMENT THE DATA page 139.  \n",
        "datagen=ImageDataGenerator(rotation_range=40,\n",
        "                           width_shift_range=0.2,\n",
        "                           height_shift_range=.2,\n",
        "                           shear_range=.2,\n",
        "                           zoom_range=.2,\n",
        "                           horizontal_flip=True,\n",
        "                           fill_mode='nearest')\n",
        "\n",
        "\n",
        "def extract_features(directory,sample_count):\n",
        "    features=np.zeros(shape=(sample_count,4,4,512)) ###create empty feature tensor\n",
        "    labels=np.zeros(shape=(sample_count)) ##create empty label list\n",
        "    generator=datagen.flow_from_directory(directory, target_size=(150,150),batch_size=batch_size,class_mode='binary') #create inputs and labels from directory\n",
        "    \n",
        "    i=0\n",
        "    for inputs_batch,labels_batch in generator: \n",
        "        features_batch=conv_base.predict(inputs_batch)###PREDICT USING CONV_BASE FROM THE INPUT BATCH\n",
        "        features[i*batch_size:(i+1)*batch_size]=features_batch #CREATE TENSOR OF FEATURES FROM BATCHES\n",
        "        labels[i*batch_size:(i+1)*batch_size]=labels_batch \n",
        "        \n",
        "        i+=1\n",
        "        if i*batch_size>=sample_count:\n",
        "            break #MUST BBREAK FROM GENERATED LOOP\n",
        "    return features,labels\n",
        "\n",
        "train_features,train_labels=extract_features(train_dir,2000)\n",
        "validation_features,validation_labels=extract_features(validation_dir,1000)\n",
        "test_features,test_labels=extract_features(test_dir,1000)"
      ],
      "execution_count": 0,
      "outputs": [
        {
          "output_type": "stream",
          "text": [
            "Using TensorFlow backend.\n"
          ],
          "name": "stderr"
        },
        {
          "output_type": "stream",
          "text": [
            "WARNING:tensorflow:From /usr/local/lib/python3.6/dist-packages/tensorflow/python/framework/op_def_library.py:263: colocate_with (from tensorflow.python.framework.ops) is deprecated and will be removed in a future version.\n",
            "Instructions for updating:\n",
            "Colocations handled automatically by placer.\n",
            "Downloading data from https://github.com/fchollet/deep-learning-models/releases/download/v0.1/vgg16_weights_tf_dim_ordering_tf_kernels_notop.h5\n",
            "58892288/58889256 [==============================] - 2s 0us/step\n",
            "Found 2000 images belonging to 2 classes.\n",
            "Found 1000 images belonging to 2 classes.\n",
            "Found 1000 images belonging to 2 classes.\n"
          ],
          "name": "stdout"
        }
      ]
    },
    {
      "metadata": {
        "id": "xq20w6q-1QB4",
        "colab_type": "code",
        "colab": {}
      },
      "cell_type": "code",
      "source": [
        ""
      ],
      "execution_count": 0,
      "outputs": []
    },
    {
      "metadata": {
        "id": "PsL6UMw9Iku7",
        "colab_type": "code",
        "outputId": "66413d67-4462-4997-b313-e532de32befa",
        "colab": {
          "base_uri": "https://localhost:8080/",
          "height": 88
        }
      },
      "cell_type": "code",
      "source": [
        "\n",
        "train_features=np.reshape(train_features,(2000,4*4*512))\n",
        "validation_features=np.reshape(validation_features,(1000,4*4*512))\n",
        "test_features=np.reshape(test_features,(1000,4*4*512))\n",
        "\n",
        "\n",
        "from keras import layers,models,optimizers\n",
        "import time\n",
        "model=models.Sequential()\n",
        "model.add(layers.Dense(256,activation='relu',input_dim=(4*4*512)))\n",
        "model.add(layers.Dropout(.5))\n",
        "model.add(layers.Dense(1,activation='sigmoid'))\n",
        "model.compile(optimizer=optimizers.RMSprop(lr=2e-5),loss='binary_crossentropy',metrics=['acc'])\n",
        "\n",
        "\n"
      ],
      "execution_count": 0,
      "outputs": [
        {
          "output_type": "stream",
          "text": [
            "WARNING:tensorflow:From /usr/local/lib/python3.6/dist-packages/keras/backend/tensorflow_backend.py:3445: calling dropout (from tensorflow.python.ops.nn_ops) with keep_prob is deprecated and will be removed in a future version.\n",
            "Instructions for updating:\n",
            "Please use `rate` instead of `keep_prob`. Rate should be set to `rate = 1 - keep_prob`.\n"
          ],
          "name": "stdout"
        }
      ]
    },
    {
      "metadata": {
        "id": "xFnU--ciONzO",
        "colab_type": "code",
        "outputId": "8eab8ede-8447-45d8-f409-4ec4dc30f2fb",
        "colab": {
          "base_uri": "https://localhost:8080/",
          "height": 4212
        }
      },
      "cell_type": "code",
      "source": [
        "import numpy as np\n",
        "from matplotlib import pyplot as plt\n",
        "start=time.time()\n",
        "\n",
        "history=model.fit(train_features,train_labels,epochs=100,batch_size=20,validation_data=(validation_features,validation_labels))\n",
        "\n",
        "end=time.time()\n",
        "print('this takes ',np.subtract(end,start),\"seconds to run\")\n",
        "##PLOT THE ACCURACY AND LOSS\n",
        "acc=history.history['acc']\n",
        "val_acc=history.history['val_acc']\n",
        "loss=history.history['loss']\n",
        "val_loss=history.history['val_loss']\n",
        "epochs=range(1,len(acc)+1)\n",
        "\n",
        "plt.plot(epochs,acc,'bo',label='Training Acc')\n",
        "plt.plot(epochs,val_acc,'b',label=\"Validation Acc\")\n",
        "plt.title(\"Training and validation accuracy\")\n",
        "plt.legend()\n",
        "\n",
        "plt.figure()\n",
        "plt.plot(epochs,loss,'bo',label=\"Training Loss\")\n",
        "plt.plot(epochs,val_loss,'b',label='Validation Loss')\n",
        "plt.title(\"Training and Val Loss\")\n",
        "plt.legend()\n",
        "\n",
        "plt.show()"
      ],
      "execution_count": 0,
      "outputs": [
        {
          "output_type": "stream",
          "text": [
            "WARNING:tensorflow:From /usr/local/lib/python3.6/dist-packages/tensorflow/python/ops/math_ops.py:3066: to_int32 (from tensorflow.python.ops.math_ops) is deprecated and will be removed in a future version.\n",
            "Instructions for updating:\n",
            "Use tf.cast instead.\n",
            "Train on 2000 samples, validate on 1000 samples\n",
            "Epoch 1/100\n",
            "2000/2000 [==============================] - 2s 861us/step - loss: 4.2524 - acc: 0.6200 - val_loss: 1.8569 - val_acc: 0.7640\n",
            "Epoch 2/100\n",
            "2000/2000 [==============================] - 1s 372us/step - loss: 2.8279 - acc: 0.7295 - val_loss: 1.2137 - val_acc: 0.8290\n",
            "Epoch 3/100\n",
            "2000/2000 [==============================] - 1s 378us/step - loss: 1.9884 - acc: 0.8075 - val_loss: 1.1462 - val_acc: 0.8450\n",
            "Epoch 4/100\n",
            "2000/2000 [==============================] - 1s 384us/step - loss: 1.6553 - acc: 0.8285 - val_loss: 1.0532 - val_acc: 0.8550\n",
            "Epoch 5/100\n",
            "2000/2000 [==============================] - 1s 385us/step - loss: 1.3872 - acc: 0.8565 - val_loss: 1.0147 - val_acc: 0.8650\n",
            "Epoch 6/100\n",
            "2000/2000 [==============================] - 1s 389us/step - loss: 1.1856 - acc: 0.8710 - val_loss: 1.0162 - val_acc: 0.8680\n",
            "Epoch 7/100\n",
            "2000/2000 [==============================] - 1s 391us/step - loss: 0.9532 - acc: 0.8940 - val_loss: 1.0166 - val_acc: 0.8670\n",
            "Epoch 8/100\n",
            "2000/2000 [==============================] - 1s 382us/step - loss: 0.8467 - acc: 0.9035 - val_loss: 0.9442 - val_acc: 0.8780\n",
            "Epoch 9/100\n",
            "2000/2000 [==============================] - 1s 374us/step - loss: 0.8017 - acc: 0.9110 - val_loss: 0.8669 - val_acc: 0.8800\n",
            "Epoch 10/100\n",
            "2000/2000 [==============================] - 1s 378us/step - loss: 0.6562 - acc: 0.9195 - val_loss: 0.8786 - val_acc: 0.8840\n",
            "Epoch 11/100\n",
            "2000/2000 [==============================] - 1s 381us/step - loss: 0.6247 - acc: 0.9200 - val_loss: 0.8849 - val_acc: 0.8880\n",
            "Epoch 12/100\n",
            "2000/2000 [==============================] - 1s 378us/step - loss: 0.5244 - acc: 0.9310 - val_loss: 0.8709 - val_acc: 0.8860\n",
            "Epoch 13/100\n",
            "2000/2000 [==============================] - 1s 386us/step - loss: 0.4822 - acc: 0.9380 - val_loss: 0.8497 - val_acc: 0.8910\n",
            "Epoch 14/100\n",
            "2000/2000 [==============================] - 1s 381us/step - loss: 0.4051 - acc: 0.9515 - val_loss: 0.7977 - val_acc: 0.8880\n",
            "Epoch 15/100\n",
            "2000/2000 [==============================] - 1s 378us/step - loss: 0.4195 - acc: 0.9500 - val_loss: 0.7809 - val_acc: 0.8900\n",
            "Epoch 16/100\n",
            "2000/2000 [==============================] - 1s 384us/step - loss: 0.3477 - acc: 0.9545 - val_loss: 0.8484 - val_acc: 0.8910\n",
            "Epoch 17/100\n",
            "2000/2000 [==============================] - 1s 396us/step - loss: 0.2872 - acc: 0.9580 - val_loss: 0.8179 - val_acc: 0.8920\n",
            "Epoch 18/100\n",
            "2000/2000 [==============================] - 1s 394us/step - loss: 0.2623 - acc: 0.9580 - val_loss: 0.7728 - val_acc: 0.8990\n",
            "Epoch 19/100\n",
            "2000/2000 [==============================] - 1s 387us/step - loss: 0.2227 - acc: 0.9675 - val_loss: 0.7657 - val_acc: 0.8910\n",
            "Epoch 20/100\n",
            "2000/2000 [==============================] - 1s 391us/step - loss: 0.2319 - acc: 0.9635 - val_loss: 0.7750 - val_acc: 0.8900\n",
            "Epoch 21/100\n",
            "2000/2000 [==============================] - 1s 389us/step - loss: 0.2115 - acc: 0.9685 - val_loss: 0.7771 - val_acc: 0.8990\n",
            "Epoch 22/100\n",
            "2000/2000 [==============================] - 1s 389us/step - loss: 0.2199 - acc: 0.9695 - val_loss: 0.8075 - val_acc: 0.8970\n",
            "Epoch 23/100\n",
            "2000/2000 [==============================] - 1s 388us/step - loss: 0.1817 - acc: 0.9695 - val_loss: 0.7654 - val_acc: 0.8940\n",
            "Epoch 24/100\n",
            "2000/2000 [==============================] - 1s 394us/step - loss: 0.1267 - acc: 0.9785 - val_loss: 0.7949 - val_acc: 0.8970\n",
            "Epoch 25/100\n",
            "2000/2000 [==============================] - 1s 390us/step - loss: 0.1646 - acc: 0.9750 - val_loss: 0.7896 - val_acc: 0.8990\n",
            "Epoch 26/100\n",
            "2000/2000 [==============================] - 1s 392us/step - loss: 0.1309 - acc: 0.9795 - val_loss: 0.7883 - val_acc: 0.8970\n",
            "Epoch 27/100\n",
            "2000/2000 [==============================] - 1s 390us/step - loss: 0.0926 - acc: 0.9835 - val_loss: 0.7596 - val_acc: 0.8900\n",
            "Epoch 28/100\n",
            "2000/2000 [==============================] - 1s 388us/step - loss: 0.0913 - acc: 0.9865 - val_loss: 0.7717 - val_acc: 0.8970\n",
            "Epoch 29/100\n",
            "2000/2000 [==============================] - 1s 389us/step - loss: 0.1187 - acc: 0.9805 - val_loss: 0.7656 - val_acc: 0.8930\n",
            "Epoch 30/100\n",
            "2000/2000 [==============================] - 1s 392us/step - loss: 0.0973 - acc: 0.9895 - val_loss: 0.7924 - val_acc: 0.8990\n",
            "Epoch 31/100\n",
            "2000/2000 [==============================] - 1s 390us/step - loss: 0.0944 - acc: 0.9885 - val_loss: 0.7942 - val_acc: 0.8970\n",
            "Epoch 32/100\n",
            "2000/2000 [==============================] - 1s 389us/step - loss: 0.0683 - acc: 0.9865 - val_loss: 0.7896 - val_acc: 0.9000\n",
            "Epoch 33/100\n",
            "2000/2000 [==============================] - 1s 387us/step - loss: 0.0808 - acc: 0.9875 - val_loss: 0.7910 - val_acc: 0.9020\n",
            "Epoch 34/100\n",
            "2000/2000 [==============================] - 1s 387us/step - loss: 0.0487 - acc: 0.9925 - val_loss: 0.7913 - val_acc: 0.9020\n",
            "Epoch 35/100\n",
            "2000/2000 [==============================] - 1s 383us/step - loss: 0.0610 - acc: 0.9885 - val_loss: 0.8244 - val_acc: 0.9000\n",
            "Epoch 36/100\n",
            "2000/2000 [==============================] - 1s 392us/step - loss: 0.0629 - acc: 0.9890 - val_loss: 0.8124 - val_acc: 0.8960\n",
            "Epoch 37/100\n",
            "2000/2000 [==============================] - 1s 390us/step - loss: 0.0599 - acc: 0.9915 - val_loss: 0.8271 - val_acc: 0.9000\n",
            "Epoch 38/100\n",
            "2000/2000 [==============================] - 1s 389us/step - loss: 0.0618 - acc: 0.9905 - val_loss: 0.7848 - val_acc: 0.8990\n",
            "Epoch 39/100\n",
            "2000/2000 [==============================] - 1s 390us/step - loss: 0.0448 - acc: 0.9930 - val_loss: 0.7771 - val_acc: 0.9000\n",
            "Epoch 40/100\n",
            "2000/2000 [==============================] - 1s 389us/step - loss: 0.0490 - acc: 0.9940 - val_loss: 0.7846 - val_acc: 0.8980\n",
            "Epoch 41/100\n",
            "2000/2000 [==============================] - 1s 393us/step - loss: 0.0616 - acc: 0.9910 - val_loss: 0.8127 - val_acc: 0.8990\n",
            "Epoch 42/100\n",
            "2000/2000 [==============================] - 1s 391us/step - loss: 0.0478 - acc: 0.9935 - val_loss: 0.8051 - val_acc: 0.9010\n",
            "Epoch 43/100\n",
            "2000/2000 [==============================] - 1s 395us/step - loss: 0.0386 - acc: 0.9955 - val_loss: 0.8268 - val_acc: 0.9010\n",
            "Epoch 44/100\n",
            "2000/2000 [==============================] - 1s 392us/step - loss: 0.0488 - acc: 0.9940 - val_loss: 0.7911 - val_acc: 0.8990\n",
            "Epoch 45/100\n",
            "2000/2000 [==============================] - 1s 393us/step - loss: 0.0348 - acc: 0.9955 - val_loss: 0.7690 - val_acc: 0.8960\n",
            "Epoch 46/100\n",
            "2000/2000 [==============================] - 1s 390us/step - loss: 0.0392 - acc: 0.9950 - val_loss: 0.7782 - val_acc: 0.9010\n",
            "Epoch 47/100\n",
            "2000/2000 [==============================] - 1s 390us/step - loss: 0.0465 - acc: 0.9905 - val_loss: 0.8079 - val_acc: 0.9000\n",
            "Epoch 48/100\n",
            "2000/2000 [==============================] - 1s 387us/step - loss: 0.0406 - acc: 0.9950 - val_loss: 0.7813 - val_acc: 0.9020\n",
            "Epoch 49/100\n",
            "2000/2000 [==============================] - 1s 387us/step - loss: 0.0286 - acc: 0.9955 - val_loss: 0.7741 - val_acc: 0.9000\n",
            "Epoch 50/100\n",
            "2000/2000 [==============================] - 1s 394us/step - loss: 0.0408 - acc: 0.9945 - val_loss: 0.7797 - val_acc: 0.9020\n",
            "Epoch 51/100\n",
            "2000/2000 [==============================] - 1s 390us/step - loss: 0.0381 - acc: 0.9960 - val_loss: 0.7894 - val_acc: 0.9030\n",
            "Epoch 52/100\n",
            "2000/2000 [==============================] - 1s 383us/step - loss: 0.0355 - acc: 0.9955 - val_loss: 0.8595 - val_acc: 0.8970\n",
            "Epoch 53/100\n",
            "2000/2000 [==============================] - 1s 390us/step - loss: 0.0403 - acc: 0.9960 - val_loss: 0.7943 - val_acc: 0.9020\n",
            "Epoch 54/100\n",
            "2000/2000 [==============================] - 1s 388us/step - loss: 0.0252 - acc: 0.9980 - val_loss: 0.8020 - val_acc: 0.9030\n",
            "Epoch 55/100\n",
            "2000/2000 [==============================] - 1s 387us/step - loss: 0.0447 - acc: 0.9945 - val_loss: 0.7989 - val_acc: 0.9050\n",
            "Epoch 56/100\n",
            "2000/2000 [==============================] - 1s 388us/step - loss: 0.0253 - acc: 0.9975 - val_loss: 0.7897 - val_acc: 0.9050\n",
            "Epoch 57/100\n",
            "2000/2000 [==============================] - 1s 388us/step - loss: 0.0257 - acc: 0.9980 - val_loss: 0.8003 - val_acc: 0.9050\n",
            "Epoch 58/100\n",
            "2000/2000 [==============================] - 1s 385us/step - loss: 0.0289 - acc: 0.9970 - val_loss: 0.7991 - val_acc: 0.9050\n",
            "Epoch 59/100\n",
            "2000/2000 [==============================] - 1s 395us/step - loss: 0.0364 - acc: 0.9955 - val_loss: 0.8072 - val_acc: 0.9060\n",
            "Epoch 60/100\n",
            "2000/2000 [==============================] - 1s 389us/step - loss: 0.0249 - acc: 0.9980 - val_loss: 0.8130 - val_acc: 0.9040\n",
            "Epoch 61/100\n",
            "2000/2000 [==============================] - 1s 385us/step - loss: 0.0280 - acc: 0.9970 - val_loss: 0.8196 - val_acc: 0.9040\n",
            "Epoch 62/100\n",
            "2000/2000 [==============================] - 1s 389us/step - loss: 0.0335 - acc: 0.9965 - val_loss: 0.8355 - val_acc: 0.9030\n",
            "Epoch 63/100\n",
            "2000/2000 [==============================] - 1s 386us/step - loss: 0.0299 - acc: 0.9975 - val_loss: 0.8070 - val_acc: 0.9050\n",
            "Epoch 64/100\n",
            "2000/2000 [==============================] - 1s 386us/step - loss: 0.0316 - acc: 0.9960 - val_loss: 0.8158 - val_acc: 0.9060\n",
            "Epoch 65/100\n",
            "2000/2000 [==============================] - 1s 374us/step - loss: 0.0271 - acc: 0.9970 - val_loss: 0.8204 - val_acc: 0.9070\n",
            "Epoch 66/100\n",
            "2000/2000 [==============================] - 1s 379us/step - loss: 0.0255 - acc: 0.9980 - val_loss: 0.8036 - val_acc: 0.9030\n",
            "Epoch 67/100\n",
            "2000/2000 [==============================] - 1s 385us/step - loss: 0.0293 - acc: 0.9970 - val_loss: 0.8058 - val_acc: 0.9040\n",
            "Epoch 68/100\n",
            "2000/2000 [==============================] - 1s 387us/step - loss: 0.0338 - acc: 0.9970 - val_loss: 0.8313 - val_acc: 0.9060\n",
            "Epoch 69/100\n",
            "2000/2000 [==============================] - 1s 379us/step - loss: 0.0287 - acc: 0.9970 - val_loss: 0.8198 - val_acc: 0.9040\n",
            "Epoch 70/100\n",
            "2000/2000 [==============================] - 1s 384us/step - loss: 0.0242 - acc: 0.9985 - val_loss: 0.8569 - val_acc: 0.9060\n",
            "Epoch 71/100\n",
            "2000/2000 [==============================] - 1s 379us/step - loss: 0.0298 - acc: 0.9975 - val_loss: 0.8160 - val_acc: 0.9020\n",
            "Epoch 72/100\n",
            "2000/2000 [==============================] - 1s 381us/step - loss: 0.0257 - acc: 0.9980 - val_loss: 0.8144 - val_acc: 0.9020\n",
            "Epoch 73/100\n",
            "2000/2000 [==============================] - 1s 390us/step - loss: 0.0250 - acc: 0.9980 - val_loss: 0.8025 - val_acc: 0.9000\n",
            "Epoch 74/100\n",
            "2000/2000 [==============================] - 1s 387us/step - loss: 0.0271 - acc: 0.9970 - val_loss: 0.8068 - val_acc: 0.9050\n",
            "Epoch 75/100\n",
            "2000/2000 [==============================] - 1s 382us/step - loss: 0.0265 - acc: 0.9975 - val_loss: 0.8292 - val_acc: 0.9040\n",
            "Epoch 76/100\n",
            "2000/2000 [==============================] - 1s 384us/step - loss: 0.0250 - acc: 0.9980 - val_loss: 0.8019 - val_acc: 0.9070\n",
            "Epoch 77/100\n",
            "2000/2000 [==============================] - 1s 378us/step - loss: 0.0219 - acc: 0.9980 - val_loss: 0.7983 - val_acc: 0.9060\n",
            "Epoch 78/100\n",
            "2000/2000 [==============================] - 1s 389us/step - loss: 0.0263 - acc: 0.9975 - val_loss: 0.8101 - val_acc: 0.9030\n",
            "Epoch 79/100\n",
            "2000/2000 [==============================] - 1s 397us/step - loss: 0.0290 - acc: 0.9980 - val_loss: 0.7949 - val_acc: 0.9060\n",
            "Epoch 80/100\n",
            "2000/2000 [==============================] - 1s 394us/step - loss: 0.0343 - acc: 0.9970 - val_loss: 0.8239 - val_acc: 0.9050\n",
            "Epoch 81/100\n",
            "2000/2000 [==============================] - 1s 389us/step - loss: 0.0287 - acc: 0.9970 - val_loss: 0.8099 - val_acc: 0.9060\n",
            "Epoch 82/100\n",
            "2000/2000 [==============================] - 1s 388us/step - loss: 0.0335 - acc: 0.9965 - val_loss: 0.8307 - val_acc: 0.9090\n",
            "Epoch 83/100\n",
            "2000/2000 [==============================] - 1s 392us/step - loss: 0.0249 - acc: 0.9980 - val_loss: 0.8375 - val_acc: 0.9070\n",
            "Epoch 84/100\n",
            "2000/2000 [==============================] - 1s 388us/step - loss: 0.0273 - acc: 0.9975 - val_loss: 0.8427 - val_acc: 0.9080\n",
            "Epoch 85/100\n",
            "2000/2000 [==============================] - 1s 384us/step - loss: 0.0261 - acc: 0.9980 - val_loss: 0.8095 - val_acc: 0.9060\n",
            "Epoch 86/100\n",
            "2000/2000 [==============================] - 1s 386us/step - loss: 0.0267 - acc: 0.9975 - val_loss: 0.8249 - val_acc: 0.9050\n",
            "Epoch 87/100\n",
            "2000/2000 [==============================] - 1s 385us/step - loss: 0.0261 - acc: 0.9980 - val_loss: 0.8097 - val_acc: 0.9090\n",
            "Epoch 88/100\n",
            "2000/2000 [==============================] - 1s 388us/step - loss: 0.0320 - acc: 0.9975 - val_loss: 0.8288 - val_acc: 0.9030\n",
            "Epoch 89/100\n",
            "2000/2000 [==============================] - 1s 383us/step - loss: 0.0256 - acc: 0.9980 - val_loss: 0.8232 - val_acc: 0.9040\n",
            "Epoch 90/100\n",
            "2000/2000 [==============================] - 1s 388us/step - loss: 0.0289 - acc: 0.9970 - val_loss: 0.8153 - val_acc: 0.9020\n",
            "Epoch 91/100\n",
            "2000/2000 [==============================] - 1s 385us/step - loss: 0.0252 - acc: 0.9980 - val_loss: 0.8334 - val_acc: 0.9070\n",
            "Epoch 92/100\n",
            "2000/2000 [==============================] - 1s 381us/step - loss: 0.0251 - acc: 0.9980 - val_loss: 0.8291 - val_acc: 0.9050\n",
            "Epoch 93/100\n",
            "2000/2000 [==============================] - 1s 382us/step - loss: 0.0250 - acc: 0.9980 - val_loss: 0.8557 - val_acc: 0.9050\n",
            "Epoch 94/100\n",
            "2000/2000 [==============================] - 1s 387us/step - loss: 0.0253 - acc: 0.9980 - val_loss: 0.8373 - val_acc: 0.9090\n",
            "Epoch 95/100\n",
            "2000/2000 [==============================] - 1s 387us/step - loss: 0.0274 - acc: 0.9980 - val_loss: 0.8414 - val_acc: 0.9080\n",
            "Epoch 96/100\n",
            "2000/2000 [==============================] - 1s 390us/step - loss: 0.0248 - acc: 0.9980 - val_loss: 0.8497 - val_acc: 0.9080\n",
            "Epoch 97/100\n",
            "2000/2000 [==============================] - 1s 387us/step - loss: 0.0310 - acc: 0.9970 - val_loss: 0.8382 - val_acc: 0.9100\n",
            "Epoch 98/100\n",
            "2000/2000 [==============================] - 1s 387us/step - loss: 0.0243 - acc: 0.9985 - val_loss: 0.8128 - val_acc: 0.9070\n",
            "Epoch 99/100\n",
            "2000/2000 [==============================] - 1s 389us/step - loss: 0.0244 - acc: 0.9985 - val_loss: 0.8293 - val_acc: 0.9100\n",
            "Epoch 100/100\n",
            "2000/2000 [==============================] - 1s 388us/step - loss: 0.0251 - acc: 0.9980 - val_loss: 0.8095 - val_acc: 0.9070\n",
            "this takes  78.81464982032776 seconds to run\n"
          ],
          "name": "stdout"
        },
        {
          "output_type": "display_data",
          "data": {
            "image/png": "[encoded data removed]",
            "text/plain": [
              "<Figure size 576x396 with 1 Axes>"
            ]
          },
          "metadata": {
            "tags": []
          }
        },
        {
          "output_type": "display_data",
          "data": {
            "image/png": "[encoded data removed]",
            "text/plain": [
              "<Figure size 576x396 with 1 Axes>"
            ]
          },
          "metadata": {
            "tags": []
          }
        }
      ]
    },
    {
      "metadata": {
        "id": "XypsFz7bQI9w",
        "colab_type": "code",
        "outputId": "1007b085-df41-41fc-c5b2-89f0bcb3a458",
        "colab": {
          "base_uri": "https://localhost:8080/",
          "height": 51
        }
      },
      "cell_type": "code",
      "source": [
        "model=models.Sequential()\n",
        "model.add(conv_base)\n",
        "model.add(layers.Flatten())\n",
        "model.add(layers.Dense(256,activation='relu'))\n",
        "model.add(layers.Dense(1,activation='sigmoid'))\n",
        "\n",
        "conv_base.trainable=False ###FREEZE THE VGG16 CONVOLUTIONAL BASE\n",
        "\n",
        "train_datagen=ImageDataGenerator(rescale=1./255,\n",
        "                                 rotation_range=40,\n",
        "                           width_shift_range=0.2,\n",
        "                           height_shift_range=.2,\n",
        "                           shear_range=.2,\n",
        "                           zoom_range=.2,\n",
        "                           horizontal_flip=True,\n",
        "                           fill_mode='nearest')\n",
        "test_datagen=ImageDataGenerator(rescale=1./255) ###Not using augmented data for testing\n",
        "\n",
        "\n",
        "train_generator=train_datagen.flow_from_directory(train_dir,target_size=(150,150),batch_size=20,class_mode='binary')\n",
        "validation_generator=test_datagen.flow_from_directory(validation_dir,target_size=(150,150),batch_size=20,class_mode='binary')\n",
        "model.compile(optimizer=optimizers.RMSprop(lr=2e-5),loss='binary_crossentropy',metrics=['acc'])\n",
        "\n"
      ],
      "execution_count": 15,
      "outputs": [
        {
          "output_type": "stream",
          "text": [
            "Found 2000 images belonging to 2 classes.\n",
            "Found 1000 images belonging to 2 classes.\n"
          ],
          "name": "stdout"
        }
      ]
    },
    {
      "metadata": {
        "id": "y6JzcFT_-ogm",
        "colab_type": "code",
        "outputId": "47354fa0-6340-4e4d-885f-c2c1074a3d0a",
        "colab": {
          "base_uri": "https://localhost:8080/",
          "height": 34
        }
      },
      "cell_type": "code",
      "source": [
        "\n",
        "print(\"This is the number of trainable weights:\",len(model.trainable_weights))"
      ],
      "execution_count": 16,
      "outputs": [
        {
          "output_type": "stream",
          "text": [
            "This is the number of trainable weights: 4\n"
          ],
          "name": "stdout"
        }
      ]
    },
    {
      "metadata": {
        "id": "mtAjHQiBa2eL",
        "colab_type": "code",
        "outputId": "00d0f4a4-d4c5-454c-b5b1-3ff428635e7a",
        "colab": {
          "base_uri": "https://localhost:8080/",
          "height": 1744
        }
      },
      "cell_type": "code",
      "source": [
        "import time\n",
        "start=time.time()\n",
        "history=model.fit_generator(train_generator,steps_per_epoch=100,epochs=30,validation_data=(validation_generator),validation_steps=50)\n",
        "end=time.time()\n",
        "print('this takes ',np.subtract(end,start),\"seconds to run\")\n",
        "\n",
        "\n",
        "##PLOT THE ACCURACY AND LOSS\n",
        "acc=history.history['acc']\n",
        "val_acc=history.history['val_acc']\n",
        "loss=history.history['loss']\n",
        "val_loss=history.history['val_loss']\n",
        "epochs=range(1,len(acc)+1)\n",
        "\n",
        "plt.plot(epochs,acc,'bo',label='Training Acc')\n",
        "plt.plot(epochs,val_acc,'b',label=\"Validation Acc\")\n",
        "plt.title(\"Training and validation accuracy\")\n",
        "plt.legend()\n",
        "\n",
        "plt.figure()\n",
        "plt.plot(epochs,loss,'bo',label=\"Training Loss\")\n",
        "plt.plot(epochs,val_loss,'b',label='Validation Loss')\n",
        "plt.title(\"Training and Val Loss\")\n",
        "plt.legend()\n",
        "\n",
        "plt.show()"
      ],
      "execution_count": 17,
      "outputs": [
        {
          "output_type": "stream",
          "text": [
            "Epoch 1/30\n",
            "100/100 [==============================] - 31s 313ms/step - loss: 0.5973 - acc: 0.6775 - val_loss: 0.4568 - val_acc: 0.8260\n",
            "Epoch 2/30\n",
            "100/100 [==============================] - 29s 290ms/step - loss: 0.4758 - acc: 0.7840 - val_loss: 0.3681 - val_acc: 0.8540\n",
            "Epoch 3/30\n",
            "100/100 [==============================] - 29s 291ms/step - loss: 0.4402 - acc: 0.8045 - val_loss: 0.3279 - val_acc: 0.8660\n",
            "Epoch 4/30\n",
            "100/100 [==============================] - 29s 290ms/step - loss: 0.4041 - acc: 0.8275 - val_loss: 0.3124 - val_acc: 0.8770\n",
            "Epoch 5/30\n",
            "100/100 [==============================] - 29s 290ms/step - loss: 0.3783 - acc: 0.8400 - val_loss: 0.2927 - val_acc: 0.8800\n",
            "Epoch 6/30\n",
            "100/100 [==============================] - 29s 290ms/step - loss: 0.3688 - acc: 0.8345 - val_loss: 0.2888 - val_acc: 0.8880\n",
            "Epoch 7/30\n",
            "100/100 [==============================] - 29s 291ms/step - loss: 0.3640 - acc: 0.8340 - val_loss: 0.2802 - val_acc: 0.8810\n",
            "Epoch 8/30\n",
            "100/100 [==============================] - 29s 291ms/step - loss: 0.3577 - acc: 0.8405 - val_loss: 0.2672 - val_acc: 0.8900\n",
            "Epoch 9/30\n",
            "100/100 [==============================] - 29s 290ms/step - loss: 0.3542 - acc: 0.8550 - val_loss: 0.2610 - val_acc: 0.8940\n",
            "Epoch 10/30\n",
            "100/100 [==============================] - 29s 290ms/step - loss: 0.3384 - acc: 0.8575 - val_loss: 0.2598 - val_acc: 0.8950\n",
            "Epoch 11/30\n",
            "100/100 [==============================] - 29s 290ms/step - loss: 0.3203 - acc: 0.8700 - val_loss: 0.2569 - val_acc: 0.8930\n",
            "Epoch 12/30\n",
            "100/100 [==============================] - 29s 291ms/step - loss: 0.3175 - acc: 0.8600 - val_loss: 0.2818 - val_acc: 0.8780\n",
            "Epoch 13/30\n",
            "100/100 [==============================] - 29s 290ms/step - loss: 0.3150 - acc: 0.8600 - val_loss: 0.2548 - val_acc: 0.8960\n",
            "Epoch 14/30\n",
            "100/100 [==============================] - 29s 289ms/step - loss: 0.3148 - acc: 0.8610 - val_loss: 0.2614 - val_acc: 0.8900\n",
            "Epoch 15/30\n",
            "100/100 [==============================] - 29s 291ms/step - loss: 0.3179 - acc: 0.8585 - val_loss: 0.2561 - val_acc: 0.8960\n",
            "Epoch 16/30\n",
            "100/100 [==============================] - 29s 290ms/step - loss: 0.3200 - acc: 0.8555 - val_loss: 0.2627 - val_acc: 0.8910\n",
            "Epoch 17/30\n",
            "100/100 [==============================] - 29s 290ms/step - loss: 0.3126 - acc: 0.8550 - val_loss: 0.2436 - val_acc: 0.9030\n",
            "Epoch 18/30\n",
            "100/100 [==============================] - 29s 290ms/step - loss: 0.3027 - acc: 0.8645 - val_loss: 0.2412 - val_acc: 0.9050\n",
            "Epoch 19/30\n",
            "100/100 [==============================] - 29s 289ms/step - loss: 0.2999 - acc: 0.8705 - val_loss: 0.2436 - val_acc: 0.9030\n",
            "Epoch 20/30\n",
            "100/100 [==============================] - 29s 289ms/step - loss: 0.3088 - acc: 0.8590 - val_loss: 0.2719 - val_acc: 0.8840\n",
            "Epoch 21/30\n",
            "100/100 [==============================] - 29s 290ms/step - loss: 0.2919 - acc: 0.8810 - val_loss: 0.2430 - val_acc: 0.9030\n",
            "Epoch 22/30\n",
            "100/100 [==============================] - 29s 289ms/step - loss: 0.2867 - acc: 0.8805 - val_loss: 0.2422 - val_acc: 0.9050\n",
            "Epoch 23/30\n",
            "100/100 [==============================] - 29s 291ms/step - loss: 0.3043 - acc: 0.8645 - val_loss: 0.2443 - val_acc: 0.9020\n",
            "Epoch 24/30\n",
            "100/100 [==============================] - 29s 289ms/step - loss: 0.2977 - acc: 0.8775 - val_loss: 0.2419 - val_acc: 0.9030\n",
            "Epoch 25/30\n",
            "100/100 [==============================] - 29s 289ms/step - loss: 0.2927 - acc: 0.8745 - val_loss: 0.2429 - val_acc: 0.9020\n",
            "Epoch 26/30\n",
            "100/100 [==============================] - 29s 288ms/step - loss: 0.3151 - acc: 0.8595 - val_loss: 0.2410 - val_acc: 0.9010\n",
            "Epoch 27/30\n",
            "100/100 [==============================] - 29s 288ms/step - loss: 0.2843 - acc: 0.8755 - val_loss: 0.2410 - val_acc: 0.9010\n",
            "Epoch 28/30\n",
            "100/100 [==============================] - 29s 288ms/step - loss: 0.2927 - acc: 0.8735 - val_loss: 0.2384 - val_acc: 0.9020\n",
            "Epoch 29/30\n",
            "100/100 [==============================] - 29s 289ms/step - loss: 0.2731 - acc: 0.8835 - val_loss: 0.2413 - val_acc: 0.9060\n",
            "Epoch 30/30\n",
            "100/100 [==============================] - 29s 288ms/step - loss: 0.2826 - acc: 0.8795 - val_loss: 0.2499 - val_acc: 0.8970\n",
            "this takes  871.9215922355652 seconds to run\n"
          ],
          "name": "stdout"
        },
        {
          "output_type": "display_data",
          "data": {
            "image/png": "[encoded data removed]",
            "text/plain": [
              "<Figure size 576x396 with 1 Axes>"
            ]
          },
          "metadata": {
            "tags": []
          }
        },
        {
          "output_type": "display_data",
          "data": {
            "image/png": "[encoded data removed]",
            "text/plain": [
              "<Figure size 576x396 with 1 Axes>"
            ]
          },
          "metadata": {
            "tags": []
          }
        }
      ]
    },
    {
      "metadata": {
        "id": "rYIito6vfGOz",
        "colab_type": "code",
        "outputId": "db8ec6ce-8404-415b-9095-1183b6ad3467",
        "colab": {
          "base_uri": "https://localhost:8080/",
          "height": 1054
        }
      },
      "cell_type": "code",
      "source": [
        "#####FINE TUNING MODEL.  LEAVE MOST OF THE PRETRAINED CONVOLUTION LAYER IN TACT EXCEPT FOR TOP LAYER\n",
        "\n",
        "conv_base.trainable=True\n",
        "set_trainable=False\n",
        "for layer in conv_base.layers:\n",
        "  if layer.name=='block5_conv1':\n",
        "    set_trainable=True\n",
        "  if set_trainable:\n",
        "    layer.trainable=True\n",
        "  else:\n",
        "    layer.trainable=False\n",
        "    \n",
        "model.compile(loss='binary_crossentropy',optimizer=optimizers.RMSprop(lr=1e-5),metrics=['acc'])\n",
        "\n",
        "start=time.time()\n",
        "history=model.fit_generator(train_generator,steps_per_epoch=100,epochs=30,validation_data=validation_generator,validation_steps=50)\n",
        "end=time.time()\n",
        "print(\"This took \",end-start,\" seconds to run\")\n"
      ],
      "execution_count": 19,
      "outputs": [
        {
          "output_type": "stream",
          "text": [
            "Epoch 1/30\n",
            "100/100 [==============================] - 33s 329ms/step - loss: 0.2609 - acc: 0.8850 - val_loss: 0.2200 - val_acc: 0.9090\n",
            "Epoch 2/30\n",
            "100/100 [==============================] - 30s 297ms/step - loss: 0.2626 - acc: 0.8820 - val_loss: 0.1826 - val_acc: 0.9270\n",
            "Epoch 3/30\n",
            "100/100 [==============================] - 30s 297ms/step - loss: 0.2355 - acc: 0.8980 - val_loss: 0.2862 - val_acc: 0.8910\n",
            "Epoch 4/30\n",
            "100/100 [==============================] - 30s 297ms/step - loss: 0.2047 - acc: 0.9135 - val_loss: 0.1879 - val_acc: 0.9330\n",
            "Epoch 5/30\n",
            "100/100 [==============================] - 30s 296ms/step - loss: 0.2020 - acc: 0.9175 - val_loss: 0.2164 - val_acc: 0.9170\n",
            "Epoch 6/30\n",
            "100/100 [==============================] - 30s 298ms/step - loss: 0.1724 - acc: 0.9310 - val_loss: 0.2361 - val_acc: 0.9140\n",
            "Epoch 7/30\n",
            "100/100 [==============================] - 30s 297ms/step - loss: 0.1833 - acc: 0.9260 - val_loss: 0.1779 - val_acc: 0.9220\n",
            "Epoch 8/30\n",
            "100/100 [==============================] - 30s 297ms/step - loss: 0.1601 - acc: 0.9410 - val_loss: 0.2352 - val_acc: 0.9200\n",
            "Epoch 9/30\n",
            "100/100 [==============================] - 30s 297ms/step - loss: 0.1706 - acc: 0.9325 - val_loss: 0.2052 - val_acc: 0.9290\n",
            "Epoch 10/30\n",
            "100/100 [==============================] - 30s 297ms/step - loss: 0.1371 - acc: 0.9435 - val_loss: 0.1884 - val_acc: 0.9310\n",
            "Epoch 11/30\n",
            "100/100 [==============================] - 30s 297ms/step - loss: 0.1335 - acc: 0.9495 - val_loss: 0.1887 - val_acc: 0.9260\n",
            "Epoch 12/30\n",
            "100/100 [==============================] - 30s 298ms/step - loss: 0.1366 - acc: 0.9485 - val_loss: 0.2018 - val_acc: 0.9310\n",
            "Epoch 13/30\n",
            "100/100 [==============================] - 30s 296ms/step - loss: 0.1348 - acc: 0.9410 - val_loss: 0.1664 - val_acc: 0.9260\n",
            "Epoch 14/30\n",
            "100/100 [==============================] - 30s 296ms/step - loss: 0.1169 - acc: 0.9485 - val_loss: 0.2220 - val_acc: 0.9260\n",
            "Epoch 15/30\n",
            "100/100 [==============================] - 30s 296ms/step - loss: 0.1249 - acc: 0.9540 - val_loss: 0.2177 - val_acc: 0.9330\n",
            "Epoch 16/30\n",
            "100/100 [==============================] - 29s 295ms/step - loss: 0.1195 - acc: 0.9490 - val_loss: 0.1860 - val_acc: 0.9180\n",
            "Epoch 17/30\n",
            "100/100 [==============================] - 30s 297ms/step - loss: 0.1100 - acc: 0.9610 - val_loss: 0.2333 - val_acc: 0.9210\n",
            "Epoch 18/30\n",
            "100/100 [==============================] - 30s 297ms/step - loss: 0.1050 - acc: 0.9620 - val_loss: 0.1836 - val_acc: 0.9390\n",
            "Epoch 19/30\n",
            "100/100 [==============================] - 30s 296ms/step - loss: 0.0963 - acc: 0.9650 - val_loss: 0.1756 - val_acc: 0.9340\n",
            "Epoch 20/30\n",
            "100/100 [==============================] - 30s 296ms/step - loss: 0.0930 - acc: 0.9590 - val_loss: 0.2143 - val_acc: 0.9300\n",
            "Epoch 21/30\n",
            "100/100 [==============================] - 29s 295ms/step - loss: 0.0867 - acc: 0.9665 - val_loss: 0.1944 - val_acc: 0.9410\n",
            "Epoch 22/30\n",
            "100/100 [==============================] - 30s 298ms/step - loss: 0.0863 - acc: 0.9660 - val_loss: 0.1948 - val_acc: 0.9330\n",
            "Epoch 23/30\n",
            "100/100 [==============================] - 30s 297ms/step - loss: 0.0846 - acc: 0.9685 - val_loss: 0.1964 - val_acc: 0.9320\n",
            "Epoch 24/30\n",
            "100/100 [==============================] - 29s 295ms/step - loss: 0.0796 - acc: 0.9650 - val_loss: 0.1995 - val_acc: 0.9320\n",
            "Epoch 25/30\n",
            "100/100 [==============================] - 30s 296ms/step - loss: 0.0747 - acc: 0.9710 - val_loss: 0.1500 - val_acc: 0.9490\n",
            "Epoch 26/30\n",
            "100/100 [==============================] - 30s 295ms/step - loss: 0.0730 - acc: 0.9715 - val_loss: 0.2106 - val_acc: 0.9380\n",
            "Epoch 27/30\n",
            "100/100 [==============================] - 30s 298ms/step - loss: 0.0787 - acc: 0.9685 - val_loss: 0.1528 - val_acc: 0.9410\n",
            "Epoch 28/30\n",
            "100/100 [==============================] - 30s 296ms/step - loss: 0.0806 - acc: 0.9745 - val_loss: 0.2245 - val_acc: 0.9330\n",
            "Epoch 29/30\n",
            "100/100 [==============================] - 30s 295ms/step - loss: 0.0717 - acc: 0.9710 - val_loss: 0.1641 - val_acc: 0.9370\n",
            "Epoch 30/30\n",
            "100/100 [==============================] - 30s 297ms/step - loss: 0.0613 - acc: 0.9810 - val_loss: 0.1652 - val_acc: 0.9460\n",
            "This took  893.6757597923279  seconds to run\n"
          ],
          "name": "stdout"
        }
      ]
    },
    {
      "metadata": {
        "id": "XxK3IG-jBcB7",
        "colab_type": "code",
        "colab": {
          "base_uri": "https://localhost:8080/",
          "height": 51
        },
        "outputId": "63bca04c-8c25-4281-e4ed-5f55f0bac683"
      },
      "cell_type": "code",
      "source": [
        "\n",
        "####CAN FINALLY EVALUATE THE MODEL ON THE TEST DATASET\n",
        "test_generator=test_datagen.flow_from_directory(test_dir,target_size=(150,150),batch_size=20,class_mode='binary')\n",
        "test_loss,test_acc=model.evaluate_generator(test_generator,steps=50)\n",
        "print('test_acc:',test_acc)"
      ],
      "execution_count": 20,
      "outputs": [
        {
          "output_type": "stream",
          "text": [
            "Found 1000 images belonging to 2 classes.\n",
            "test_acc: 0.933999992609024\n"
          ],
          "name": "stdout"
        }
      ]
    },
    {
      "metadata": {
        "id": "eGs6xtmtlH-G",
        "colab_type": "code",
        "colab": {}
      },
      "cell_type": "code",
      "source": [
        "model.save(\"catsanddogs.h5\")"
      ],
      "execution_count": 0,
      "outputs": []
    },
    {
      "metadata": {
        "id": "JPo5W8Zx2BIJ",
        "colab_type": "code",
        "colab": {}
      },
      "cell_type": "code",
      "source": [
        "class car:\n",
        "  def __init__(self,make, color, year):\n",
        "    self.make=make\n",
        "    self.color=color\n",
        "    self.year=year\n",
        "    "
      ],
      "execution_count": 0,
      "outputs": []
    },
    {
      "metadata": {
        "id": "iD5WPlJZlGJq",
        "colab_type": "text"
      },
      "cell_type": "markdown",
      "source": [
        ""
      ]
    },
    {
      "metadata": {
        "id": "Jiu_Qg3O3G4D",
        "colab_type": "code",
        "colab": {}
      },
      "cell_type": "code",
      "source": [
        "p1=car(\"Honda\",\"red\",1999)"
      ],
      "execution_count": 0,
      "outputs": []
    },
    {
      "metadata": {
        "id": "wuqsDSe33M4M",
        "colab_type": "code",
        "outputId": "c9aa13c9-0d91-42a5-a708-395cf346fb46",
        "colab": {
          "base_uri": "https://localhost:8080/",
          "height": 34
        }
      },
      "cell_type": "code",
      "source": [
        "print(p1.year)"
      ],
      "execution_count": 0,
      "outputs": [
        {
          "output_type": "stream",
          "text": [
            "1999\n"
          ],
          "name": "stdout"
        }
      ]
    },
    {
      "metadata": {
        "id": "x6H7axEb3P-4",
        "colab_type": "code",
        "colab": {}
      },
      "cell_type": "code",
      "source": [
        ""
      ],
      "execution_count": 0,
      "outputs": []
    }
  ]
}