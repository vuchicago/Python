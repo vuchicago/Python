{
  "nbformat": 4,
  "nbformat_minor": 0,
  "metadata": {
    "colab": {
      "name": "Cement_Forecasting_LSTM.ipynb",
      "provenance": [],
      "collapsed_sections": [],
      "include_colab_link": true
    },
    "kernelspec": {
      "name": "python3",
      "display_name": "Python 3"
    },
    "accelerator": "GPU"
  },
  "cells": [
    {
      "cell_type": "markdown",
      "metadata": {
        "id": "view-in-github",
        "colab_type": "text"
      },
      "source": [
        "<a href=\"https://colab.research.google.com/github/vuchicago/Python/blob/master/Cement_Forecasting_LSTM_v2.ipynb\" target=\"_parent\"><img src=\"https://colab.research.google.com/assets/colab-badge.svg\" alt=\"Open In Colab\"/></a>"
      ]
    },
    {
      "cell_type": "code",
      "metadata": {
        "id": "4HQjZqTubuLh",
        "colab_type": "code",
        "outputId": "c0bb98a2-ab81-4473-a9a2-22e2783e6fc4",
        "colab": {
          "base_uri": "https://localhost:8080/",
          "height": 34
        }
      },
      "source": [
        "####MOUNT DRIVE\n",
        "from google.colab import drive\n",
        "drive.mount('/content/gdrive',force_remount=True)\n"
      ],
      "execution_count": 9,
      "outputs": [
        {
          "output_type": "stream",
          "text": [
            "Mounted at /content/gdrive\n"
          ],
          "name": "stdout"
        }
      ]
    },
    {
      "cell_type": "code",
      "metadata": {
        "id": "N-jIizZ1dqRL",
        "colab_type": "code",
        "outputId": "5f29bdfb-e1df-45d0-9eae-fa4f34b8fdde",
        "colab": {
          "base_uri": "https://localhost:8080/",
          "height": 564
        }
      },
      "source": [
        "!pip install tensorflow==2.0.0b1"
      ],
      "execution_count": 2,
      "outputs": [
        {
          "output_type": "stream",
          "text": [
            "Collecting tensorflow==2.0.0b1\n",
            "\u001b[?25l  Downloading https://files.pythonhosted.org/packages/29/6c/2c9a5c4d095c63c2fb37d20def0e4f92685f7aee9243d6aae25862694fd1/tensorflow-2.0.0b1-cp36-cp36m-manylinux1_x86_64.whl (87.9MB)\n",
            "\u001b[K     |████████████████████████████████| 87.9MB 46kB/s \n",
            "\u001b[?25hRequirement already satisfied: gast>=0.2.0 in /usr/local/lib/python3.6/dist-packages (from tensorflow==2.0.0b1) (0.2.2)\n",
            "Requirement already satisfied: keras-preprocessing>=1.0.5 in /usr/local/lib/python3.6/dist-packages (from tensorflow==2.0.0b1) (1.1.0)\n",
            "Requirement already satisfied: keras-applications>=1.0.6 in /usr/local/lib/python3.6/dist-packages (from tensorflow==2.0.0b1) (1.0.8)\n",
            "Requirement already satisfied: termcolor>=1.1.0 in /usr/local/lib/python3.6/dist-packages (from tensorflow==2.0.0b1) (1.1.0)\n",
            "Requirement already satisfied: six>=1.10.0 in /usr/local/lib/python3.6/dist-packages (from tensorflow==2.0.0b1) (1.12.0)\n",
            "Collecting tf-estimator-nightly<1.14.0.dev2019060502,>=1.14.0.dev2019060501\n",
            "\u001b[?25l  Downloading https://files.pythonhosted.org/packages/32/dd/99c47dd007dcf10d63fd895611b063732646f23059c618a373e85019eb0e/tf_estimator_nightly-1.14.0.dev2019060501-py2.py3-none-any.whl (496kB)\n",
            "\u001b[K     |████████████████████████████████| 501kB 70.6MB/s \n",
            "\u001b[?25hRequirement already satisfied: absl-py>=0.7.0 in /usr/local/lib/python3.6/dist-packages (from tensorflow==2.0.0b1) (0.9.0)\n",
            "Requirement already satisfied: numpy<2.0,>=1.14.5 in /usr/local/lib/python3.6/dist-packages (from tensorflow==2.0.0b1) (1.17.5)\n",
            "Requirement already satisfied: google-pasta>=0.1.6 in /usr/local/lib/python3.6/dist-packages (from tensorflow==2.0.0b1) (0.1.8)\n",
            "Requirement already satisfied: grpcio>=1.8.6 in /usr/local/lib/python3.6/dist-packages (from tensorflow==2.0.0b1) (1.27.1)\n",
            "Collecting tb-nightly<1.14.0a20190604,>=1.14.0a20190603\n",
            "\u001b[?25l  Downloading https://files.pythonhosted.org/packages/a4/96/571b875cd81dda9d5dfa1422a4f9d749e67c0a8d4f4f0b33a4e5f5f35e27/tb_nightly-1.14.0a20190603-py3-none-any.whl (3.1MB)\n",
            "\u001b[K     |████████████████████████████████| 3.1MB 32.9MB/s \n",
            "\u001b[?25hRequirement already satisfied: astor>=0.6.0 in /usr/local/lib/python3.6/dist-packages (from tensorflow==2.0.0b1) (0.8.1)\n",
            "Requirement already satisfied: wheel>=0.26 in /usr/local/lib/python3.6/dist-packages (from tensorflow==2.0.0b1) (0.34.2)\n",
            "Requirement already satisfied: wrapt>=1.11.1 in /usr/local/lib/python3.6/dist-packages (from tensorflow==2.0.0b1) (1.11.2)\n",
            "Requirement already satisfied: protobuf>=3.6.1 in /usr/local/lib/python3.6/dist-packages (from tensorflow==2.0.0b1) (3.10.0)\n",
            "Requirement already satisfied: h5py in /usr/local/lib/python3.6/dist-packages (from keras-applications>=1.0.6->tensorflow==2.0.0b1) (2.8.0)\n",
            "Requirement already satisfied: werkzeug>=0.11.15 in /usr/local/lib/python3.6/dist-packages (from tb-nightly<1.14.0a20190604,>=1.14.0a20190603->tensorflow==2.0.0b1) (1.0.0)\n",
            "Requirement already satisfied: markdown>=2.6.8 in /usr/local/lib/python3.6/dist-packages (from tb-nightly<1.14.0a20190604,>=1.14.0a20190603->tensorflow==2.0.0b1) (3.2.1)\n",
            "Requirement already satisfied: setuptools>=41.0.0 in /usr/local/lib/python3.6/dist-packages (from tb-nightly<1.14.0a20190604,>=1.14.0a20190603->tensorflow==2.0.0b1) (45.2.0)\n",
            "Installing collected packages: tf-estimator-nightly, tb-nightly, tensorflow\n",
            "  Found existing installation: tensorflow 1.15.0\n",
            "    Uninstalling tensorflow-1.15.0:\n",
            "      Successfully uninstalled tensorflow-1.15.0\n",
            "Successfully installed tb-nightly-1.14.0a20190603 tensorflow-2.0.0b1 tf-estimator-nightly-1.14.0.dev2019060501\n"
          ],
          "name": "stdout"
        }
      ]
    },
    {
      "cell_type": "code",
      "metadata": {
        "id": "Kf8pxbrQcBJ5",
        "colab_type": "code",
        "colab": {}
      },
      "source": [
        "import os\n",
        "\n",
        "import tensorflow as tf\n",
        "import pandas as pd\n",
        "import numpy as np\n",
        "import matplotlib as mpl\n",
        "from matplotlib import pyplot as plt\n",
        "from datetime import datetime as dt\n",
        "\n",
        "base_dir=\"/content/gdrive/My Drive/Python/Forecasting\"\n",
        "\n",
        "os.chdir(base_dir)"
      ],
      "execution_count": 0,
      "outputs": []
    },
    {
      "cell_type": "code",
      "metadata": {
        "id": "ZJV48IOscNnG",
        "colab_type": "code",
        "outputId": "3e9e8012-a384-4a91-fecc-8721cd4f9aa8",
        "colab": {
          "base_uri": "https://localhost:8080/",
          "height": 34
        }
      },
      "source": [
        "tf.__version__"
      ],
      "execution_count": 11,
      "outputs": [
        {
          "output_type": "execute_result",
          "data": {
            "text/plain": [
              "'2.0.0-beta1'"
            ]
          },
          "metadata": {
            "tags": []
          },
          "execution_count": 11
        }
      ]
    },
    {
      "cell_type": "code",
      "metadata": {
        "id": "nTAzf8E4cQZC",
        "colab_type": "code",
        "colab": {}
      },
      "source": [
        "Cement=pd.read_csv('Cement_sales.csv', thousands=',')\n",
        "Cement[\"Billing Date\"]=pd.to_datetime(Cement[\"Billing Date\"])\n",
        "Cement=Cement.set_index(\"Billing Date\")\n",
        "Cement=Cement.drop('Sales Office',axis=1)\n",
        "Cement=Cement.replace(np.NaN,0)\n"
      ],
      "execution_count": 0,
      "outputs": []
    },
    {
      "cell_type": "code",
      "metadata": {
        "id": "AFtM3s_1oGnS",
        "colab_type": "code",
        "colab": {}
      },
      "source": [
        "Cement_mean=dict(Cement.mean())\n",
        "Cement_std=dict(Cement.std())\n"
      ],
      "execution_count": 0,
      "outputs": []
    },
    {
      "cell_type": "code",
      "metadata": {
        "id": "w2ADSZFiQglX",
        "colab_type": "code",
        "outputId": "d7a2856f-7f32-4765-aba5-73eb73efaa47",
        "colab": {
          "base_uri": "https://localhost:8080/",
          "height": 71
        }
      },
      "source": [
        "print(Cement_std)\n",
        "print(Cement_mean)"
      ],
      "execution_count": 0,
      "outputs": [
        {
          "output_type": "stream",
          "text": [
            "{'Total': 29207.358318457624, 'Midwest Region': 7991.846749749277, 'Mountain': 3187.293212468809, 'Southern Region': 5578.148962131978, 'TX/OK': 4200.964373238681, 'Northeast': 4885.22192903588, 'HUS Trade Sales': 2352.576372885502, 'North Central Region': 4502.359784417358, 'Inside Sales': 191.2214871490192}\n",
            "{'Total': 43407.42086586231, 'Midwest Region': 9549.119533527697, 'Mountain': 5659.755378486056, 'Southern Region': 9151.198146828225, 'TX/OK': 7061.257754800591, 'Northeast': 7047.133283693224, 'HUS Trade Sales': 1448.2647554806072, 'North Central Region': 5819.326071169208, 'Inside Sales': 271.3793445878848}\n"
          ],
          "name": "stdout"
        }
      ]
    },
    {
      "cell_type": "code",
      "metadata": {
        "id": "0cFVwmWBovrT",
        "colab_type": "code",
        "colab": {}
      },
      "source": [
        "for i in Cement.columns:\n",
        "  Cement[i]=(Cement[i]-Cement_mean[i])/Cement_std[i]\n",
        "\n"
      ],
      "execution_count": 0,
      "outputs": []
    },
    {
      "cell_type": "code",
      "metadata": {
        "id": "P2ibqokKpOfJ",
        "colab_type": "code",
        "outputId": "7c87966f-a66d-4e84-ba1e-8f16a3133809",
        "colab": {
          "base_uri": "https://localhost:8080/",
          "height": 435
        }
      },
      "source": [
        "Cement"
      ],
      "execution_count": 0,
      "outputs": [
        {
          "output_type": "execute_result",
          "data": {
            "text/html": [
              "<div>\n",
              "<style scoped>\n",
              "    .dataframe tbody tr th:only-of-type {\n",
              "        vertical-align: middle;\n",
              "    }\n",
              "\n",
              "    .dataframe tbody tr th {\n",
              "        vertical-align: top;\n",
              "    }\n",
              "\n",
              "    .dataframe thead th {\n",
              "        text-align: right;\n",
              "    }\n",
              "</style>\n",
              "<table border=\"1\" class=\"dataframe\">\n",
              "  <thead>\n",
              "    <tr style=\"text-align: right;\">\n",
              "      <th></th>\n",
              "      <th>Total</th>\n",
              "      <th>Midwest Region</th>\n",
              "      <th>Mountain</th>\n",
              "      <th>Southern Region</th>\n",
              "      <th>TX/OK</th>\n",
              "      <th>Northeast</th>\n",
              "      <th>HUS Trade Sales</th>\n",
              "      <th>North Central Region</th>\n",
              "      <th>Inside Sales</th>\n",
              "    </tr>\n",
              "    <tr>\n",
              "      <th>Billing Date</th>\n",
              "      <th></th>\n",
              "      <th></th>\n",
              "      <th></th>\n",
              "      <th></th>\n",
              "      <th></th>\n",
              "      <th></th>\n",
              "      <th></th>\n",
              "      <th></th>\n",
              "      <th></th>\n",
              "    </tr>\n",
              "  </thead>\n",
              "  <tbody>\n",
              "    <tr>\n",
              "      <th>2016-01-01</th>\n",
              "      <td>70</td>\n",
              "      <td>0.0</td>\n",
              "      <td>24.0</td>\n",
              "      <td>0.0</td>\n",
              "      <td>22.0</td>\n",
              "      <td>0.0</td>\n",
              "      <td>0.0</td>\n",
              "      <td>24.0</td>\n",
              "      <td>0.0</td>\n",
              "    </tr>\n",
              "    <tr>\n",
              "      <th>2016-01-02</th>\n",
              "      <td>652</td>\n",
              "      <td>23.0</td>\n",
              "      <td>48.0</td>\n",
              "      <td>516.0</td>\n",
              "      <td>65.0</td>\n",
              "      <td>0.0</td>\n",
              "      <td>0.0</td>\n",
              "      <td>0.0</td>\n",
              "      <td>0.0</td>\n",
              "    </tr>\n",
              "    <tr>\n",
              "      <th>2016-01-03</th>\n",
              "      <td>463</td>\n",
              "      <td>47.0</td>\n",
              "      <td>0.0</td>\n",
              "      <td>134.0</td>\n",
              "      <td>91.0</td>\n",
              "      <td>122.0</td>\n",
              "      <td>46.0</td>\n",
              "      <td>23.0</td>\n",
              "      <td>0.0</td>\n",
              "    </tr>\n",
              "    <tr>\n",
              "      <th>2016-01-04</th>\n",
              "      <td>21942</td>\n",
              "      <td>2388.0</td>\n",
              "      <td>3448.0</td>\n",
              "      <td>8284.0</td>\n",
              "      <td>4989.0</td>\n",
              "      <td>1592.0</td>\n",
              "      <td>833.0</td>\n",
              "      <td>409.0</td>\n",
              "      <td>0.0</td>\n",
              "    </tr>\n",
              "    <tr>\n",
              "      <th>2016-01-05</th>\n",
              "      <td>27139</td>\n",
              "      <td>2840.0</td>\n",
              "      <td>3246.0</td>\n",
              "      <td>10822.0</td>\n",
              "      <td>7682.0</td>\n",
              "      <td>1120.0</td>\n",
              "      <td>1026.0</td>\n",
              "      <td>404.0</td>\n",
              "      <td>0.0</td>\n",
              "    </tr>\n",
              "    <tr>\n",
              "      <th>...</th>\n",
              "      <td>...</td>\n",
              "      <td>...</td>\n",
              "      <td>...</td>\n",
              "      <td>...</td>\n",
              "      <td>...</td>\n",
              "      <td>...</td>\n",
              "      <td>...</td>\n",
              "      <td>...</td>\n",
              "      <td>...</td>\n",
              "    </tr>\n",
              "    <tr>\n",
              "      <th>2019-11-06</th>\n",
              "      <td>73943</td>\n",
              "      <td>15830.0</td>\n",
              "      <td>8652.0</td>\n",
              "      <td>17096.0</td>\n",
              "      <td>11324.0</td>\n",
              "      <td>10833.0</td>\n",
              "      <td>0.0</td>\n",
              "      <td>9812.0</td>\n",
              "      <td>395.0</td>\n",
              "    </tr>\n",
              "    <tr>\n",
              "      <th>2019-11-07</th>\n",
              "      <td>64642</td>\n",
              "      <td>17741.0</td>\n",
              "      <td>8374.0</td>\n",
              "      <td>14511.0</td>\n",
              "      <td>4978.0</td>\n",
              "      <td>10945.0</td>\n",
              "      <td>0.0</td>\n",
              "      <td>7749.0</td>\n",
              "      <td>344.0</td>\n",
              "    </tr>\n",
              "    <tr>\n",
              "      <th>2019-11-08</th>\n",
              "      <td>65359</td>\n",
              "      <td>15228.0</td>\n",
              "      <td>9602.0</td>\n",
              "      <td>15053.0</td>\n",
              "      <td>6782.0</td>\n",
              "      <td>10530.0</td>\n",
              "      <td>215.0</td>\n",
              "      <td>7758.0</td>\n",
              "      <td>191.0</td>\n",
              "    </tr>\n",
              "    <tr>\n",
              "      <th>2019-11-09</th>\n",
              "      <td>11796</td>\n",
              "      <td>2165.0</td>\n",
              "      <td>1578.0</td>\n",
              "      <td>3549.0</td>\n",
              "      <td>2895.0</td>\n",
              "      <td>764.0</td>\n",
              "      <td>0.0</td>\n",
              "      <td>844.0</td>\n",
              "      <td>0.0</td>\n",
              "    </tr>\n",
              "    <tr>\n",
              "      <th>2019-11-10</th>\n",
              "      <td>4348</td>\n",
              "      <td>381.0</td>\n",
              "      <td>235.0</td>\n",
              "      <td>1254.0</td>\n",
              "      <td>2014.0</td>\n",
              "      <td>308.0</td>\n",
              "      <td>0.0</td>\n",
              "      <td>157.0</td>\n",
              "      <td>0.0</td>\n",
              "    </tr>\n",
              "  </tbody>\n",
              "</table>\n",
              "<p>1409 rows × 9 columns</p>\n",
              "</div>"
            ],
            "text/plain": [
              "              Total  Midwest Region  ...  North Central Region  Inside Sales\n",
              "Billing Date                         ...                                    \n",
              "2016-01-01       70             0.0  ...                  24.0           0.0\n",
              "2016-01-02      652            23.0  ...                   0.0           0.0\n",
              "2016-01-03      463            47.0  ...                  23.0           0.0\n",
              "2016-01-04    21942          2388.0  ...                 409.0           0.0\n",
              "2016-01-05    27139          2840.0  ...                 404.0           0.0\n",
              "...             ...             ...  ...                   ...           ...\n",
              "2019-11-06    73943         15830.0  ...                9812.0         395.0\n",
              "2019-11-07    64642         17741.0  ...                7749.0         344.0\n",
              "2019-11-08    65359         15228.0  ...                7758.0         191.0\n",
              "2019-11-09    11796          2165.0  ...                 844.0           0.0\n",
              "2019-11-10     4348           381.0  ...                 157.0           0.0\n",
              "\n",
              "[1409 rows x 9 columns]"
            ]
          },
          "metadata": {
            "tags": []
          },
          "execution_count": 132
        }
      ]
    },
    {
      "cell_type": "code",
      "metadata": {
        "id": "RIBQSvDYcXaC",
        "colab_type": "code",
        "colab": {}
      },
      "source": [
        "def windowed_dataset(series,window_size,batch_size,shuffle_buffer):\n",
        "  series=tf.expand_dims(series,axis=-1) ##has to be a series.  Can't convert a dataframe unless it's a numpy matrix\n",
        "  dataset=tf.data.Dataset.from_tensor_slices(series) ##Turn a series into a tensorflow dataseries\n",
        "  dataset = dataset.window(window_size + 1, shift=1, drop_remainder=True) ###tf will create a window in the series \n",
        "  dataset = dataset.flat_map(lambda window: window.batch(window_size + 1))\n",
        "  dataset = dataset.shuffle(shuffle_buffer).map(lambda window: (window[:-1], window[-1:])) #All but the last entry; The last entry\n",
        "  dataset = dataset.batch(batch_size).prefetch(1)\n",
        "  return dataset"
      ],
      "execution_count": 0,
      "outputs": []
    },
    {
      "cell_type": "code",
      "metadata": {
        "id": "gCR8jXEioq9N",
        "colab_type": "code",
        "colab": {}
      },
      "source": [
        "def windowed_dataset_1(series,window_size,batch_size,shuffle_buffer):\n",
        "  series=tf.expand_dims(series,axis=-1) ##has to be a series.  Can't convert a dataframe unless it's a numpy matrix\n",
        "  dataset=tf.data.Dataset.from_tensor_slices(series) ##Turn a series into a tensorflow dataseries\n",
        "  dataset = dataset.window(window_size + 1, shift=1, drop_remainder=True) ###tf will create a window in the series \n",
        "  dataset = dataset.flat_map(lambda window: window.batch(window_size + 1))\n",
        "  df = dataset.shuffle(shuffle_buffer).map(lambda window: (window[:-1]) )#All but the last entry; The last entry\n",
        "  return df"
      ],
      "execution_count": 0,
      "outputs": []
    },
    {
      "cell_type": "code",
      "metadata": {
        "id": "oS4Ru21Kun3y",
        "colab_type": "code",
        "colab": {}
      },
      "source": [
        "a=windowed_dataset_1(Cement[\"Total\"],window_size,batch_size,shuffle_buffer_size)"
      ],
      "execution_count": 0,
      "outputs": []
    },
    {
      "cell_type": "code",
      "metadata": {
        "id": "f37pDthtXnca",
        "colab_type": "code",
        "colab": {}
      },
      "source": [
        "check=tf.data.Dataset.from_tensor_slices([])\n",
        "for col in Cement:\n",
        "  df=windowed_dataset_1(Cement[col],window_size,batch_size,shuffle_buffer_size)\n",
        "\n",
        "return check\n"
      ],
      "execution_count": 0,
      "outputs": []
    },
    {
      "cell_type": "code",
      "metadata": {
        "id": "HPqQKEkoXYa4",
        "colab_type": "code",
        "outputId": "59604bd2-929f-481f-e178-7c55ed224103",
        "colab": {
          "base_uri": "https://localhost:8080/",
          "height": 34
        }
      },
      "source": [
        "tf.data.Dataset.from_tensor_slices([])"
      ],
      "execution_count": 0,
      "outputs": [
        {
          "output_type": "execute_result",
          "data": {
            "text/plain": [
              "<TensorSliceDataset shapes: (), types: tf.float32>"
            ]
          },
          "metadata": {
            "tags": []
          },
          "execution_count": 24
        }
      ]
    },
    {
      "cell_type": "code",
      "metadata": {
        "id": "RhfmlXhfZB0H",
        "colab_type": "code",
        "outputId": "0c6173dc-d617-4e63-eb28-0d55e60022e8",
        "colab": {
          "base_uri": "https://localhost:8080/",
          "height": 34
        }
      },
      "source": [
        "for i in check:\n",
        "  print(i[-1:])"
      ],
      "execution_count": 0,
      "outputs": [
        {
          "output_type": "stream",
          "text": [
            "tf.Tensor([[4348.  381.  235. 1254. 2014.  308.   nan  157.   nan]], shape=(1, 9), dtype=float64)\n"
          ],
          "name": "stdout"
        }
      ]
    },
    {
      "cell_type": "code",
      "metadata": {
        "id": "xdHD2WiEeE_y",
        "colab_type": "code",
        "colab": {}
      },
      "source": [
        "split_time = 1000\n",
        "time_train=Cement.index[:split_time]\n",
        "x_train = Cement[:split_time]\n",
        "time_valid=Cement.index[split_time:]\n",
        "x_valid = Cement[split_time:]\n",
        "window_size = 365\n",
        "batch_size = 10\n",
        "shuffle_buffer_size = 1000"
      ],
      "execution_count": 0,
      "outputs": []
    },
    {
      "cell_type": "code",
      "metadata": {
        "id": "Gz9zdJdE0xyk",
        "colab_type": "code",
        "outputId": "7dd4e718-f5f9-42ec-acf3-9ae6b5fa265e",
        "colab": {
          "base_uri": "https://localhost:8080/",
          "height": 404
        }
      },
      "source": [
        "plt.plot(time_train,x_train[\"Total\"])"
      ],
      "execution_count": 0,
      "outputs": [
        {
          "output_type": "stream",
          "text": [
            "/usr/local/lib/python3.6/dist-packages/pandas/plotting/_matplotlib/converter.py:103: FutureWarning: Using an implicitly registered datetime converter for a matplotlib plotting method. The converter was registered by pandas on import. Future versions of pandas will require you to explicitly register matplotlib converters.\n",
            "\n",
            "To register the converters:\n",
            "\t>>> from pandas.plotting import register_matplotlib_converters\n",
            "\t>>> register_matplotlib_converters()\n",
            "  warnings.warn(msg, FutureWarning)\n"
          ],
          "name": "stderr"
        },
        {
          "output_type": "execute_result",
          "data": {
            "text/plain": [
              "[<matplotlib.lines.Line2D at 0x7f717ed5db00>]"
            ]
          },
          "metadata": {
            "tags": []
          },
          "execution_count": 17
        },
        {
          "output_type": "display_data",
          "data": {
            "image/png": "[encoded data removed]",
            "text/plain": [
              "<Figure size 432x288 with 1 Axes>"
            ]
          },
          "metadata": {
            "tags": []
          }
        }
      ]
    },
    {
      "cell_type": "code",
      "metadata": {
        "id": "7OX15GUQcYVs",
        "colab_type": "code",
        "colab": {}
      },
      "source": [
        "df=windowed_dataset(x_train[\"Total\"],window_size,batch_size,shuffle_buffer_size)\n",
        "\n",
        "df_val=windowed_dataset(x_valid[\"Total\"],window_size,batch_size,shuffle_buffer_size)"
      ],
      "execution_count": 0,
      "outputs": []
    },
    {
      "cell_type": "markdown",
      "metadata": {
        "id": "5vikemszV_AX",
        "colab_type": "text"
      },
      "source": [
        ""
      ]
    },
    {
      "cell_type": "code",
      "metadata": {
        "id": "jEWQbvQ5pxPb",
        "colab_type": "code",
        "colab": {}
      },
      "source": [
        "for x,y in df_val:\n",
        "  print(x.numpy())\n"
      ],
      "execution_count": 0,
      "outputs": []
    },
    {
      "cell_type": "code",
      "metadata": {
        "colab_type": "code",
        "outputId": "d9be3d76-d780-4780-8d72-a641411582a1",
        "id": "_v1MuuHJTqtF",
        "colab": {
          "base_uri": "https://localhost:8080/",
          "height": 224
        }
      },
      "source": [
        "model = tf.keras.models.Sequential([\n",
        "  tf.keras.layers.Conv1D(filters=32, kernel_size=5,\n",
        "                      strides=1, padding=\"causal\",\n",
        "                      activation=\"relu\",\n",
        "                      input_shape=[None, 1]),\n",
        "  tf.keras.layers.LSTM(64, return_sequences=True),\n",
        "  tf.keras.layers.LSTM(64, return_sequences=True),\n",
        "  tf.keras.layers.Dense(30, activation=\"relu\"),\n",
        "  tf.keras.layers.Dense(10, activation=\"relu\"),\n",
        "  tf.keras.layers.Dense(1)\n",
        "  #tf.keras.layers.Lambda(lambda x: x * 400)\n",
        "])\n",
        "\n",
        "optimizer = tf.keras.optimizers.SGD(lr=1e-8, momentum=0.9)\n",
        "model.compile(loss=tf.keras.losses.Huber(),\n",
        "              optimizer=optimizer,\n",
        "              metrics=[\"mae\"])\n",
        "history = model.fit(df, epochs=100,validation_data=df_val) #callbacks=[lr_schedule])"
      ],
      "execution_count": 0,
      "outputs": [
        {
          "output_type": "stream",
          "text": [
            "Epoch 1/100\n",
            "WARNING:tensorflow:From /usr/local/lib/python3.6/dist-packages/tensorflow/python/ops/math_grad.py:1250: add_dispatch_support.<locals>.wrapper (from tensorflow.python.ops.array_ops) is deprecated and will be removed in a future version.\n",
            "Instructions for updating:\n",
            "Use tf.where in 2.0, which has the same broadcast rule as np.where\n",
            "64/64 [==============================] - 25s 395ms/step - loss: 42754.7747 - mae: 42625.3047 - val_loss: 0.0000e+00 - val_mae: 0.0000e+00\n",
            "Epoch 2/100\n",
            "64/64 [==============================] - 23s 356ms/step - loss: 42752.7726 - mae: 42625.3047 - val_loss: 52936.4711 - val_mae: 53139.4414\n",
            "Epoch 3/100\n",
            "64/64 [==============================] - 23s 355ms/step - loss: 42752.7722 - mae: 42625.3047 - val_loss: 52936.4711 - val_mae: 53139.4414\n",
            "Epoch 4/100\n",
            "12/64 [====>.........................] - ETA: 18s - loss: 40027.5573 - mae: 40028.1641"
          ],
          "name": "stdout"
        }
      ]
    },
    {
      "cell_type": "code",
      "metadata": {
        "id": "OFcM1-1HjQQk",
        "colab_type": "code",
        "colab": {}
      },
      "source": [
        "z1history.history"
      ],
      "execution_count": 0,
      "outputs": []
    },
    {
      "cell_type": "code",
      "metadata": {
        "id": "x9xlzmKiUtRZ",
        "colab_type": "code",
        "colab": {}
      },
      "source": [
        "\n",
        "model.save(\"Cement_lstm_v2.h5\")"
      ],
      "execution_count": 0,
      "outputs": []
    },
    {
      "cell_type": "code",
      "metadata": {
        "id": "ekSYSC0wVaiI",
        "colab_type": "code",
        "colab": {}
      },
      "source": [
        "model=tf.keras.models.load_model(\"Cement_lstm.h5\")\n"
      ],
      "execution_count": 0,
      "outputs": []
    },
    {
      "cell_type": "code",
      "metadata": {
        "id": "ZfghGh4_jLZl",
        "colab_type": "code",
        "colab": {}
      },
      "source": [
        "from matplotlib import pyplot as plt\n",
        "import matplotlib \n",
        "\n",
        "fig = matplotlib.pyplot.gcf()\n",
        "fig.set_size_inches(10, 8)\n",
        "\n",
        "plt.plot(np.arange(0,40),history.history['mae'],history.history['val_mae'])\n",
        "plt.legend(\"train\",'val')\n",
        "\n"
      ],
      "execution_count": 0,
      "outputs": []
    },
    {
      "cell_type": "code",
      "metadata": {
        "id": "8hRQsZbaYaat",
        "colab_type": "code",
        "colab": {}
      },
      "source": [
        "model.summary()"
      ],
      "execution_count": 0,
      "outputs": []
    },
    {
      "cell_type": "code",
      "metadata": {
        "id": "xL1FMk0Je_E7",
        "colab_type": "code",
        "colab": {}
      },
      "source": [
        "\n",
        "\n",
        "forecast=[]\n",
        "for time in range(len(Cement) - window_size):\n",
        "  forecast.append(model.predict(tf.expand_dims(Cement[\"Total\"][time:time + window_size,np.newaxis],axis=-1)))\n",
        "#forecast=[i*Cement_std[\"Total\"]+Cement_mean[\"Total\"] for i in forecast]\n",
        "forecast = forecast[split_time-window_size:]\n",
        "results = np.array(forecast)[:, 0, 0]\n",
        "\n"
      ],
      "execution_count": 0,
      "outputs": []
    },
    {
      "cell_type": "code",
      "metadata": {
        "id": "_MQwDLrP4Qmv",
        "colab_type": "code",
        "colab": {}
      },
      "source": [
        "results"
      ],
      "execution_count": 0,
      "outputs": []
    },
    {
      "cell_type": "code",
      "metadata": {
        "id": "DnnulZXc4LS1",
        "colab_type": "code",
        "outputId": "34e42f6e-40ca-4efc-a6bc-ade478fcb461",
        "colab": {
          "base_uri": "https://localhost:8080/",
          "height": 34
        }
      },
      "source": [
        "Cement[\"Total\"].shape"
      ],
      "execution_count": 0,
      "outputs": [
        {
          "output_type": "execute_result",
          "data": {
            "text/plain": [
              "(1409,)"
            ]
          },
          "metadata": {
            "tags": []
          },
          "execution_count": 103
        }
      ]
    },
    {
      "cell_type": "code",
      "metadata": {
        "id": "kKX7zJuuqWhv",
        "colab_type": "code",
        "outputId": "059de9a6-033e-4f11-98a2-18192d39044e",
        "colab": {
          "base_uri": "https://localhost:8080/",
          "height": 238
        }
      },
      "source": [
        "Cement[\"Total\"][1:366]"
      ],
      "execution_count": 0,
      "outputs": [
        {
          "output_type": "execute_result",
          "data": {
            "text/plain": [
              "Billing Date\n",
              "2016-01-02      652\n",
              "2016-01-03      463\n",
              "2016-01-04    21942\n",
              "2016-01-05    27139\n",
              "2016-01-06    32128\n",
              "              ...  \n",
              "2016-12-27    39447\n",
              "2016-12-28    49525\n",
              "2016-12-29    40958\n",
              "2016-12-30    26420\n",
              "2016-12-31     4294\n",
              "Name: Total, Length: 365, dtype: int64"
            ]
          },
          "metadata": {
            "tags": []
          },
          "execution_count": 15
        }
      ]
    },
    {
      "cell_type": "code",
      "metadata": {
        "id": "24sA_LaxojYb",
        "colab_type": "code",
        "colab": {}
      },
      "source": [
        "def forecast_series(model,series,window_size):\n",
        "  series=tf.expand_dims(series,axis=-1)\n",
        "  df=tf.data.Dataset.from_tensor_slices(series)\n",
        "  df=df.window(window_size,shift=1,drop_remainder=True)\n",
        "  df= df.flat_map(lambda window: window.batch(window_size + 1))\n",
        "  df=df.batch(32).prefetch(1)\n",
        "  forecast=model.predict(df)\n",
        "  return forecast"
      ],
      "execution_count": 0,
      "outputs": []
    },
    {
      "cell_type": "code",
      "metadata": {
        "id": "djIiiHq7PbsZ",
        "colab_type": "code",
        "colab": {}
      },
      "source": [
        "###This one is for RNN only\n",
        "\n",
        "def model_forecast(model, series, window_size):\n",
        "    ds = tf.data.Dataset.from_tensor_slices(series)\n",
        "    ds = ds.window(window_size, shift=1, drop_remainder=True)\n",
        "    ds = ds.flat_map(lambda w: w.batch(window_size))\n",
        "    ds = ds.batch(32).prefetch(1)\n",
        "    forecast = model.predict(ds)\n",
        "    return forecast\n",
        "\n",
        "rnn_forecast = model_forecast(model, series[..., np.newaxis], window_size)\n",
        "rnn_forecast = rnn_forecast[split_time - window_size:-1, -1, 0]"
      ],
      "execution_count": 0,
      "outputs": []
    },
    {
      "cell_type": "code",
      "metadata": {
        "id": "g939GgGnvftK",
        "colab_type": "code",
        "colab": {}
      },
      "source": [
        "list(Cement[\"Total\"][213:578,np.newaxis,np.newaxis])"
      ],
      "execution_count": 0,
      "outputs": []
    },
    {
      "cell_type": "code",
      "metadata": {
        "id": "crV92I54p8kW",
        "colab_type": "code",
        "outputId": "5006717e-d5b8-4610-c0b5-adc7add8eb79",
        "colab": {
          "base_uri": "https://localhost:8080/",
          "height": 34
        }
      },
      "source": [
        "#forecast_series(model,Cement[\"Total\"][12:377],1)\n",
        "model.predict(Cement[\"Total\"][213:578,np.newaxis,np.newaxis])[1,0,0]"
      ],
      "execution_count": 0,
      "outputs": [
        {
          "output_type": "execute_result",
          "data": {
            "text/plain": [
              "13437.723"
            ]
          },
          "metadata": {
            "tags": []
          },
          "execution_count": 11
        }
      ]
    },
    {
      "cell_type": "code",
      "metadata": {
        "id": "MtKC-mmCmCuT",
        "colab_type": "code",
        "colab": {}
      },
      "source": [
        "model.pre"
      ],
      "execution_count": 0,
      "outputs": []
    },
    {
      "cell_type": "code",
      "metadata": {
        "id": "QwnoP6XJwF0F",
        "colab_type": "code",
        "outputId": "0565d672-c071-4abe-8b0d-3ec41e3c940c",
        "colab": {
          "base_uri": "https://localhost:8080/",
          "height": 34
        }
      },
      "source": [
        "(tf.expand_dims(Cement[\"Total\"][time:time + window_size,np.newaxis],axis=-1)).shape"
      ],
      "execution_count": 0,
      "outputs": [
        {
          "output_type": "execute_result",
          "data": {
            "text/plain": [
              "TensorShape([365, 1, 1])"
            ]
          },
          "metadata": {
            "tags": []
          },
          "execution_count": 52
        }
      ]
    },
    {
      "cell_type": "code",
      "metadata": {
        "id": "wRfK3pHWnEoO",
        "colab_type": "code",
        "outputId": "428ad30c-6077-4637-ac8e-2d0b54820bd6",
        "colab": {
          "base_uri": "https://localhost:8080/",
          "height": 153
        }
      },
      "source": [
        "model.weights[1]"
      ],
      "execution_count": 0,
      "outputs": [
        {
          "output_type": "execute_result",
          "data": {
            "text/plain": [
              "<tf.Variable 'conv1d_1_1/bias:0' shape=(32,) dtype=float32, numpy=\n",
              "array([-2430.4746 , -1926.6052 , -3708.2527 , -4894.996  , -6094.674  ,\n",
              "        1739.574  ,  1909.6488 , -6797.9688 ,  2505.6748 , -2572.5254 ,\n",
              "        5665.5435 , -2752.2795 ,  7396.615  , -2938.208  ,  1246.63   ,\n",
              "       -2694.925  ,  4237.803  ,  1793.0839 ,   708.55396,   891.8063 ,\n",
              "        -565.987  ,  -601.5373 , -3146.9983 , -3470.1467 , -3417.4646 ,\n",
              "       -9875.342  , -8124.54   , -4618.5767 ,  1072.9496 , -2860.7893 ,\n",
              "         616.7987 , -4002.485  ], dtype=float32)>"
            ]
          },
          "metadata": {
            "tags": []
          },
          "execution_count": 27
        }
      ]
    },
    {
      "cell_type": "code",
      "metadata": {
        "id": "dy61LvIMvLry",
        "colab_type": "code",
        "colab": {}
      },
      "source": [
        "def plot_series(time, series, format=\"-\", start=0, end=None):\n",
        "    plt.plot(time[start:end], series[start:end], format)\n",
        "    plt.xlabel(\"Time\")\n",
        "    plt.ylabel(\"Value\")\n",
        "    plt.grid(True)\n",
        "    \n"
      ],
      "execution_count": 0,
      "outputs": []
    },
    {
      "cell_type": "code",
      "metadata": {
        "id": "qsJlGpfzvNtI",
        "colab_type": "code",
        "outputId": "a332d788-db8b-44c1-cb88-cd3ae42d5203",
        "colab": {
          "base_uri": "https://localhost:8080/",
          "height": 388
        }
      },
      "source": [
        "plt.figure(figsize=(10, 6))\n",
        "\n",
        "plot_series(time_valid, x_valid[\"Total\"])\n",
        "plot_series(time_valid, results)"
      ],
      "execution_count": 0,
      "outputs": [
        {
          "output_type": "display_data",
          "data": {
            "image/png": "[encoded data removed]",
            "text/plain": [
              "<Figure size 720x432 with 1 Axes>"
            ]
          },
          "metadata": {
            "tags": []
          }
        }
      ]
    },
    {
      "cell_type": "code",
      "metadata": {
        "id": "PJr2Jysq8iLJ",
        "colab_type": "code",
        "outputId": "154d9238-3d25-4fbb-f3d4-ef73138ed13d",
        "colab": {
          "base_uri": "https://localhost:8080/",
          "height": 1000
        }
      },
      "source": [
        "tf.keras.metrics.mean_absolute_error(x_valid,results).numpy()"
      ],
      "execution_count": 0,
      "outputs": [
        {
          "output_type": "execute_result",
          "data": {
            "text/plain": [
              "array([1.2678116e+09, 1.2678116e+09, 1.2678116e+09, 1.2678116e+09,\n",
              "       1.2678116e+09, 1.2678116e+09, 1.2678116e+09, 1.2678116e+09,\n",
              "       1.2678116e+09, 1.2678116e+09, 1.2678116e+09, 1.2678116e+09,\n",
              "       1.2678116e+09, 1.2678116e+09, 1.2678116e+09, 1.2678116e+09,\n",
              "       1.2678116e+09, 1.2678116e+09, 1.2678116e+09, 1.2678116e+09,\n",
              "       1.2678116e+09, 1.2678116e+09, 1.2678116e+09, 1.2678116e+09,\n",
              "       1.2678116e+09, 1.2678116e+09, 1.2678116e+09, 1.2678116e+09,\n",
              "       1.2678116e+09, 1.2678116e+09, 1.2678116e+09, 1.2678116e+09,\n",
              "       1.2678116e+09, 1.2678116e+09, 1.2678116e+09, 1.2678116e+09,\n",
              "       1.2678116e+09, 1.2678116e+09, 1.2678116e+09, 1.2678116e+09,\n",
              "       1.2678116e+09, 1.2678116e+09, 1.2678116e+09, 1.2678116e+09,\n",
              "       1.2678116e+09, 1.2678116e+09, 1.2678116e+09, 1.2678116e+09,\n",
              "       1.2678116e+09, 1.2678116e+09, 1.2678116e+09, 1.2678116e+09,\n",
              "       1.2678116e+09, 1.2678116e+09, 1.2678116e+09, 1.2678116e+09,\n",
              "       1.2678116e+09, 1.2678116e+09, 1.2678116e+09, 1.2678116e+09,\n",
              "       1.2678116e+09, 1.2678116e+09, 1.2678116e+09, 1.2678116e+09,\n",
              "       1.2678116e+09, 1.2678116e+09, 1.2678116e+09, 1.2678116e+09,\n",
              "       1.2678116e+09, 1.2678116e+09, 1.2678116e+09, 1.2678116e+09,\n",
              "       1.2678116e+09, 1.2678116e+09, 1.2678116e+09, 1.2678116e+09,\n",
              "       1.2678116e+09, 1.2678116e+09, 1.2678116e+09, 1.2678116e+09,\n",
              "       1.2678116e+09, 1.2678116e+09, 1.2678116e+09, 1.2678116e+09,\n",
              "       1.2678116e+09, 1.2678116e+09, 1.2678116e+09, 1.2678116e+09,\n",
              "       1.2678116e+09, 1.2678116e+09, 1.2678116e+09, 1.2678116e+09,\n",
              "       1.2678116e+09, 1.2678116e+09, 1.2678116e+09, 1.2678116e+09,\n",
              "       1.2678116e+09, 1.2678116e+09, 1.2678116e+09, 1.2678116e+09,\n",
              "       1.2678116e+09, 1.2678116e+09, 1.2678116e+09, 1.2678116e+09,\n",
              "       1.2678116e+09, 1.2678116e+09, 1.2678116e+09, 1.2678116e+09,\n",
              "       1.2678116e+09, 1.2678116e+09, 1.2678116e+09, 1.2678116e+09,\n",
              "       1.2678116e+09, 1.2678116e+09, 1.2678116e+09, 1.2678116e+09,\n",
              "       1.2678116e+09, 1.2678116e+09, 1.2678116e+09, 1.2678116e+09,\n",
              "       1.2678116e+09, 1.2678116e+09, 1.2678116e+09, 1.2678116e+09,\n",
              "       1.2678116e+09, 1.2678116e+09, 1.2678116e+09, 1.2678116e+09,\n",
              "       1.2678116e+09, 1.2678116e+09, 1.2678116e+09, 1.2678116e+09,\n",
              "       1.2678116e+09, 1.2678116e+09, 1.2678116e+09, 1.2678116e+09,\n",
              "       1.2678116e+09, 1.2678116e+09, 1.2678116e+09, 1.2678116e+09,\n",
              "       1.2678116e+09, 1.2678116e+09, 1.2678116e+09, 1.2678116e+09,\n",
              "       1.2678116e+09, 1.2678116e+09, 1.2678116e+09, 1.2678116e+09,\n",
              "       1.2678116e+09, 1.2678116e+09, 1.2678116e+09, 1.2678116e+09,\n",
              "       1.2678116e+09, 1.2678116e+09, 1.2678116e+09, 1.2678116e+09,\n",
              "       1.2678116e+09, 1.2678116e+09, 1.2678116e+09, 1.2678116e+09,\n",
              "       1.2678116e+09, 1.2678116e+09, 1.2678116e+09, 1.2678116e+09,\n",
              "       1.2678116e+09, 1.2678116e+09, 1.2678116e+09, 1.2678116e+09,\n",
              "       1.2678116e+09, 1.2678116e+09, 1.2678116e+09, 1.2678116e+09,\n",
              "       1.2678116e+09, 1.2678116e+09, 1.2678116e+09, 1.2678116e+09,\n",
              "       1.2678116e+09, 1.2678116e+09, 1.2678116e+09, 1.2678116e+09,\n",
              "       1.2678116e+09, 1.2678116e+09, 1.2678116e+09, 1.2678116e+09,\n",
              "       1.2678116e+09, 1.2678116e+09, 1.2678116e+09, 1.2678116e+09,\n",
              "       1.2678116e+09, 1.2678116e+09, 1.2678116e+09, 1.2678116e+09,\n",
              "       1.2678116e+09, 1.2678116e+09, 1.2678116e+09, 1.2678116e+09,\n",
              "       1.2678116e+09, 1.2678116e+09, 1.2678116e+09, 1.2678116e+09,\n",
              "       1.2678116e+09, 1.2678116e+09, 1.2678116e+09, 1.2678116e+09,\n",
              "       1.2678116e+09, 1.2678116e+09, 1.2678116e+09, 1.2678116e+09,\n",
              "       1.2678116e+09, 1.2678116e+09, 1.2678116e+09, 1.2678116e+09,\n",
              "       1.2678116e+09, 1.2678116e+09, 1.2678116e+09, 1.2678116e+09,\n",
              "       1.2678116e+09, 1.2678116e+09, 1.2678116e+09, 1.2678116e+09,\n",
              "       1.2678116e+09, 1.2678116e+09, 1.2678116e+09, 1.2678116e+09,\n",
              "       1.2678116e+09, 1.2678116e+09, 1.2678116e+09, 1.2678116e+09,\n",
              "       1.2678116e+09, 1.2678116e+09, 1.2678116e+09, 1.2678116e+09,\n",
              "       1.2678116e+09, 1.2678116e+09, 1.2678116e+09, 1.2678116e+09,\n",
              "       1.2678116e+09, 1.2678116e+09, 1.2678116e+09, 1.2678116e+09,\n",
              "       1.2678116e+09, 1.2678116e+09, 1.2678116e+09, 1.2678116e+09,\n",
              "       1.2678116e+09, 1.2678116e+09, 1.2678116e+09, 1.2678116e+09,\n",
              "       1.2678116e+09, 1.2678116e+09, 1.2678116e+09, 1.2678116e+09,\n",
              "       1.2678116e+09, 1.2678116e+09, 1.2678116e+09, 1.2678116e+09,\n",
              "       1.2678116e+09, 1.2678116e+09, 1.2678116e+09, 1.2678116e+09,\n",
              "       1.2678116e+09, 1.2678116e+09, 1.2678116e+09, 1.2678116e+09,\n",
              "       1.2678116e+09, 1.2678116e+09, 1.2678116e+09, 1.2678116e+09,\n",
              "       1.2678116e+09, 1.2678116e+09, 1.2678116e+09, 1.2678116e+09,\n",
              "       1.2678116e+09, 1.2678116e+09, 1.2678116e+09, 1.2678116e+09,\n",
              "       1.2678116e+09, 1.2678116e+09, 1.2678116e+09, 1.2678116e+09,\n",
              "       1.2678116e+09, 1.2678116e+09, 1.2678116e+09, 1.2678116e+09,\n",
              "       1.2678116e+09, 1.2678116e+09, 1.2678116e+09, 1.2678116e+09,\n",
              "       1.2678116e+09, 1.2678116e+09, 1.2678116e+09, 1.2678116e+09,\n",
              "       1.2678116e+09, 1.2678116e+09, 1.2678116e+09, 1.2678116e+09,\n",
              "       1.2678116e+09, 1.2678116e+09, 1.2678116e+09, 1.2678116e+09,\n",
              "       1.2678116e+09, 1.2678116e+09, 1.2678116e+09, 1.2678116e+09,\n",
              "       1.2678116e+09, 1.2678116e+09, 1.2678116e+09, 1.2678116e+09,\n",
              "       1.2678116e+09], dtype=float32)"
            ]
          },
          "metadata": {
            "tags": []
          },
          "execution_count": 21
        }
      ]
    },
    {
      "cell_type": "code",
      "metadata": {
        "id": "eHZC9leh1-Nb",
        "colab_type": "code",
        "outputId": "4d3d9b62-fcfd-4477-f251-c7bf877be204",
        "colab": {
          "base_uri": "https://localhost:8080/",
          "height": 163
        }
      },
      "source": [
        "tf.keras.metrics.mean_absolute_percentage_error(x_valid[\"Total\"],results.numpy())"
      ],
      "execution_count": 0,
      "outputs": [
        {
          "output_type": "error",
          "ename": "AttributeError",
          "evalue": "ignored",
          "traceback": [
            "\u001b[0;31m---------------------------------------------------------------------------\u001b[0m",
            "\u001b[0;31mAttributeError\u001b[0m                            Traceback (most recent call last)",
            "\u001b[0;32m<ipython-input-38-bea2898c927f>\u001b[0m in \u001b[0;36m<module>\u001b[0;34m()\u001b[0m\n\u001b[0;32m----> 1\u001b[0;31m \u001b[0mtf\u001b[0m\u001b[0;34m.\u001b[0m\u001b[0mkeras\u001b[0m\u001b[0;34m.\u001b[0m\u001b[0mmetrics\u001b[0m\u001b[0;34m.\u001b[0m\u001b[0mmean_absolute_percentage_error\u001b[0m\u001b[0;34m(\u001b[0m\u001b[0mx_valid\u001b[0m\u001b[0;34m[\u001b[0m\u001b[0;34m\"Total\"\u001b[0m\u001b[0;34m]\u001b[0m\u001b[0;34m,\u001b[0m\u001b[0mresults\u001b[0m\u001b[0;34m.\u001b[0m\u001b[0mnumpy\u001b[0m\u001b[0;34m(\u001b[0m\u001b[0;34m)\u001b[0m\u001b[0;34m)\u001b[0m\u001b[0;34m\u001b[0m\u001b[0;34m\u001b[0m\u001b[0m\n\u001b[0m",
            "\u001b[0;31mAttributeError\u001b[0m: 'numpy.ndarray' object has no attribute 'numpy'"
          ]
        }
      ]
    },
    {
      "cell_type": "code",
      "metadata": {
        "id": "M8jcsD8Bi9-q",
        "colab_type": "code",
        "outputId": "f09ce293-6dc8-4f14-fffd-02155e933b8f",
        "colab": {
          "base_uri": "https://localhost:8080/",
          "height": 306
        }
      },
      "source": [
        "pd.Series(results).shape"
      ],
      "execution_count": 0,
      "outputs": [
        {
          "output_type": "error",
          "ename": "Exception",
          "evalue": "ignored",
          "traceback": [
            "\u001b[0;31m---------------------------------------------------------------------------\u001b[0m",
            "\u001b[0;31mException\u001b[0m                                 Traceback (most recent call last)",
            "\u001b[0;32m<ipython-input-36-3de03d87a90b>\u001b[0m in \u001b[0;36m<module>\u001b[0;34m()\u001b[0m\n\u001b[0;32m----> 1\u001b[0;31m \u001b[0mpd\u001b[0m\u001b[0;34m.\u001b[0m\u001b[0mSeries\u001b[0m\u001b[0;34m(\u001b[0m\u001b[0mresults\u001b[0m\u001b[0;34m)\u001b[0m\u001b[0;34m.\u001b[0m\u001b[0mshape\u001b[0m\u001b[0;34m\u001b[0m\u001b[0;34m\u001b[0m\u001b[0m\n\u001b[0m",
            "\u001b[0;32m/usr/local/lib/python3.6/dist-packages/pandas/core/series.py\u001b[0m in \u001b[0;36m__init__\u001b[0;34m(self, data, index, dtype, name, copy, fastpath)\u001b[0m\n\u001b[1;32m    312\u001b[0m                     \u001b[0mdata\u001b[0m \u001b[0;34m=\u001b[0m \u001b[0mdata\u001b[0m\u001b[0;34m.\u001b[0m\u001b[0mcopy\u001b[0m\u001b[0;34m(\u001b[0m\u001b[0;34m)\u001b[0m\u001b[0;34m\u001b[0m\u001b[0;34m\u001b[0m\u001b[0m\n\u001b[1;32m    313\u001b[0m             \u001b[0;32melse\u001b[0m\u001b[0;34m:\u001b[0m\u001b[0;34m\u001b[0m\u001b[0;34m\u001b[0m\u001b[0m\n\u001b[0;32m--> 314\u001b[0;31m                 \u001b[0mdata\u001b[0m \u001b[0;34m=\u001b[0m \u001b[0msanitize_array\u001b[0m\u001b[0;34m(\u001b[0m\u001b[0mdata\u001b[0m\u001b[0;34m,\u001b[0m \u001b[0mindex\u001b[0m\u001b[0;34m,\u001b[0m \u001b[0mdtype\u001b[0m\u001b[0;34m,\u001b[0m \u001b[0mcopy\u001b[0m\u001b[0;34m,\u001b[0m \u001b[0mraise_cast_failure\u001b[0m\u001b[0;34m=\u001b[0m\u001b[0;32mTrue\u001b[0m\u001b[0;34m)\u001b[0m\u001b[0;34m\u001b[0m\u001b[0;34m\u001b[0m\u001b[0m\n\u001b[0m\u001b[1;32m    315\u001b[0m \u001b[0;34m\u001b[0m\u001b[0m\n\u001b[1;32m    316\u001b[0m                 \u001b[0mdata\u001b[0m \u001b[0;34m=\u001b[0m \u001b[0mSingleBlockManager\u001b[0m\u001b[0;34m(\u001b[0m\u001b[0mdata\u001b[0m\u001b[0;34m,\u001b[0m \u001b[0mindex\u001b[0m\u001b[0;34m,\u001b[0m \u001b[0mfastpath\u001b[0m\u001b[0;34m=\u001b[0m\u001b[0;32mTrue\u001b[0m\u001b[0;34m)\u001b[0m\u001b[0;34m\u001b[0m\u001b[0;34m\u001b[0m\u001b[0m\n",
            "\u001b[0;32m/usr/local/lib/python3.6/dist-packages/pandas/core/internals/construction.py\u001b[0m in \u001b[0;36msanitize_array\u001b[0;34m(data, index, dtype, copy, raise_cast_failure)\u001b[0m\n\u001b[1;32m    727\u001b[0m     \u001b[0;32melif\u001b[0m \u001b[0msubarr\u001b[0m\u001b[0;34m.\u001b[0m\u001b[0mndim\u001b[0m \u001b[0;34m>\u001b[0m \u001b[0;36m1\u001b[0m\u001b[0;34m:\u001b[0m\u001b[0;34m\u001b[0m\u001b[0;34m\u001b[0m\u001b[0m\n\u001b[1;32m    728\u001b[0m         \u001b[0;32mif\u001b[0m \u001b[0misinstance\u001b[0m\u001b[0;34m(\u001b[0m\u001b[0mdata\u001b[0m\u001b[0;34m,\u001b[0m \u001b[0mnp\u001b[0m\u001b[0;34m.\u001b[0m\u001b[0mndarray\u001b[0m\u001b[0;34m)\u001b[0m\u001b[0;34m:\u001b[0m\u001b[0;34m\u001b[0m\u001b[0;34m\u001b[0m\u001b[0m\n\u001b[0;32m--> 729\u001b[0;31m             \u001b[0;32mraise\u001b[0m \u001b[0mException\u001b[0m\u001b[0;34m(\u001b[0m\u001b[0;34m\"Data must be 1-dimensional\"\u001b[0m\u001b[0;34m)\u001b[0m\u001b[0;34m\u001b[0m\u001b[0;34m\u001b[0m\u001b[0m\n\u001b[0m\u001b[1;32m    730\u001b[0m         \u001b[0;32melse\u001b[0m\u001b[0;34m:\u001b[0m\u001b[0;34m\u001b[0m\u001b[0;34m\u001b[0m\u001b[0m\n\u001b[1;32m    731\u001b[0m             \u001b[0msubarr\u001b[0m \u001b[0;34m=\u001b[0m \u001b[0mcom\u001b[0m\u001b[0;34m.\u001b[0m\u001b[0masarray_tuplesafe\u001b[0m\u001b[0;34m(\u001b[0m\u001b[0mdata\u001b[0m\u001b[0;34m,\u001b[0m \u001b[0mdtype\u001b[0m\u001b[0;34m=\u001b[0m\u001b[0mdtype\u001b[0m\u001b[0;34m)\u001b[0m\u001b[0;34m\u001b[0m\u001b[0;34m\u001b[0m\u001b[0m\n",
            "\u001b[0;31mException\u001b[0m: Data must be 1-dimensional"
          ]
        }
      ]
    },
    {
      "cell_type": "code",
      "metadata": {
        "id": "FHhGxc3aTjui",
        "colab_type": "code",
        "colab": {}
      },
      "source": [
        ""
      ],
      "execution_count": 0,
      "outputs": []
    }
  ]
}