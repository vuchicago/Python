{
  "nbformat": 4,
  "nbformat_minor": 0,
  "metadata": {
    "colab": {
      "name": "SDF_master_file.ipynb",
      "provenance": [],
      "collapsed_sections": [],
      "include_colab_link": true
    },
    "kernelspec": {
      "name": "python3",
      "display_name": "Python 3"
    }
  },
  "cells": [
    {
      "cell_type": "markdown",
      "metadata": {
        "id": "view-in-github",
        "colab_type": "text"
      },
      "source": [
        "<a href=\"https://colab.research.google.com/github/vuchicago/Python/blob/master/SDF_master_file.ipynb\" target=\"_parent\"><img src=\"https://colab.research.google.com/assets/colab-badge.svg\" alt=\"Open In Colab\"/></a>"
      ]
    },
    {
      "cell_type": "code",
      "metadata": {
        "id": "_RWxMhPUU3tt",
        "colab_type": "code",
        "outputId": "580e6d9c-a87e-4d84-acaa-0e7382c69a91",
        "colab": {
          "base_uri": "https://localhost:8080/",
          "height": 122
        }
      },
      "source": [
        "####MOUNT DRIVE\n",
        "from google.colab import drive\n",
        "drive.mount('/content/gdrive',force_remount=True)"
      ],
      "execution_count": 1,
      "outputs": [
        {
          "output_type": "stream",
          "text": [
            "Go to this URL in a browser: https://accounts.google.com/o/oauth2/auth?client_id=947318989803-6bn6qk8qdgf4n4g3pfee6491hc0brc4i.apps.googleusercontent.com&redirect_uri=urn%3aietf%3awg%3aoauth%3a2.0%3aoob&response_type=code&scope=email%20https%3a%2f%2fwww.googleapis.com%2fauth%2fdocs.test%20https%3a%2f%2fwww.googleapis.com%2fauth%2fdrive%20https%3a%2f%2fwww.googleapis.com%2fauth%2fdrive.photos.readonly%20https%3a%2f%2fwww.googleapis.com%2fauth%2fpeopleapi.readonly\n",
            "\n",
            "Enter your authorization code:\n",
            "··········\n",
            "Mounted at /content/gdrive\n"
          ],
          "name": "stdout"
        }
      ]
    },
    {
      "cell_type": "code",
      "metadata": {
        "id": "wayaOL22U7fo",
        "colab_type": "code",
        "colab": {}
      },
      "source": [
        "import os\n",
        "import pandas as pd\n",
        "import datetime as dt\n",
        "from datetime import date,timedelta as td\n",
        "import h5py\n",
        "\n",
        "dir='/content/gdrive/My Drive/SDF Outputs' ##original  directory\n",
        "\n",
        "dir_main=os.path.join(dir,'US Cement Extraction Files')\n",
        "dir_yearly=os.path.join(dir_main,\"Yearly\")\n",
        "dir_daily=os.path.join(dir_main,\"Daily\")\n",
        "dir_output=os.path.join(dir_main,\"Master_Files\")\n",
        "\n",
        "\n",
        "sdf_dir_weekly_v2=os.path.join(dir,\"Weekly_noprojects\")\n",
        "sdf_dir_monthly_v2=os.path.join(dir,\"Monthly_noprojects\")\n",
        "sdf_dir_monthly_iplan=os.path.join(dir,\"iPlan\")\n",
        "sdf_dir_output=os.path.join(dir,\"Output Files\")\n",
        "os.chdir(dir_yearly)\n",
        "today=date.today()\n",
        "today=today.strftime('%b%d%Y')"
      ],
      "execution_count": 0,
      "outputs": []
    },
    {
      "cell_type": "code",
      "metadata": {
        "id": "zkfQD961X7kn",
        "colab_type": "code",
        "colab": {}
      },
      "source": [
        "def product_fix_merges(dset):\n",
        "  dset[\"Product Class Name\"][(dset[\"Plant\"]=='5470') & (dset[\"Material Code\"]=='443') & (dset[\"Product Form\"]==\"B\") & (dset[\"Product Class Name\"]=='I..')]='1/2'\n",
        "  dset[\"Product Class Name\"][(dset[\"Plant\"]=='5471') & (dset[\"Material Code\"]=='443') & (dset[\"Product Form\"]==\"B\") & (dset[\"Product Class Name\"]=='I..')]='1/2'\n",
        "  dset[\"Product Class Name\"][(dset[\"Plant\"]=='5473') & (dset[\"Material Code\"]=='443') & (dset[\"Product Form\"]==\"B\") & (dset[\"Product Class Name\"]=='I..')]='1/2'\n",
        "  dset[\"Product Class Name\"][(dset[\"Plant\"]=='5475') & (dset[\"Material Code\"]=='443') & (dset[\"Product Form\"]==\"B\") & (dset[\"Product Class Name\"]=='I..')]='1/2'\n",
        "  dset[\"Product Class Name\"][(dset[\"Plant\"]=='5476') & (dset[\"Material Code\"]=='443') & (dset[\"Product Form\"]==\"B\") & (dset[\"Product Class Name\"]=='I..')]='1/2'\n",
        "  dset[\"Product Class Name\"][(dset[\"Plant\"]=='5469') & (dset[\"Material Code\"]=='443') & (dset[\"Product Form\"]==\"B\") & (dset[\"Product Class Name\"]=='I..')]='1/2'\n",
        "  dset[\"Product Class Name\"][(dset[\"Plant\"]=='5475') & (dset[\"Material Code\"]=='3041') & (dset[\"Product Form\"]==\"B\") & (dset[\"Product Class Name\"]=='I..')]='1/2'\n",
        "\n",
        "  ###### CHANGE PLANTS ONLY\n",
        "  dset[\"Plant\"][(dset[\"Plant\"]=='5473') & (dset[\"Material Code\"]=='443') & (dset[\"Product Form\"]==\"B\") & (dset[\"Product Class Name\"]=='1/2')]='5475'\n",
        "  dset[\"Plant\"][(dset[\"Plant\"]=='5469') & (dset[\"Material Code\"]=='443') & (dset[\"Product Form\"]==\"B\") & (dset[\"Product Class Name\"]=='1/2')]='5476'\n",
        "  dset[\"Plant\"][(dset[\"Plant\"]=='5487') & (dset[\"Material Code\"]=='5221') & (dset[\"Product Form\"]==\"B\") & (dset[\"Product Class Name\"]=='OW.')]='7535'\n",
        "  dset[\"Plant\"][(dset[\"Plant\"]=='5487') & (dset[\"Material Code\"]=='5219') & (dset[\"Product Form\"]==\"B\") & (dset[\"Product Class Name\"]=='OW.')]='7535'\n",
        "  dset[\"Plant\"][(dset[\"Plant\"]=='9269') & (dset[\"Material Code\"]=='1615') & (dset[\"Product Form\"]==\"B\") & (dset[\"Product Class Name\"]=='1/2')]='5274'\n",
        "  dset[\"Plant\"][(dset[\"Plant\"]=='5496') & (dset[\"Material Code\"]=='9') & (dset[\"Product Form\"]==\"B\") & (dset[\"Product Class Name\"]=='1/2')]='5598'\n",
        "\n",
        "  ##### EXCLUDES SALES OFFICE 9000 UNLESS IT MEETS CERTAIN CRITERIA\n",
        "  dset[\"Include\"]=1\n",
        "  dset[\"Include\"][dset[\"Sales Group Name\"].isin(['SOUTHERN TRADE','MIDWEST TRADE','TX/OK TRADE','MOUNTAIN TRADE'])]=0\n",
        "  dset[\"Include\"][(dset[\"Plant\"]=='5417') & (dset[\"Material Code\"]=='5153') & (dset[\"Product Form\"]==\"P\") & (dset[\"Product Class Name\"]=='I..')& dset[\"Sold To\"]==52521]=1\n",
        "  dset[\"Include\"][(dset[\"Plant\"]=='5417') & (dset[\"Material Code\"]=='5165') & (dset[\"Product Form\"]==\"P\") & (dset[\"Product Class Name\"]=='III')& dset[\"Sold To\"]==52521]=1\n",
        "  dset[\"Include\"][(dset[\"Plant\"]=='5417') & (dset[\"Material Code\"]=='5199') & (dset[\"Product Form\"]==\"P\") & (dset[\"Product Class Name\"]=='N..')& dset[\"Sold To\"]==52521]=1\n",
        "  dset[\"Include\"][(dset[\"Plant\"]=='5417') & (dset[\"Material Code\"]=='5201') & (dset[\"Product Form\"]==\"P\") & (dset[\"Product Class Name\"]=='S..')& dset[\"Sold To\"]==52521]=1\n",
        "  dset[\"Include\"][(dset[\"Plant\"]=='5417') & (dset[\"Material Code\"]=='5153') & (dset[\"Product Form\"]==\"P\") & (dset[\"Product Class Name\"]=='I..')& dset[\"Sold To\"]=='0000052521']=1\n",
        "  dset[\"Include\"][(dset[\"Plant\"]=='5417') & (dset[\"Material Code\"]=='5165') & (dset[\"Product Form\"]==\"P\") & (dset[\"Product Class Name\"]=='III')& dset[\"Sold To\"]=='0000052521']=1\n",
        "  dset[\"Include\"][(dset[\"Plant\"]=='5417') & (dset[\"Material Code\"]=='5199') & (dset[\"Product Form\"]==\"P\") & (dset[\"Product Class Name\"]=='N..')& dset[\"Sold To\"]=='0000052521']=1\n",
        "  dset[\"Include\"][(dset[\"Plant\"]=='5417') & (dset[\"Material Code\"]=='5201') & (dset[\"Product Form\"]==\"P\") & (dset[\"Product Class Name\"]=='S..')& dset[\"Sold To\"]=='0000052521']=1\n",
        "  dset[\"Include\"][(dset[\"Plant\"]=='7540') & (dset[\"Material Code\"]=='4831') & (dset[\"Product Form\"]==\"B\") & (dset[\"Product Class Name\"]=='120')& dset[\"Sold To\"]==62414]=1\n",
        "  dset[\"Include\"][(dset[\"Plant\"]=='7540') & (dset[\"Material Code\"]=='4921') & (dset[\"Product Form\"]==\"B\") & (dset[\"Product Class Name\"]=='100')& dset[\"Sold To\"]==62414]=1\n",
        "  dset[\"Include\"][(dset[\"Plant\"]=='7540') & (dset[\"Material Code\"]=='4831') & (dset[\"Product Form\"]==\"B\") & (dset[\"Product Class Name\"]=='120')& dset[\"Sold To\"]=='0000062414']=1\n",
        "  dset[\"Include\"][(dset[\"Plant\"]=='7540') & (dset[\"Material Code\"]=='4921') & (dset[\"Product Form\"]==\"B\") & (dset[\"Product Class Name\"]=='100')& dset[\"Sold To\"]=='0000062414']=1\n",
        "  return dset"
      ],
      "execution_count": 0,
      "outputs": []
    },
    {
      "cell_type": "code",
      "metadata": {
        "id": "MsFH3SKVnJG8",
        "colab_type": "code",
        "colab": {}
      },
      "source": [
        "##############################################################################################################################################################################################\n",
        "##############################################################################################################################################################################################\n",
        "##############################################################################################################################################################################################\n",
        "##############################################################################################################################################################################################\n",
        "################### STOP HERE\n",
        "##############################################################################################################################################################################################"
      ],
      "execution_count": 0,
      "outputs": []
    },
    {
      "cell_type": "code",
      "metadata": {
        "id": "yxUU9BDVTyAv",
        "colab_type": "code",
        "outputId": "0d5069ce-3593-4bdf-93d0-31f982941d82",
        "colab": {
          "base_uri": "https://localhost:8080/",
          "height": 153
        }
      },
      "source": [
        "list_dir=os.listdir(dir_yearly)\n",
        "list(list_dir)"
      ],
      "execution_count": 0,
      "outputs": [
        {
          "output_type": "execute_result",
          "data": {
            "text/plain": [
              "['HUS_Cement_Report_201601.csv',\n",
              " 'HUS_Cement_Report_201602.csv',\n",
              " 'HUS_Cement_Report_201701.csv',\n",
              " 'HUS_Cement_Report_201702.csv',\n",
              " 'HUS_Cement_Report_201801.csv',\n",
              " 'HUS_Cement_Report_201802.csv',\n",
              " 'HUS_Cement_Report_201901.csv',\n",
              " 'HUS_Cement_Report_201902.csv']"
            ]
          },
          "metadata": {
            "tags": []
          },
          "execution_count": 6
        }
      ]
    },
    {
      "cell_type": "code",
      "metadata": {
        "id": "B4mqu-Z06Arn",
        "colab_type": "code",
        "outputId": "522ab7e0-efc2-4a84-bf7c-93e503fe798f",
        "colab": {
          "base_uri": "https://localhost:8080/",
          "height": 392
        }
      },
      "source": [
        "#######THIS CODE TESTS THAT THE DATE RANGES DO NOT OVERLAP WITHIN THE FILES.  INSPECT THE OUTPUT TO MAKE SURE THAT THE DATES DON'T OVERLAP\n",
        "date_col=[\"Calendar day\"]\n",
        "date_list=[]\n",
        "for files in list_dir:\n",
        "  file_name=pd.read_csv(files,parse_dates=True)\n",
        "  max_date=file_name[date_col].max()\n",
        "  min_date=file_name[date_col].min()\n",
        "  date_list.append(max_date[0])\n",
        "  date_list.append(min_date[0])\n",
        "\n",
        "#### SHOULD BE 'GOOD TO GO' IF THERE ARE NO OVERLAPPING DATES ############\n",
        "date_list.sort()\n",
        "for i,date in enumerate(date_list):\n",
        "  if date_list[i]<date_list[i-1]:\n",
        "    print(\"Overlapping Dates at\".format(date))\n",
        "  else:\n",
        "    print(\"Good to Go\")"
      ],
      "execution_count": 0,
      "outputs": [
        {
          "output_type": "stream",
          "text": [
            "/usr/local/lib/python3.6/dist-packages/IPython/core/interactiveshell.py:2718: DtypeWarning: Columns (0,18,20,29,34) have mixed types. Specify dtype option on import or set low_memory=False.\n",
            "  interactivity=interactivity, compiler=compiler, result=result)\n",
            "/usr/local/lib/python3.6/dist-packages/IPython/core/interactiveshell.py:2718: DtypeWarning: Columns (0,2,18,20,34) have mixed types. Specify dtype option on import or set low_memory=False.\n",
            "  interactivity=interactivity, compiler=compiler, result=result)\n",
            "/usr/local/lib/python3.6/dist-packages/IPython/core/interactiveshell.py:2718: DtypeWarning: Columns (0,2,18,20,24,29,34) have mixed types. Specify dtype option on import or set low_memory=False.\n",
            "  interactivity=interactivity, compiler=compiler, result=result)\n"
          ],
          "name": "stderr"
        },
        {
          "output_type": "stream",
          "text": [
            "Overlapping Dates at\n",
            "Good to Go\n",
            "Good to Go\n",
            "Good to Go\n",
            "Good to Go\n",
            "Good to Go\n",
            "Good to Go\n",
            "Good to Go\n",
            "Good to Go\n",
            "Good to Go\n",
            "Good to Go\n",
            "Good to Go\n",
            "Good to Go\n",
            "Good to Go\n",
            "Good to Go\n",
            "Good to Go\n"
          ],
          "name": "stdout"
        }
      ]
    },
    {
      "cell_type": "code",
      "metadata": {
        "id": "G6KqcFmonRQI",
        "colab_type": "code",
        "outputId": "ac3e194e-6bef-4d2f-b131-17910a22a85d",
        "colab": {
          "base_uri": "https://localhost:8080/",
          "height": 119
        }
      },
      "source": [
        "############### CONCATENATES ALL THE FILES TOGETHER TO CREATE A MAIN FILE (STACKED COLUMNS)\n",
        "Main_file=pd.DataFrame()\n",
        "for files in list_dir:\n",
        "  Main_file=pd.concat([Main_file,pd.read_csv(files)])"
      ],
      "execution_count": 0,
      "outputs": [
        {
          "output_type": "stream",
          "text": [
            "/usr/local/lib/python3.6/dist-packages/IPython/core/interactiveshell.py:2718: DtypeWarning: Columns (0,18,20,29,34) have mixed types. Specify dtype option on import or set low_memory=False.\n",
            "  interactivity=interactivity, compiler=compiler, result=result)\n",
            "/usr/local/lib/python3.6/dist-packages/IPython/core/interactiveshell.py:2718: DtypeWarning: Columns (0,2,18,20,34) have mixed types. Specify dtype option on import or set low_memory=False.\n",
            "  interactivity=interactivity, compiler=compiler, result=result)\n",
            "/usr/local/lib/python3.6/dist-packages/IPython/core/interactiveshell.py:2718: DtypeWarning: Columns (0,2,18,20,24,29,34) have mixed types. Specify dtype option on import or set low_memory=False.\n",
            "  interactivity=interactivity, compiler=compiler, result=result)\n"
          ],
          "name": "stderr"
        }
      ]
    },
    {
      "cell_type": "code",
      "metadata": {
        "id": "p5r5JcmSoPMv",
        "colab_type": "code",
        "colab": {}
      },
      "source": [
        "os.chdir(dir_output)"
      ],
      "execution_count": 0,
      "outputs": []
    },
    {
      "cell_type": "code",
      "metadata": {
        "id": "anKLbfRgt-Bw",
        "colab_type": "code",
        "colab": {}
      },
      "source": [
        "\n",
        "Main_file.to_csv(\"Main_file.csv\")"
      ],
      "execution_count": 0,
      "outputs": []
    },
    {
      "cell_type": "code",
      "metadata": {
        "id": "EzFp6At95qPJ",
        "colab_type": "code",
        "outputId": "e6247a5a-3d5e-4294-9660-d4cbf709f563",
        "colab": {
          "base_uri": "https://localhost:8080/",
          "height": 51
        }
      },
      "source": [
        "####################################################################################################################################################################################################\n",
        "####################################################################################################################################################################################################\n",
        "####################################################################################################################################################################################################\n",
        "############################## START HERE IF MAIN FILE HAS ALREADY BEEN CREATED ################################################################################################\n",
        "os.chdir(dir_output)\n",
        "Main_file=pd.read_csv(\"Main_file.csv\")"
      ],
      "execution_count": 0,
      "outputs": [
        {
          "output_type": "stream",
          "text": [
            "/usr/local/lib/python3.6/dist-packages/IPython/core/interactiveshell.py:2718: DtypeWarning: Columns (1,3,19,21,25,29,30,35) have mixed types. Specify dtype option on import or set low_memory=False.\n",
            "  interactivity=interactivity, compiler=compiler, result=result)\n"
          ],
          "name": "stderr"
        }
      ]
    },
    {
      "cell_type": "code",
      "metadata": {
        "id": "ce2q2uVLXjqd",
        "colab_type": "code",
        "colab": {}
      },
      "source": [
        "Main_file=Main_file[Main_file[\"Product Type Name\"]==\"CEMENT\"]\n",
        "Main_file=Main_file[~(Main_file[\"Sold To\"].isin([\"P5W02\",\"P5W11\"]))]\n",
        "Main_file=Main_file[~(Main_file[\"Source Location\"]==\" \")]"
      ],
      "execution_count": 0,
      "outputs": []
    },
    {
      "cell_type": "code",
      "metadata": {
        "id": "vaJzTy2XvTE7",
        "colab_type": "code",
        "outputId": "c083bffd-ca3e-4a39-9dee-d9f0a264f974",
        "colab": {
          "base_uri": "https://localhost:8080/",
          "height": 170
        }
      },
      "source": [
        "Main_file[\"Source Location\"].unique()"
      ],
      "execution_count": 0,
      "outputs": [
        {
          "output_type": "execute_result",
          "data": {
            "text/plain": [
              "array(['2193', '2010', 'D082', 'D088', '2058', '2122', '2152', '2182',\n",
              "       2122, 2058, '2210', '2131', '2151', '2134', '2194', 'D041', 'D250',\n",
              "       'D076', 'D068', 'D306', 'D403', 'D656', 'I009', 'D032', '2191',\n",
              "       'D040', 'D503', 'D544', '7540', '2195', 'D028', 'D012', 'D035',\n",
              "       'D046', '5466', 'I002', 'D552', 'D507', 'D536', '2192', '5417',\n",
              "       '5478', '5499', '5471', '5497', '5473', 'D043', 'D087', 2182, 2194,\n",
              "       2193, 2210, 2131, '5419', 2191, 2151, 2195, '5482', 'I029', 'D014',\n",
              "       'D513', '7W02', 2152, 2111, '2H01', '2W01', '2W03', 'D039', 2192,\n",
              "       2134, '2211', 'D659', 2010, 'D502', '2W02', '5416'], dtype=object)"
            ]
          },
          "metadata": {
            "tags": []
          },
          "execution_count": 51
        }
      ]
    },
    {
      "cell_type": "code",
      "metadata": {
        "id": "sFT_RDfIwCri",
        "colab_type": "code",
        "outputId": "4f407239-c1c8-41a8-9ee5-b02c85fd43de",
        "colab": {
          "base_uri": "https://localhost:8080/",
          "height": 750
        }
      },
      "source": [
        "####### Daily data  time\n",
        "\n",
        "os.chdir(dir_daily)\n",
        "list_dir_daily=os.listdir(dir_daily)\n",
        "list(list_dir_daily)"
      ],
      "execution_count": 0,
      "outputs": [
        {
          "output_type": "execute_result",
          "data": {
            "text/plain": [
              "['HUS_Cement_Report_20191119.csv',\n",
              " 'HUS_Cement_Report_20191120.csv',\n",
              " 'HUS_Cement_Report_20191121.csv',\n",
              " 'HUS_Cement_Report_20191122.csv',\n",
              " 'HUS_Cement_Report_20191123.csv',\n",
              " 'HUS_Cement_Report_20191124.csv',\n",
              " 'HUS_Cement_Report_20191125.csv',\n",
              " 'HUS_Cement_Report_20191126.csv',\n",
              " 'HUS_Cement_Report_20191127.csv',\n",
              " 'HUS_Cement_Report_20191128.csv',\n",
              " 'HUS_Cement_Report_20191129.csv',\n",
              " 'HUS_Cement_Report_20191130.csv',\n",
              " 'HUS_Cement_Report_20191201.csv',\n",
              " 'HUS_Cement_Report_20191202.csv',\n",
              " 'HUS_Cement_Report_20191203.csv',\n",
              " 'HUS_Cement_Report_20191204.csv',\n",
              " 'HUS_Cement_Report_20191205.csv',\n",
              " 'HUS_Cement_Report_20191206.csv',\n",
              " 'HUS_Cement_Report_20191207.csv',\n",
              " 'HUS_Cement_Report_20191208.csv',\n",
              " 'HUS_Cement_Report_20191209.csv',\n",
              " 'HUS_Cement_Report_20191210.csv',\n",
              " 'HUS_Cement_Report_20191211.csv',\n",
              " 'HUS_Cement_Report_20191212.csv',\n",
              " 'HUS_Cement_Report_20191213.csv',\n",
              " 'HUS_Cement_Report_20191214.csv',\n",
              " 'HUS_Cement_Report_20191215.csv',\n",
              " 'HUS_Cement_Report_20191216.csv',\n",
              " 'HUS_Cement_Report_20191217.csv',\n",
              " 'HUS_Cement_Report_20191218.csv',\n",
              " 'HUS_Cement_Report_20191219.csv',\n",
              " 'HUS_Cement_Report_20191220.csv',\n",
              " 'HUS_Cement_Report_20191221.csv',\n",
              " 'HUS_Cement_Report_20191222.csv',\n",
              " 'HUS_Cement_Report_20191223.csv',\n",
              " 'HUS_Cement_Report_20191224.csv',\n",
              " 'HUS_Cement_Report_20191225.csv',\n",
              " 'HUS_Cement_Report_20191226.csv',\n",
              " 'HUS_Cement_Report_20191227.csv',\n",
              " 'HUS_Cement_Report_20191228.csv',\n",
              " 'HUS_Cement_Report_20191229.csv',\n",
              " 'HUS_Cement_Report_20191230.csv',\n",
              " 'HUS_Cement_Report_20191231.csv']"
            ]
          },
          "metadata": {
            "tags": []
          },
          "execution_count": 52
        }
      ]
    },
    {
      "cell_type": "code",
      "metadata": {
        "id": "3nr2VQEH1SOt",
        "colab_type": "code",
        "outputId": "21586dde-f9ef-4776-ddfb-5f99b9184c21",
        "colab": {
          "base_uri": "https://localhost:8080/",
          "height": 204
        }
      },
      "source": [
        "########## FILTERS THE DAILY DATA TO SELECT ONLY DATA THAT'S MOST UP-TO DATE\n",
        "\n",
        "date_min=Main_file[\"Calendar day\"].min()\n",
        "date_max=Main_file[\"Calendar day\"].max()\n",
        "for files in list_dir_daily:\n",
        "  new_file=pd.read_csv(files,date_parser={'Month','Day','Year'})\n",
        "  new_file=new_file[pd.to_datetime(new_file[\"Calendar day\"])<=date.today()]\n",
        "  if new_file[\"Calendar day\"].max()>date_max:\n",
        "    date_min=new_file[\"Calendar day\"].min()\n",
        "    Main_file=Main_file[Main_file[\"Calendar day\"]<date_min]\n",
        "    Main_file=pd.concat([new_file,Main_file],sort=True)\n",
        "\n",
        "print(Main_file[\"Calendar day\"].max())"
      ],
      "execution_count": 0,
      "outputs": [
        {
          "output_type": "stream",
          "text": [
            "/usr/local/lib/python3.6/dist-packages/IPython/core/interactiveshell.py:2718: DtypeWarning: Columns (0,2,18,20,34) have mixed types. Specify dtype option on import or set low_memory=False.\n",
            "  interactivity=interactivity, compiler=compiler, result=result)\n",
            "/usr/local/lib/python3.6/dist-packages/ipykernel_launcher.py:6: FutureWarning: Comparing Series of datetimes with 'datetime.date'.  Currently, the\n",
            "'datetime.date' is coerced to a datetime. In the future pandas will\n",
            "not coerce, and a TypeError will be raised. To retain the current\n",
            "behavior, convert the 'datetime.date' to a datetime with\n",
            "'pd.Timestamp'.\n",
            "  \n",
            "/usr/local/lib/python3.6/dist-packages/IPython/core/interactiveshell.py:2718: DtypeWarning: Columns (0,2,18) have mixed types. Specify dtype option on import or set low_memory=False.\n",
            "  interactivity=interactivity, compiler=compiler, result=result)\n"
          ],
          "name": "stderr"
        },
        {
          "output_type": "stream",
          "text": [
            "2019-12-30\n"
          ],
          "name": "stdout"
        }
      ]
    },
    {
      "cell_type": "code",
      "metadata": {
        "id": "mZVEhl3VXpbR",
        "colab_type": "code",
        "colab": {}
      },
      "source": [
        "#################REPLACE INTEGERS TO STRINGS AND VICE VERSA.  TAKES A VERY LONG TIME.\n",
        "\n",
        "Main_file[\"Plant\"]=Main_file[\"Plant\"].astype(str)\n",
        "Main_file[\"Product Class Name\"]=Main_file[\"Product Class Name\"].astype(str)\n",
        "Main_file[\"Material Code\"]=Main_file[\"Material Code\"].astype(str) ###Change all material to string since there are some in iplan that are character strings\n",
        "Main_file[\"Sold To\"]=Main_file[\"Sold To\"].apply(pd.to_numeric,downcast='integer',errors='ignore') ########THIS CONVERTS NUMERIC STRINGS TO NUMERIC.  TAKES  A VERY LONG TIME TO RUN.  MUST FIND BETTER OPTION"
      ],
      "execution_count": 0,
      "outputs": []
    },
    {
      "cell_type": "code",
      "metadata": {
        "id": "OjqezBtZgaV7",
        "colab_type": "code",
        "outputId": "48de51a0-0677-43a1-8ee8-420180b774e3",
        "colab": {
          "base_uri": "https://localhost:8080/",
          "height": 34
        }
      },
      "source": [
        "\n",
        "len(Main_file[\"Sold To\"].unique())"
      ],
      "execution_count": 0,
      "outputs": [
        {
          "output_type": "execute_result",
          "data": {
            "text/plain": [
              "3628"
            ]
          },
          "metadata": {
            "tags": []
          },
          "execution_count": 55
        }
      ]
    },
    {
      "cell_type": "code",
      "metadata": {
        "id": "K1ktzWM1uhHC",
        "colab_type": "code",
        "outputId": "9e54959b-34e5-4cce-ecad-5f2fd66d47a7",
        "colab": {
          "base_uri": "https://localhost:8080/",
          "height": 439
        }
      },
      "source": [
        "####Used to Validate (1/2)\n",
        "Main_file[(Main_file[\"Plant\"] == '5473') & (Main_file[\"Material Code\"]=='443') & (Main_file[\"Product Form\"]==\"B\") & (Main_file[\"Product Class Name\"]=='I..')].head()\n",
        "\n",
        "####VALIDATING (1/2).  Should have data\n",
        "Main_file[(Main_file[\"Plant\"]=='5475') & (Main_file[\"Material Code\"]=='443') & (Main_file[\"Product Form\"]==\"B\") & (Main_file[\"Product Class Name\"]=='1/2')].head()"
      ],
      "execution_count": 0,
      "outputs": [
        {
          "output_type": "execute_result",
          "data": {
            "text/html": [
              "<div>\n",
              "<style scoped>\n",
              "    .dataframe tbody tr th:only-of-type {\n",
              "        vertical-align: middle;\n",
              "    }\n",
              "\n",
              "    .dataframe tbody tr th {\n",
              "        vertical-align: top;\n",
              "    }\n",
              "\n",
              "    .dataframe thead th {\n",
              "        text-align: right;\n",
              "    }\n",
              "</style>\n",
              "<table border=\"1\" class=\"dataframe\">\n",
              "  <thead>\n",
              "    <tr style=\"text-align: right;\">\n",
              "      <th></th>\n",
              "      <th>BASE LIST PRICE</th>\n",
              "      <th>Billing document</th>\n",
              "      <th>Business Region</th>\n",
              "      <th>Business Region Name</th>\n",
              "      <th>Cal. year / month</th>\n",
              "      <th>Calendar day</th>\n",
              "      <th>Customer Group</th>\n",
              "      <th>Customer Group Name</th>\n",
              "      <th>DEDUCTIONS</th>\n",
              "      <th>Incoterms</th>\n",
              "      <th>Incoterms Name</th>\n",
              "      <th>Industry Code</th>\n",
              "      <th>Industry Code Name</th>\n",
              "      <th>Material</th>\n",
              "      <th>Material Code</th>\n",
              "      <th>Micromarket</th>\n",
              "      <th>Micromarket Name</th>\n",
              "      <th>OUTBOUND FREIGHT</th>\n",
              "      <th>Parent</th>\n",
              "      <th>Parent Name</th>\n",
              "      <th>Plant</th>\n",
              "      <th>Plant Name</th>\n",
              "      <th>Product Class Name</th>\n",
              "      <th>Product Family</th>\n",
              "      <th>Product Family Name</th>\n",
              "      <th>Product Form</th>\n",
              "      <th>Product Form Name</th>\n",
              "      <th>Product Type</th>\n",
              "      <th>Product Type Name</th>\n",
              "      <th>Sales District</th>\n",
              "      <th>Sales District Name</th>\n",
              "      <th>Sales Group</th>\n",
              "      <th>Sales Group Name</th>\n",
              "      <th>Ship To</th>\n",
              "      <th>Ship To Name</th>\n",
              "      <th>Sold To</th>\n",
              "      <th>Sold To Name</th>\n",
              "      <th>Source Location</th>\n",
              "      <th>Source Location Name</th>\n",
              "      <th>TONS</th>\n",
              "      <th>TPM Average Selling Price</th>\n",
              "      <th>Transportation Mode</th>\n",
              "      <th>Transportation Mode Name</th>\n",
              "      <th>Unnamed: 0</th>\n",
              "      <th>Include</th>\n",
              "    </tr>\n",
              "  </thead>\n",
              "  <tbody>\n",
              "    <tr>\n",
              "      <th>101947</th>\n",
              "      <td>4397.40</td>\n",
              "      <td>9036881679</td>\n",
              "      <td>#</td>\n",
              "      <td>Not Assigned</td>\n",
              "      <td>11/2019</td>\n",
              "      <td>2019-11-06</td>\n",
              "      <td>1</td>\n",
              "      <td>Free</td>\n",
              "      <td>25.2</td>\n",
              "      <td>FP</td>\n",
              "      <td>Freight Prepaid (delivered)</td>\n",
              "      <td>327331</td>\n",
              "      <td>CONC BLK &amp; BRK</td>\n",
              "      <td>PORTLAND, TYPE GU</td>\n",
              "      <td>443</td>\n",
              "      <td>NOMN</td>\n",
              "      <td>NORTHERN MINNESOTA</td>\n",
              "      <td>-604.55</td>\n",
              "      <td>62238</td>\n",
              "      <td>STRUCTURAL BLOCK INC</td>\n",
              "      <td>5475</td>\n",
              "      <td>VALLEY CITY TERMINAL</td>\n",
              "      <td>1/2</td>\n",
              "      <td>PL</td>\n",
              "      <td>PORTLAND</td>\n",
              "      <td>B</td>\n",
              "      <td>Bulk</td>\n",
              "      <td>1</td>\n",
              "      <td>CEMENT</td>\n",
              "      <td>1520</td>\n",
              "      <td>NW MN / NE SD / ND</td>\n",
              "      <td>170</td>\n",
              "      <td>NORTHERN</td>\n",
              "      <td>1340849</td>\n",
              "      <td>STRUCTURAL BLOCK INC BLOCK PLT</td>\n",
              "      <td>62238</td>\n",
              "      <td>STRUCTURAL BLOCK INC</td>\n",
              "      <td>2H01</td>\n",
              "      <td>EXSHAW PLANT</td>\n",
              "      <td>22.861</td>\n",
              "      <td>4372.20</td>\n",
              "      <td>3</td>\n",
              "      <td>Truck</td>\n",
              "      <td>NaN</td>\n",
              "      <td>1</td>\n",
              "    </tr>\n",
              "    <tr>\n",
              "      <th>102142</th>\n",
              "      <td>3847.66</td>\n",
              "      <td>9037490507</td>\n",
              "      <td>#</td>\n",
              "      <td>Not Assigned</td>\n",
              "      <td>12/2019</td>\n",
              "      <td>2019-12-07</td>\n",
              "      <td>1</td>\n",
              "      <td>Free</td>\n",
              "      <td>0.0</td>\n",
              "      <td>FP</td>\n",
              "      <td>Freight Prepaid (delivered)</td>\n",
              "      <td>32732</td>\n",
              "      <td>READY MIXED CONC</td>\n",
              "      <td>PORTLAND, TYPE GU</td>\n",
              "      <td>443</td>\n",
              "      <td>SEND</td>\n",
              "      <td>NORTH DAKOTA SOUTHEAST</td>\n",
              "      <td>-529.20</td>\n",
              "      <td>61789</td>\n",
              "      <td>STRATA CORPORATION</td>\n",
              "      <td>5475</td>\n",
              "      <td>VALLEY CITY TERMINAL</td>\n",
              "      <td>1/2</td>\n",
              "      <td>PL</td>\n",
              "      <td>PORTLAND</td>\n",
              "      <td>B</td>\n",
              "      <td>Bulk</td>\n",
              "      <td>1</td>\n",
              "      <td>CEMENT</td>\n",
              "      <td>1521</td>\n",
              "      <td>W ND / NW SD</td>\n",
              "      <td>170</td>\n",
              "      <td>NORTHERN</td>\n",
              "      <td>1608672</td>\n",
              "      <td>STRATA CORPORATION</td>\n",
              "      <td>61789</td>\n",
              "      <td>STRATA CORPORATION</td>\n",
              "      <td>2H01</td>\n",
              "      <td>EXSHAW PLANT</td>\n",
              "      <td>21.219</td>\n",
              "      <td>3847.66</td>\n",
              "      <td>3</td>\n",
              "      <td>Truck</td>\n",
              "      <td>NaN</td>\n",
              "      <td>1</td>\n",
              "    </tr>\n",
              "    <tr>\n",
              "      <th>102143</th>\n",
              "      <td>4298.39</td>\n",
              "      <td>9037485109</td>\n",
              "      <td>#</td>\n",
              "      <td>Not Assigned</td>\n",
              "      <td>12/2019</td>\n",
              "      <td>2019-12-05</td>\n",
              "      <td>1</td>\n",
              "      <td>Free</td>\n",
              "      <td>0.0</td>\n",
              "      <td>FP</td>\n",
              "      <td>Freight Prepaid (delivered)</td>\n",
              "      <td>32732</td>\n",
              "      <td>READY MIXED CONC</td>\n",
              "      <td>PORTLAND, TYPE GU</td>\n",
              "      <td>443</td>\n",
              "      <td>SEND</td>\n",
              "      <td>NORTH DAKOTA SOUTHEAST</td>\n",
              "      <td>-576.17</td>\n",
              "      <td>61789</td>\n",
              "      <td>STRATA CORPORATION</td>\n",
              "      <td>5475</td>\n",
              "      <td>VALLEY CITY TERMINAL</td>\n",
              "      <td>1/2</td>\n",
              "      <td>PL</td>\n",
              "      <td>PORTLAND</td>\n",
              "      <td>B</td>\n",
              "      <td>Bulk</td>\n",
              "      <td>1</td>\n",
              "      <td>CEMENT</td>\n",
              "      <td>1521</td>\n",
              "      <td>W ND / NW SD</td>\n",
              "      <td>170</td>\n",
              "      <td>NORTHERN</td>\n",
              "      <td>1608672</td>\n",
              "      <td>STRATA CORPORATION</td>\n",
              "      <td>61789</td>\n",
              "      <td>STRATA CORPORATION</td>\n",
              "      <td>2H01</td>\n",
              "      <td>EXSHAW PLANT</td>\n",
              "      <td>23.705</td>\n",
              "      <td>4298.39</td>\n",
              "      <td>3</td>\n",
              "      <td>Truck</td>\n",
              "      <td>NaN</td>\n",
              "      <td>1</td>\n",
              "    </tr>\n",
              "    <tr>\n",
              "      <th>102144</th>\n",
              "      <td>5535.43</td>\n",
              "      <td>9037485108</td>\n",
              "      <td>#</td>\n",
              "      <td>Not Assigned</td>\n",
              "      <td>12/2019</td>\n",
              "      <td>2019-12-05</td>\n",
              "      <td>1</td>\n",
              "      <td>Free</td>\n",
              "      <td>0.0</td>\n",
              "      <td>FP</td>\n",
              "      <td>Freight Prepaid (delivered)</td>\n",
              "      <td>32732</td>\n",
              "      <td>READY MIXED CONC</td>\n",
              "      <td>PORTLAND, TYPE GU</td>\n",
              "      <td>443</td>\n",
              "      <td>SEND</td>\n",
              "      <td>NORTH DAKOTA SOUTHEAST</td>\n",
              "      <td>-741.98</td>\n",
              "      <td>61789</td>\n",
              "      <td>STRATA CORPORATION</td>\n",
              "      <td>5475</td>\n",
              "      <td>VALLEY CITY TERMINAL</td>\n",
              "      <td>1/2</td>\n",
              "      <td>PL</td>\n",
              "      <td>PORTLAND</td>\n",
              "      <td>B</td>\n",
              "      <td>Bulk</td>\n",
              "      <td>1</td>\n",
              "      <td>CEMENT</td>\n",
              "      <td>1521</td>\n",
              "      <td>W ND / NW SD</td>\n",
              "      <td>170</td>\n",
              "      <td>NORTHERN</td>\n",
              "      <td>1608672</td>\n",
              "      <td>STRATA CORPORATION</td>\n",
              "      <td>61789</td>\n",
              "      <td>STRATA CORPORATION</td>\n",
              "      <td>2H01</td>\n",
              "      <td>EXSHAW PLANT</td>\n",
              "      <td>30.527</td>\n",
              "      <td>5535.43</td>\n",
              "      <td>3</td>\n",
              "      <td>Truck</td>\n",
              "      <td>NaN</td>\n",
              "      <td>1</td>\n",
              "    </tr>\n",
              "    <tr>\n",
              "      <th>102146</th>\n",
              "      <td>5622.61</td>\n",
              "      <td>9037485110</td>\n",
              "      <td>#</td>\n",
              "      <td>Not Assigned</td>\n",
              "      <td>12/2019</td>\n",
              "      <td>2019-12-05</td>\n",
              "      <td>1</td>\n",
              "      <td>Free</td>\n",
              "      <td>0.0</td>\n",
              "      <td>FP</td>\n",
              "      <td>Freight Prepaid (delivered)</td>\n",
              "      <td>32732</td>\n",
              "      <td>READY MIXED CONC</td>\n",
              "      <td>PORTLAND, TYPE GU</td>\n",
              "      <td>443</td>\n",
              "      <td>SEND</td>\n",
              "      <td>NORTH DAKOTA SOUTHEAST</td>\n",
              "      <td>-753.67</td>\n",
              "      <td>61789</td>\n",
              "      <td>STRATA CORPORATION</td>\n",
              "      <td>5475</td>\n",
              "      <td>VALLEY CITY TERMINAL</td>\n",
              "      <td>1/2</td>\n",
              "      <td>PL</td>\n",
              "      <td>PORTLAND</td>\n",
              "      <td>B</td>\n",
              "      <td>Bulk</td>\n",
              "      <td>1</td>\n",
              "      <td>CEMENT</td>\n",
              "      <td>1521</td>\n",
              "      <td>W ND / NW SD</td>\n",
              "      <td>170</td>\n",
              "      <td>NORTHERN</td>\n",
              "      <td>1608672</td>\n",
              "      <td>STRATA CORPORATION</td>\n",
              "      <td>61789</td>\n",
              "      <td>STRATA CORPORATION</td>\n",
              "      <td>2H01</td>\n",
              "      <td>EXSHAW PLANT</td>\n",
              "      <td>31.008</td>\n",
              "      <td>5622.61</td>\n",
              "      <td>3</td>\n",
              "      <td>Truck</td>\n",
              "      <td>NaN</td>\n",
              "      <td>1</td>\n",
              "    </tr>\n",
              "  </tbody>\n",
              "</table>\n",
              "</div>"
            ],
            "text/plain": [
              "        BASE LIST PRICE  Billing document  ... Unnamed: 0 Include\n",
              "101947          4397.40        9036881679  ...        NaN       1\n",
              "102142          3847.66        9037490507  ...        NaN       1\n",
              "102143          4298.39        9037485109  ...        NaN       1\n",
              "102144          5535.43        9037485108  ...        NaN       1\n",
              "102146          5622.61        9037485110  ...        NaN       1\n",
              "\n",
              "[5 rows x 45 columns]"
            ]
          },
          "metadata": {
            "tags": []
          },
          "execution_count": 62
        }
      ]
    },
    {
      "cell_type": "code",
      "metadata": {
        "id": "Xq98zlWGQu44",
        "colab_type": "code",
        "outputId": "52e71255-a8a3-4ad4-8cea-190c096dbdef",
        "colab": {
          "base_uri": "https://localhost:8080/",
          "height": 1000
        }
      },
      "source": [
        "Main_file=product_fix_merges(Main_file)"
      ],
      "execution_count": 0,
      "outputs": [
        {
          "output_type": "stream",
          "text": [
            "/usr/local/lib/python3.6/dist-packages/ipykernel_launcher.py:2: SettingWithCopyWarning: \n",
            "A value is trying to be set on a copy of a slice from a DataFrame\n",
            "\n",
            "See the caveats in the documentation: http://pandas.pydata.org/pandas-docs/stable/user_guide/indexing.html#returning-a-view-versus-a-copy\n",
            "  \n",
            "/usr/local/lib/python3.6/dist-packages/ipykernel_launcher.py:3: SettingWithCopyWarning: \n",
            "A value is trying to be set on a copy of a slice from a DataFrame\n",
            "\n",
            "See the caveats in the documentation: http://pandas.pydata.org/pandas-docs/stable/user_guide/indexing.html#returning-a-view-versus-a-copy\n",
            "  This is separate from the ipykernel package so we can avoid doing imports until\n",
            "/usr/local/lib/python3.6/dist-packages/ipykernel_launcher.py:4: SettingWithCopyWarning: \n",
            "A value is trying to be set on a copy of a slice from a DataFrame\n",
            "\n",
            "See the caveats in the documentation: http://pandas.pydata.org/pandas-docs/stable/user_guide/indexing.html#returning-a-view-versus-a-copy\n",
            "  after removing the cwd from sys.path.\n",
            "/usr/local/lib/python3.6/dist-packages/ipykernel_launcher.py:5: SettingWithCopyWarning: \n",
            "A value is trying to be set on a copy of a slice from a DataFrame\n",
            "\n",
            "See the caveats in the documentation: http://pandas.pydata.org/pandas-docs/stable/user_guide/indexing.html#returning-a-view-versus-a-copy\n",
            "  \"\"\"\n",
            "/usr/local/lib/python3.6/dist-packages/ipykernel_launcher.py:6: SettingWithCopyWarning: \n",
            "A value is trying to be set on a copy of a slice from a DataFrame\n",
            "\n",
            "See the caveats in the documentation: http://pandas.pydata.org/pandas-docs/stable/user_guide/indexing.html#returning-a-view-versus-a-copy\n",
            "  \n",
            "/usr/local/lib/python3.6/dist-packages/ipykernel_launcher.py:7: SettingWithCopyWarning: \n",
            "A value is trying to be set on a copy of a slice from a DataFrame\n",
            "\n",
            "See the caveats in the documentation: http://pandas.pydata.org/pandas-docs/stable/user_guide/indexing.html#returning-a-view-versus-a-copy\n",
            "  import sys\n",
            "/usr/local/lib/python3.6/dist-packages/ipykernel_launcher.py:8: SettingWithCopyWarning: \n",
            "A value is trying to be set on a copy of a slice from a DataFrame\n",
            "\n",
            "See the caveats in the documentation: http://pandas.pydata.org/pandas-docs/stable/user_guide/indexing.html#returning-a-view-versus-a-copy\n",
            "  \n",
            "/usr/local/lib/python3.6/dist-packages/ipykernel_launcher.py:11: SettingWithCopyWarning: \n",
            "A value is trying to be set on a copy of a slice from a DataFrame\n",
            "\n",
            "See the caveats in the documentation: http://pandas.pydata.org/pandas-docs/stable/user_guide/indexing.html#returning-a-view-versus-a-copy\n",
            "  # This is added back by InteractiveShellApp.init_path()\n",
            "/usr/local/lib/python3.6/dist-packages/ipykernel_launcher.py:12: SettingWithCopyWarning: \n",
            "A value is trying to be set on a copy of a slice from a DataFrame\n",
            "\n",
            "See the caveats in the documentation: http://pandas.pydata.org/pandas-docs/stable/user_guide/indexing.html#returning-a-view-versus-a-copy\n",
            "  if sys.path[0] == '':\n",
            "/usr/local/lib/python3.6/dist-packages/ipykernel_launcher.py:13: SettingWithCopyWarning: \n",
            "A value is trying to be set on a copy of a slice from a DataFrame\n",
            "\n",
            "See the caveats in the documentation: http://pandas.pydata.org/pandas-docs/stable/user_guide/indexing.html#returning-a-view-versus-a-copy\n",
            "  del sys.path[0]\n",
            "/usr/local/lib/python3.6/dist-packages/ipykernel_launcher.py:14: SettingWithCopyWarning: \n",
            "A value is trying to be set on a copy of a slice from a DataFrame\n",
            "\n",
            "See the caveats in the documentation: http://pandas.pydata.org/pandas-docs/stable/user_guide/indexing.html#returning-a-view-versus-a-copy\n",
            "  \n",
            "/usr/local/lib/python3.6/dist-packages/ipykernel_launcher.py:15: SettingWithCopyWarning: \n",
            "A value is trying to be set on a copy of a slice from a DataFrame\n",
            "\n",
            "See the caveats in the documentation: http://pandas.pydata.org/pandas-docs/stable/user_guide/indexing.html#returning-a-view-versus-a-copy\n",
            "  from ipykernel import kernelapp as app\n",
            "/usr/local/lib/python3.6/dist-packages/ipykernel_launcher.py:16: SettingWithCopyWarning: \n",
            "A value is trying to be set on a copy of a slice from a DataFrame\n",
            "\n",
            "See the caveats in the documentation: http://pandas.pydata.org/pandas-docs/stable/user_guide/indexing.html#returning-a-view-versus-a-copy\n",
            "  app.launch_new_instance()\n",
            "/usr/local/lib/python3.6/dist-packages/ipykernel_launcher.py:20: SettingWithCopyWarning: \n",
            "A value is trying to be set on a copy of a slice from a DataFrame\n",
            "\n",
            "See the caveats in the documentation: http://pandas.pydata.org/pandas-docs/stable/user_guide/indexing.html#returning-a-view-versus-a-copy\n",
            "/usr/local/lib/python3.6/dist-packages/ipykernel_launcher.py:21: SettingWithCopyWarning: \n",
            "A value is trying to be set on a copy of a slice from a DataFrame\n",
            "\n",
            "See the caveats in the documentation: http://pandas.pydata.org/pandas-docs/stable/user_guide/indexing.html#returning-a-view-versus-a-copy\n",
            "/usr/local/lib/python3.6/dist-packages/ipykernel_launcher.py:22: SettingWithCopyWarning: \n",
            "A value is trying to be set on a copy of a slice from a DataFrame\n",
            "\n",
            "See the caveats in the documentation: http://pandas.pydata.org/pandas-docs/stable/user_guide/indexing.html#returning-a-view-versus-a-copy\n",
            "/usr/local/lib/python3.6/dist-packages/ipykernel_launcher.py:23: SettingWithCopyWarning: \n",
            "A value is trying to be set on a copy of a slice from a DataFrame\n",
            "\n",
            "See the caveats in the documentation: http://pandas.pydata.org/pandas-docs/stable/user_guide/indexing.html#returning-a-view-versus-a-copy\n",
            "/usr/local/lib/python3.6/dist-packages/ipykernel_launcher.py:24: SettingWithCopyWarning: \n",
            "A value is trying to be set on a copy of a slice from a DataFrame\n",
            "\n",
            "See the caveats in the documentation: http://pandas.pydata.org/pandas-docs/stable/user_guide/indexing.html#returning-a-view-versus-a-copy\n",
            "/usr/local/lib/python3.6/dist-packages/pandas/core/ops/__init__.py:1115: FutureWarning: elementwise comparison failed; returning scalar instead, but in the future will perform elementwise comparison\n",
            "  result = method(y)\n",
            "/usr/local/lib/python3.6/dist-packages/ipykernel_launcher.py:25: SettingWithCopyWarning: \n",
            "A value is trying to be set on a copy of a slice from a DataFrame\n",
            "\n",
            "See the caveats in the documentation: http://pandas.pydata.org/pandas-docs/stable/user_guide/indexing.html#returning-a-view-versus-a-copy\n",
            "/usr/local/lib/python3.6/dist-packages/ipykernel_launcher.py:26: SettingWithCopyWarning: \n",
            "A value is trying to be set on a copy of a slice from a DataFrame\n",
            "\n",
            "See the caveats in the documentation: http://pandas.pydata.org/pandas-docs/stable/user_guide/indexing.html#returning-a-view-versus-a-copy\n",
            "/usr/local/lib/python3.6/dist-packages/ipykernel_launcher.py:27: SettingWithCopyWarning: \n",
            "A value is trying to be set on a copy of a slice from a DataFrame\n",
            "\n",
            "See the caveats in the documentation: http://pandas.pydata.org/pandas-docs/stable/user_guide/indexing.html#returning-a-view-versus-a-copy\n",
            "/usr/local/lib/python3.6/dist-packages/ipykernel_launcher.py:28: SettingWithCopyWarning: \n",
            "A value is trying to be set on a copy of a slice from a DataFrame\n",
            "\n",
            "See the caveats in the documentation: http://pandas.pydata.org/pandas-docs/stable/user_guide/indexing.html#returning-a-view-versus-a-copy\n",
            "/usr/local/lib/python3.6/dist-packages/ipykernel_launcher.py:29: SettingWithCopyWarning: \n",
            "A value is trying to be set on a copy of a slice from a DataFrame\n",
            "\n",
            "See the caveats in the documentation: http://pandas.pydata.org/pandas-docs/stable/user_guide/indexing.html#returning-a-view-versus-a-copy\n",
            "/usr/local/lib/python3.6/dist-packages/ipykernel_launcher.py:30: SettingWithCopyWarning: \n",
            "A value is trying to be set on a copy of a slice from a DataFrame\n",
            "\n",
            "See the caveats in the documentation: http://pandas.pydata.org/pandas-docs/stable/user_guide/indexing.html#returning-a-view-versus-a-copy\n",
            "/usr/local/lib/python3.6/dist-packages/ipykernel_launcher.py:31: SettingWithCopyWarning: \n",
            "A value is trying to be set on a copy of a slice from a DataFrame\n",
            "\n",
            "See the caveats in the documentation: http://pandas.pydata.org/pandas-docs/stable/user_guide/indexing.html#returning-a-view-versus-a-copy\n",
            "/usr/local/lib/python3.6/dist-packages/ipykernel_launcher.py:32: SettingWithCopyWarning: \n",
            "A value is trying to be set on a copy of a slice from a DataFrame\n",
            "\n",
            "See the caveats in the documentation: http://pandas.pydata.org/pandas-docs/stable/user_guide/indexing.html#returning-a-view-versus-a-copy\n"
          ],
          "name": "stderr"
        }
      ]
    },
    {
      "cell_type": "code",
      "metadata": {
        "id": "x7bganCiUVjB",
        "colab_type": "code",
        "outputId": "a4752ada-1d28-43ba-a4c5-9e9f91464eed",
        "colab": {
          "base_uri": "https://localhost:8080/",
          "height": 524
        }
      },
      "source": [
        "Main_file.head()"
      ],
      "execution_count": 0,
      "outputs": [
        {
          "output_type": "execute_result",
          "data": {
            "text/html": [
              "<div>\n",
              "<style scoped>\n",
              "    .dataframe tbody tr th:only-of-type {\n",
              "        vertical-align: middle;\n",
              "    }\n",
              "\n",
              "    .dataframe tbody tr th {\n",
              "        vertical-align: top;\n",
              "    }\n",
              "\n",
              "    .dataframe thead th {\n",
              "        text-align: right;\n",
              "    }\n",
              "</style>\n",
              "<table border=\"1\" class=\"dataframe\">\n",
              "  <thead>\n",
              "    <tr style=\"text-align: right;\">\n",
              "      <th></th>\n",
              "      <th>BASE LIST PRICE</th>\n",
              "      <th>Billing document</th>\n",
              "      <th>Business Region</th>\n",
              "      <th>Business Region Name</th>\n",
              "      <th>Cal. year / month</th>\n",
              "      <th>Calendar day</th>\n",
              "      <th>Customer Group</th>\n",
              "      <th>Customer Group Name</th>\n",
              "      <th>DEDUCTIONS</th>\n",
              "      <th>Incoterms</th>\n",
              "      <th>Incoterms Name</th>\n",
              "      <th>Industry Code</th>\n",
              "      <th>Industry Code Name</th>\n",
              "      <th>Material</th>\n",
              "      <th>Material Code</th>\n",
              "      <th>Micromarket</th>\n",
              "      <th>Micromarket Name</th>\n",
              "      <th>OUTBOUND FREIGHT</th>\n",
              "      <th>Parent</th>\n",
              "      <th>Parent Name</th>\n",
              "      <th>Plant</th>\n",
              "      <th>Plant Name</th>\n",
              "      <th>Product Class Name</th>\n",
              "      <th>Product Family</th>\n",
              "      <th>Product Family Name</th>\n",
              "      <th>Product Form</th>\n",
              "      <th>Product Form Name</th>\n",
              "      <th>Product Type</th>\n",
              "      <th>Product Type Name</th>\n",
              "      <th>Sales District</th>\n",
              "      <th>Sales District Name</th>\n",
              "      <th>Sales Group</th>\n",
              "      <th>Sales Group Name</th>\n",
              "      <th>Ship To</th>\n",
              "      <th>Ship To Name</th>\n",
              "      <th>Sold To</th>\n",
              "      <th>Sold To Name</th>\n",
              "      <th>Source Location</th>\n",
              "      <th>Source Location Name</th>\n",
              "      <th>TONS</th>\n",
              "      <th>TPM Average Selling Price</th>\n",
              "      <th>Transportation Mode</th>\n",
              "      <th>Transportation Mode Name</th>\n",
              "      <th>Unnamed: 0</th>\n",
              "      <th>Include</th>\n",
              "    </tr>\n",
              "  </thead>\n",
              "  <tbody>\n",
              "    <tr>\n",
              "      <th>0</th>\n",
              "      <td>3274.02</td>\n",
              "      <td>9037111479</td>\n",
              "      <td>#</td>\n",
              "      <td>Not Assigned</td>\n",
              "      <td>11/2019</td>\n",
              "      <td>2019-11-18</td>\n",
              "      <td>1</td>\n",
              "      <td>Free</td>\n",
              "      <td>29.95</td>\n",
              "      <td>FOB</td>\n",
              "      <td>FOB Holcim plant (pick-up)</td>\n",
              "      <td>32732</td>\n",
              "      <td>READY MIXED CONC</td>\n",
              "      <td>PORTLAND,TYPE I/II,LOW ALKALI LSA</td>\n",
              "      <td>1615</td>\n",
              "      <td>OMLI</td>\n",
              "      <td>OMAHA-LINCOLN</td>\n",
              "      <td>0.0</td>\n",
              "      <td>4001089</td>\n",
              "      <td>CENTRAL IOWA READY MIX</td>\n",
              "      <td>5356</td>\n",
              "      <td>FREMONT</td>\n",
              "      <td>1/2</td>\n",
              "      <td>PL</td>\n",
              "      <td>PORTLAND</td>\n",
              "      <td>B</td>\n",
              "      <td>Bulk</td>\n",
              "      <td>1</td>\n",
              "      <td>CEMENT</td>\n",
              "      <td>1733</td>\n",
              "      <td>CENTRAL IA/ W IA/ NE</td>\n",
              "      <td>110</td>\n",
              "      <td>MID CENTRAL</td>\n",
              "      <td>1269215</td>\n",
              "      <td>CONCRETE SUPPLY INC</td>\n",
              "      <td>52274</td>\n",
              "      <td>CENTRAL IOWA READY MIX</td>\n",
              "      <td>2058</td>\n",
              "      <td>STE. GENEVIEVE</td>\n",
              "      <td>27.170</td>\n",
              "      <td>3244.07</td>\n",
              "      <td>3</td>\n",
              "      <td>Truck</td>\n",
              "      <td>NaN</td>\n",
              "      <td>1</td>\n",
              "    </tr>\n",
              "    <tr>\n",
              "      <th>1</th>\n",
              "      <td>3255.55</td>\n",
              "      <td>9037111483</td>\n",
              "      <td>#</td>\n",
              "      <td>Not Assigned</td>\n",
              "      <td>11/2019</td>\n",
              "      <td>2019-11-18</td>\n",
              "      <td>1</td>\n",
              "      <td>Free</td>\n",
              "      <td>29.78</td>\n",
              "      <td>FOB</td>\n",
              "      <td>FOB Holcim plant (pick-up)</td>\n",
              "      <td>32732</td>\n",
              "      <td>READY MIXED CONC</td>\n",
              "      <td>PORTLAND,TYPE I/II,LOW ALKALI LSA</td>\n",
              "      <td>1615</td>\n",
              "      <td>OMLI</td>\n",
              "      <td>OMAHA-LINCOLN</td>\n",
              "      <td>0.0</td>\n",
              "      <td>4001089</td>\n",
              "      <td>CENTRAL IOWA READY MIX</td>\n",
              "      <td>5356</td>\n",
              "      <td>FREMONT</td>\n",
              "      <td>1/2</td>\n",
              "      <td>PL</td>\n",
              "      <td>PORTLAND</td>\n",
              "      <td>B</td>\n",
              "      <td>Bulk</td>\n",
              "      <td>1</td>\n",
              "      <td>CEMENT</td>\n",
              "      <td>1733</td>\n",
              "      <td>CENTRAL IA/ W IA/ NE</td>\n",
              "      <td>110</td>\n",
              "      <td>MID CENTRAL</td>\n",
              "      <td>1269215</td>\n",
              "      <td>CONCRETE SUPPLY INC</td>\n",
              "      <td>52274</td>\n",
              "      <td>CENTRAL IOWA READY MIX</td>\n",
              "      <td>2058</td>\n",
              "      <td>STE. GENEVIEVE</td>\n",
              "      <td>27.016</td>\n",
              "      <td>3225.77</td>\n",
              "      <td>3</td>\n",
              "      <td>Truck</td>\n",
              "      <td>NaN</td>\n",
              "      <td>1</td>\n",
              "    </tr>\n",
              "    <tr>\n",
              "      <th>2</th>\n",
              "      <td>3274.02</td>\n",
              "      <td>9037003468</td>\n",
              "      <td>#</td>\n",
              "      <td>Not Assigned</td>\n",
              "      <td>11/2019</td>\n",
              "      <td>2019-11-16</td>\n",
              "      <td>1</td>\n",
              "      <td>Free</td>\n",
              "      <td>29.95</td>\n",
              "      <td>FOB</td>\n",
              "      <td>FOB Holcim plant (pick-up)</td>\n",
              "      <td>32732</td>\n",
              "      <td>READY MIXED CONC</td>\n",
              "      <td>PORTLAND,TYPE I/II,LOW ALKALI LSA</td>\n",
              "      <td>1615</td>\n",
              "      <td>OMLI</td>\n",
              "      <td>OMAHA-LINCOLN</td>\n",
              "      <td>0.0</td>\n",
              "      <td>4001089</td>\n",
              "      <td>CENTRAL IOWA READY MIX</td>\n",
              "      <td>5356</td>\n",
              "      <td>FREMONT</td>\n",
              "      <td>1/2</td>\n",
              "      <td>PL</td>\n",
              "      <td>PORTLAND</td>\n",
              "      <td>B</td>\n",
              "      <td>Bulk</td>\n",
              "      <td>1</td>\n",
              "      <td>CEMENT</td>\n",
              "      <td>1733</td>\n",
              "      <td>CENTRAL IA/ W IA/ NE</td>\n",
              "      <td>110</td>\n",
              "      <td>MID CENTRAL</td>\n",
              "      <td>1269215</td>\n",
              "      <td>CONCRETE SUPPLY INC</td>\n",
              "      <td>52274</td>\n",
              "      <td>CENTRAL IOWA READY MIX</td>\n",
              "      <td>2058</td>\n",
              "      <td>STE. GENEVIEVE</td>\n",
              "      <td>27.170</td>\n",
              "      <td>3244.07</td>\n",
              "      <td>3</td>\n",
              "      <td>Truck</td>\n",
              "      <td>NaN</td>\n",
              "      <td>1</td>\n",
              "    </tr>\n",
              "    <tr>\n",
              "      <th>3</th>\n",
              "      <td>3269.76</td>\n",
              "      <td>9037003465</td>\n",
              "      <td>#</td>\n",
              "      <td>Not Assigned</td>\n",
              "      <td>11/2019</td>\n",
              "      <td>2019-11-16</td>\n",
              "      <td>1</td>\n",
              "      <td>Free</td>\n",
              "      <td>29.91</td>\n",
              "      <td>FOB</td>\n",
              "      <td>FOB Holcim plant (pick-up)</td>\n",
              "      <td>32732</td>\n",
              "      <td>READY MIXED CONC</td>\n",
              "      <td>PORTLAND,TYPE I/II,LOW ALKALI LSA</td>\n",
              "      <td>1615</td>\n",
              "      <td>OMLI</td>\n",
              "      <td>OMAHA-LINCOLN</td>\n",
              "      <td>0.0</td>\n",
              "      <td>4001089</td>\n",
              "      <td>CENTRAL IOWA READY MIX</td>\n",
              "      <td>5356</td>\n",
              "      <td>FREMONT</td>\n",
              "      <td>1/2</td>\n",
              "      <td>PL</td>\n",
              "      <td>PORTLAND</td>\n",
              "      <td>B</td>\n",
              "      <td>Bulk</td>\n",
              "      <td>1</td>\n",
              "      <td>CEMENT</td>\n",
              "      <td>1733</td>\n",
              "      <td>CENTRAL IA/ W IA/ NE</td>\n",
              "      <td>110</td>\n",
              "      <td>MID CENTRAL</td>\n",
              "      <td>1269215</td>\n",
              "      <td>CONCRETE SUPPLY INC</td>\n",
              "      <td>52274</td>\n",
              "      <td>CENTRAL IOWA READY MIX</td>\n",
              "      <td>2058</td>\n",
              "      <td>STE. GENEVIEVE</td>\n",
              "      <td>27.134</td>\n",
              "      <td>3239.85</td>\n",
              "      <td>3</td>\n",
              "      <td>Truck</td>\n",
              "      <td>NaN</td>\n",
              "      <td>1</td>\n",
              "    </tr>\n",
              "    <tr>\n",
              "      <th>4</th>\n",
              "      <td>3283.97</td>\n",
              "      <td>9037111488</td>\n",
              "      <td>#</td>\n",
              "      <td>Not Assigned</td>\n",
              "      <td>11/2019</td>\n",
              "      <td>2019-11-18</td>\n",
              "      <td>1</td>\n",
              "      <td>Free</td>\n",
              "      <td>30.04</td>\n",
              "      <td>FOB</td>\n",
              "      <td>FOB Holcim plant (pick-up)</td>\n",
              "      <td>32732</td>\n",
              "      <td>READY MIXED CONC</td>\n",
              "      <td>PORTLAND,TYPE I/II,LOW ALKALI LSA</td>\n",
              "      <td>1615</td>\n",
              "      <td>OMLI</td>\n",
              "      <td>OMAHA-LINCOLN</td>\n",
              "      <td>0.0</td>\n",
              "      <td>4001089</td>\n",
              "      <td>CENTRAL IOWA READY MIX</td>\n",
              "      <td>5356</td>\n",
              "      <td>FREMONT</td>\n",
              "      <td>1/2</td>\n",
              "      <td>PL</td>\n",
              "      <td>PORTLAND</td>\n",
              "      <td>B</td>\n",
              "      <td>Bulk</td>\n",
              "      <td>1</td>\n",
              "      <td>CEMENT</td>\n",
              "      <td>1733</td>\n",
              "      <td>CENTRAL IA/ W IA/ NE</td>\n",
              "      <td>110</td>\n",
              "      <td>MID CENTRAL</td>\n",
              "      <td>1269215</td>\n",
              "      <td>CONCRETE SUPPLY INC</td>\n",
              "      <td>52274</td>\n",
              "      <td>CENTRAL IOWA READY MIX</td>\n",
              "      <td>2058</td>\n",
              "      <td>STE. GENEVIEVE</td>\n",
              "      <td>27.252</td>\n",
              "      <td>3253.93</td>\n",
              "      <td>3</td>\n",
              "      <td>Truck</td>\n",
              "      <td>NaN</td>\n",
              "      <td>1</td>\n",
              "    </tr>\n",
              "  </tbody>\n",
              "</table>\n",
              "</div>"
            ],
            "text/plain": [
              "   BASE LIST PRICE  Billing document  ... Unnamed: 0 Include\n",
              "0          3274.02        9037111479  ...        NaN       1\n",
              "1          3255.55        9037111483  ...        NaN       1\n",
              "2          3274.02        9037003468  ...        NaN       1\n",
              "3          3269.76        9037003465  ...        NaN       1\n",
              "4          3283.97        9037111488  ...        NaN       1\n",
              "\n",
              "[5 rows x 45 columns]"
            ]
          },
          "metadata": {
            "tags": []
          },
          "execution_count": 87
        }
      ]
    },
    {
      "cell_type": "code",
      "metadata": {
        "id": "gGQSow6rgZsp",
        "colab_type": "code",
        "outputId": "cf08d7b7-3395-4964-e971-687685587be8",
        "colab": {
          "base_uri": "https://localhost:8080/",
          "height": 119
        }
      },
      "source": [
        "### Validate (2/2).  SHould be empty dataframe\n",
        "Main_file[(Main_file[\"Plant\"]=='5473') & (Main_file[\"Material Code\"]=='443') & (Main_file[\"Product Form\"]==\"B\") & (Main_file[\"Product Class Name\"]=='I..')].head()"
      ],
      "execution_count": 0,
      "outputs": [
        {
          "output_type": "execute_result",
          "data": {
            "text/html": [
              "<div>\n",
              "<style scoped>\n",
              "    .dataframe tbody tr th:only-of-type {\n",
              "        vertical-align: middle;\n",
              "    }\n",
              "\n",
              "    .dataframe tbody tr th {\n",
              "        vertical-align: top;\n",
              "    }\n",
              "\n",
              "    .dataframe thead th {\n",
              "        text-align: right;\n",
              "    }\n",
              "</style>\n",
              "<table border=\"1\" class=\"dataframe\">\n",
              "  <thead>\n",
              "    <tr style=\"text-align: right;\">\n",
              "      <th></th>\n",
              "      <th>BASE LIST PRICE</th>\n",
              "      <th>Billing document</th>\n",
              "      <th>Business Region</th>\n",
              "      <th>Business Region Name</th>\n",
              "      <th>Cal. year / month</th>\n",
              "      <th>Calendar day</th>\n",
              "      <th>Customer Group</th>\n",
              "      <th>Customer Group Name</th>\n",
              "      <th>DEDUCTIONS</th>\n",
              "      <th>Incoterms</th>\n",
              "      <th>Incoterms Name</th>\n",
              "      <th>Industry Code</th>\n",
              "      <th>Industry Code Name</th>\n",
              "      <th>Material</th>\n",
              "      <th>Material Code</th>\n",
              "      <th>Micromarket</th>\n",
              "      <th>Micromarket Name</th>\n",
              "      <th>OUTBOUND FREIGHT</th>\n",
              "      <th>Parent</th>\n",
              "      <th>Parent Name</th>\n",
              "      <th>Plant</th>\n",
              "      <th>Plant Name</th>\n",
              "      <th>Product Class Name</th>\n",
              "      <th>Product Family</th>\n",
              "      <th>Product Family Name</th>\n",
              "      <th>Product Form</th>\n",
              "      <th>Product Form Name</th>\n",
              "      <th>Product Type</th>\n",
              "      <th>Product Type Name</th>\n",
              "      <th>Sales District</th>\n",
              "      <th>Sales District Name</th>\n",
              "      <th>Sales Group</th>\n",
              "      <th>Sales Group Name</th>\n",
              "      <th>Ship To</th>\n",
              "      <th>Ship To Name</th>\n",
              "      <th>Sold To</th>\n",
              "      <th>Sold To Name</th>\n",
              "      <th>Source Location</th>\n",
              "      <th>Source Location Name</th>\n",
              "      <th>TONS</th>\n",
              "      <th>TPM Average Selling Price</th>\n",
              "      <th>Transportation Mode</th>\n",
              "      <th>Transportation Mode Name</th>\n",
              "      <th>Unnamed: 0</th>\n",
              "      <th>Include</th>\n",
              "    </tr>\n",
              "  </thead>\n",
              "  <tbody>\n",
              "  </tbody>\n",
              "</table>\n",
              "</div>"
            ],
            "text/plain": [
              "Empty DataFrame\n",
              "Columns: [BASE LIST PRICE, Billing document, Business Region, Business Region Name, Cal. year / month, Calendar day, Customer Group, Customer Group Name, DEDUCTIONS, Incoterms, Incoterms Name, Industry Code, Industry Code Name, Material, Material Code, Micromarket, Micromarket Name, OUTBOUND FREIGHT, Parent, Parent Name, Plant, Plant Name, Product Class Name, Product Family, Product Family Name, Product Form, Product Form Name, Product Type, Product Type Name, Sales District, Sales District Name, Sales Group, Sales Group Name, Ship To, Ship To Name, Sold To, Sold To Name, Source Location, Source Location Name, TONS, TPM Average Selling Price, Transportation Mode, Transportation Mode Name, Unnamed: 0, Include]\n",
              "Index: []"
            ]
          },
          "metadata": {
            "tags": []
          },
          "execution_count": 65
        }
      ]
    },
    {
      "cell_type": "code",
      "metadata": {
        "id": "qAZprfkaunFR",
        "colab_type": "code",
        "outputId": "f235f54e-015a-4acf-c1b8-7478ef5d7d53",
        "colab": {
          "base_uri": "https://localhost:8080/",
          "height": 119
        }
      },
      "source": [
        "###Validating (2/2).  Should be empty dataframe\n",
        "\n",
        "Main_file[(Main_file[\"Plant\"]=='5473') & (Main_file[\"Material Code\"]=='443') & (Main_file[\"Product Form\"]==\"B\") & (Main_file[\"Product Class Name\"]=='1/2')].head()"
      ],
      "execution_count": 0,
      "outputs": [
        {
          "output_type": "execute_result",
          "data": {
            "text/html": [
              "<div>\n",
              "<style scoped>\n",
              "    .dataframe tbody tr th:only-of-type {\n",
              "        vertical-align: middle;\n",
              "    }\n",
              "\n",
              "    .dataframe tbody tr th {\n",
              "        vertical-align: top;\n",
              "    }\n",
              "\n",
              "    .dataframe thead th {\n",
              "        text-align: right;\n",
              "    }\n",
              "</style>\n",
              "<table border=\"1\" class=\"dataframe\">\n",
              "  <thead>\n",
              "    <tr style=\"text-align: right;\">\n",
              "      <th></th>\n",
              "      <th>BASE LIST PRICE</th>\n",
              "      <th>Billing document</th>\n",
              "      <th>Business Region</th>\n",
              "      <th>Business Region Name</th>\n",
              "      <th>Cal. year / month</th>\n",
              "      <th>Calendar day</th>\n",
              "      <th>Customer Group</th>\n",
              "      <th>Customer Group Name</th>\n",
              "      <th>DEDUCTIONS</th>\n",
              "      <th>Incoterms</th>\n",
              "      <th>Incoterms Name</th>\n",
              "      <th>Industry Code</th>\n",
              "      <th>Industry Code Name</th>\n",
              "      <th>Material</th>\n",
              "      <th>Material Code</th>\n",
              "      <th>Micromarket</th>\n",
              "      <th>Micromarket Name</th>\n",
              "      <th>OUTBOUND FREIGHT</th>\n",
              "      <th>Parent</th>\n",
              "      <th>Parent Name</th>\n",
              "      <th>Plant</th>\n",
              "      <th>Plant Name</th>\n",
              "      <th>Product Class Name</th>\n",
              "      <th>Product Family</th>\n",
              "      <th>Product Family Name</th>\n",
              "      <th>Product Form</th>\n",
              "      <th>Product Form Name</th>\n",
              "      <th>Product Type</th>\n",
              "      <th>Product Type Name</th>\n",
              "      <th>Sales District</th>\n",
              "      <th>Sales District Name</th>\n",
              "      <th>Sales Group</th>\n",
              "      <th>Sales Group Name</th>\n",
              "      <th>Ship To</th>\n",
              "      <th>Ship To Name</th>\n",
              "      <th>Sold To</th>\n",
              "      <th>Sold To Name</th>\n",
              "      <th>Source Location</th>\n",
              "      <th>Source Location Name</th>\n",
              "      <th>TONS</th>\n",
              "      <th>TPM Average Selling Price</th>\n",
              "      <th>Transportation Mode</th>\n",
              "      <th>Transportation Mode Name</th>\n",
              "      <th>Unnamed: 0</th>\n",
              "      <th>Include</th>\n",
              "    </tr>\n",
              "  </thead>\n",
              "  <tbody>\n",
              "  </tbody>\n",
              "</table>\n",
              "</div>"
            ],
            "text/plain": [
              "Empty DataFrame\n",
              "Columns: [BASE LIST PRICE, Billing document, Business Region, Business Region Name, Cal. year / month, Calendar day, Customer Group, Customer Group Name, DEDUCTIONS, Incoterms, Incoterms Name, Industry Code, Industry Code Name, Material, Material Code, Micromarket, Micromarket Name, OUTBOUND FREIGHT, Parent, Parent Name, Plant, Plant Name, Product Class Name, Product Family, Product Family Name, Product Form, Product Form Name, Product Type, Product Type Name, Sales District, Sales District Name, Sales Group, Sales Group Name, Ship To, Ship To Name, Sold To, Sold To Name, Source Location, Source Location Name, TONS, TPM Average Selling Price, Transportation Mode, Transportation Mode Name, Unnamed: 0, Include]\n",
              "Index: []"
            ]
          },
          "metadata": {
            "tags": []
          },
          "execution_count": 66
        }
      ]
    },
    {
      "cell_type": "code",
      "metadata": {
        "id": "xXPI8g40nnAe",
        "colab_type": "code",
        "outputId": "3193f3e2-4514-463a-f9ac-85b35cfd7095",
        "colab": {
          "base_uri": "https://localhost:8080/",
          "height": 54
        }
      },
      "source": [
        "\"\"\"#### CHANGE PRODUCT CLASS ONLY\n",
        "Main_file[\"Product Class Name\"][(Main_file[\"Plant\"]=='5470') & (Main_file[\"Material Code\"]==443) & (Main_file[\"Product Form\"]==\"B\") & (Main_file[\"Product Class Name\"]=='I..')]='1/2'\n",
        "Main_file[\"Product Class Name\"][(Main_file[\"Plant\"]=='5471') & (Main_file[\"Material Code\"]==443) & (Main_file[\"Product Form\"]==\"B\") & (Main_file[\"Product Class Name\"]=='I..')]='1/2'\n",
        "Main_file[\"Product Class Name\"][(Main_file[\"Plant\"]=='5473') & (Main_file[\"Material Code\"]==443) & (Main_file[\"Product Form\"]==\"B\") & (Main_file[\"Product Class Name\"]=='I..')]='1/2'\n",
        "Main_file[\"Product Class Name\"][(Main_file[\"Plant\"]=='5475') & (Main_file[\"Material Code\"]==443) & (Main_file[\"Product Form\"]==\"B\") & (Main_file[\"Product Class Name\"]=='I..')]='1/2'\n",
        "Main_file[\"Product Class Name\"][(Main_file[\"Plant\"]=='5476') & (Main_file[\"Material Code\"]==443) & (Main_file[\"Product Form\"]==\"B\") & (Main_file[\"Product Class Name\"]=='I..')]='1/2'\n",
        "Main_file[\"Product Class Name\"][(Main_file[\"Plant\"]=='5469') & (Main_file[\"Material Code\"]==443) & (Main_file[\"Product Form\"]==\"B\") & (Main_file[\"Product Class Name\"]=='I..')]='1/2'\n",
        "Main_file[\"Product Class Name\"][(Main_file[\"Plant\"]=='5475') & (Main_file[\"Material Code\"]==3041) & (Main_file[\"Product Form\"]==\"B\") & (Main_file[\"Product Class Name\"]=='I..')]='1/2'\n",
        "###### CHANGE PLANTS ONLY\n",
        "Main_file[\"Plant\"][(Main_file[\"Plant\"]=='5473') & (Main_file[\"Material Code\"]==443) & (Main_file[\"Product Form\"]==\"B\") & (Main_file[\"Product Class Name\"]=='1/2')]='5475'\n",
        "Main_file[\"Plant\"][(Main_file[\"Plant\"]=='5469') & (Main_file[\"Material Code\"]==443) & (Main_file[\"Product Form\"]==\"B\") & (Main_file[\"Product Class Name\"]=='1/2')]='5476'\n",
        "Main_file[\"Plant\"][(Main_file[\"Plant\"]=='5487') & (Main_file[\"Material Code\"]==5221) & (Main_file[\"Product Form\"]==\"B\") & (Main_file[\"Product Class Name\"]=='OW.')]='7535'\n",
        "Main_file[\"Plant\"][(Main_file[\"Plant\"]=='5487') & (Main_file[\"Material Code\"]==5219) & (Main_file[\"Product Form\"]==\"B\") & (Main_file[\"Product Class Name\"]=='OW.')]='7535'\n",
        "Main_file[\"Plant\"][(Main_file[\"Plant\"]=='9269') & (Main_file[\"Material Code\"]==1615) & (Main_file[\"Product Form\"]==\"B\") & (Main_file[\"Product Class Name\"]=='1/2')]='5274'\n",
        "Main_file[\"Plant\"][(Main_file[\"Plant\"]=='5496') & (Main_file[\"Material Code\"]==9) & (Main_file[\"Product Form\"]==\"B\") & (Main_file[\"Product Class Name\"]=='1/2')]='5598'\n",
        "\n",
        "\n",
        "##### EXCLUDES SALES OFFICE 9000 UNLESS IT MEETS CERTAIN CRITERIA\n",
        "Main_file[\"Include\"]=1\n",
        "Main_file[\"Include\"][Main_file[\"Sales Group Name\"].isin(['SOUTHERN TRADE','MIDWEST TRADE','TX/OK TRADE','MOUNTAIN TRADE'])]=0\n",
        "Main_file[\"Include\"][(Main_file[\"Plant\"]=='5417') & (Main_file[\"Material Code\"]==5153) & (Main_file[\"Product Form\"]==\"P\") & (Main_file[\"Product Class Name\"]=='I..')& Main_file[\"Sold To\"]==52521]=1\n",
        "Main_file[\"Include\"][(Main_file[\"Plant\"]=='5417') & (Main_file[\"Material Code\"]==5165) & (Main_file[\"Product Form\"]==\"P\") & (Main_file[\"Product Class Name\"]=='III')& Main_file[\"Sold To\"]==52521]=1\n",
        "Main_file[\"Include\"][(Main_file[\"Plant\"]=='5417') & (Main_file[\"Material Code\"]==5199) & (Main_file[\"Product Form\"]==\"P\") & (Main_file[\"Product Class Name\"]=='N..')& Main_file[\"Sold To\"]==52521]=1\n",
        "Main_file[\"Include\"][(Main_file[\"Plant\"]=='5417') & (Main_file[\"Material Code\"]==5201) & (Main_file[\"Product Form\"]==\"P\") & (Main_file[\"Product Class Name\"]=='S..')& Main_file[\"Sold To\"]==52521]=1\n",
        "Main_file[\"Include\"][(Main_file[\"Plant\"]=='5417') & (Main_file[\"Material Code\"]==5153) & (Main_file[\"Product Form\"]==\"P\") & (Main_file[\"Product Class Name\"]=='I..')& Main_file[\"Sold To\"]=='0000052521']=1\n",
        "Main_file[\"Include\"][(Main_file[\"Plant\"]=='5417') & (Main_file[\"Material Code\"]==5165) & (Main_file[\"Product Form\"]==\"P\") & (Main_file[\"Product Class Name\"]=='III')& Main_file[\"Sold To\"]=='0000052521']=1\n",
        "Main_file[\"Include\"][(Main_file[\"Plant\"]=='5417') & (Main_file[\"Material Code\"]==5199) & (Main_file[\"Product Form\"]==\"P\") & (Main_file[\"Product Class Name\"]=='N..')& Main_file[\"Sold To\"]=='0000052521']=1\n",
        "Main_file[\"Include\"][(Main_file[\"Plant\"]=='5417') & (Main_file[\"Material Code\"]==5201) & (Main_file[\"Product Form\"]==\"P\") & (Main_file[\"Product Class Name\"]=='S..')& Main_file[\"Sold To\"]=='0000052521']=1\n",
        "Main_file[\"Include\"][(Main_file[\"Plant\"]=='7540') & (Main_file[\"Material Code\"]==4831) & (Main_file[\"Product Form\"]==\"B\") & (Main_file[\"Product Class Name\"]=='120')& Main_file[\"Sold To\"]==62414]=1\n",
        "Main_file[\"Include\"][(Main_file[\"Plant\"]=='7540') & (Main_file[\"Material Code\"]==4921) & (Main_file[\"Product Form\"]==\"B\") & (Main_file[\"Product Class Name\"]=='100')& Main_file[\"Sold To\"]==62414]=1\n",
        "Main_file[\"Include\"][(Main_file[\"Plant\"]=='7540') & (Main_file[\"Material Code\"]==4831) & (Main_file[\"Product Form\"]==\"B\") & (Main_file[\"Product Class Name\"]=='120')& Main_file[\"Sold To\"]=='0000062414']=1\n",
        "Main_file[\"Include\"][(Main_file[\"Plant\"]=='7540') & (Main_file[\"Material Code\"]==4921) & (Main_file[\"Product Form\"]==\"B\") & (Main_file[\"Product Class Name\"]=='100')& Main_file[\"Sold To\"]=='0000062414']=1\"\"\""
      ],
      "execution_count": 0,
      "outputs": [
        {
          "output_type": "execute_result",
          "data": {
            "text/plain": [
              "'#### CHANGE PRODUCT CLASS ONLY\\nMain_file[\"Product Class Name\"][(Main_file[\"Plant\"]==\\'5470\\') & (Main_file[\"Material Code\"]==443) & (Main_file[\"Product Form\"]==\"B\") & (Main_file[\"Product Class Name\"]==\\'I..\\')]=\\'1/2\\'\\nMain_file[\"Product Class Name\"][(Main_file[\"Plant\"]==\\'5471\\') & (Main_file[\"Material Code\"]==443) & (Main_file[\"Product Form\"]==\"B\") & (Main_file[\"Product Class Name\"]==\\'I..\\')]=\\'1/2\\'\\nMain_file[\"Product Class Name\"][(Main_file[\"Plant\"]==\\'5473\\') & (Main_file[\"Material Code\"]==443) & (Main_file[\"Product Form\"]==\"B\") & (Main_file[\"Product Class Name\"]==\\'I..\\')]=\\'1/2\\'\\nMain_file[\"Product Class Name\"][(Main_file[\"Plant\"]==\\'5475\\') & (Main_file[\"Material Code\"]==443) & (Main_file[\"Product Form\"]==\"B\") & (Main_file[\"Product Class Name\"]==\\'I..\\')]=\\'1/2\\'\\nMain_file[\"Product Class Name\"][(Main_file[\"Plant\"]==\\'5476\\') & (Main_file[\"Material Code\"]==443) & (Main_file[\"Product Form\"]==\"B\") & (Main_file[\"Product Class Name\"]==\\'I..\\')]=\\'1/2\\'\\nMain_file[\"Product Class Name\"][(Main_file[\"Plant\"]==\\'5469\\') & (Main_file[\"Material Code\"]==443) & (Main_file[\"Product Form\"]==\"B\") & (Main_file[\"Product Class Name\"]==\\'I..\\')]=\\'1/2\\'\\nMain_file[\"Product Class Name\"][(Main_file[\"Plant\"]==\\'5475\\') & (Main_file[\"Material Code\"]==3041) & (Main_file[\"Product Form\"]==\"B\") & (Main_file[\"Product Class Name\"]==\\'I..\\')]=\\'1/2\\'\\n###### CHANGE PLANTS ONLY\\nMain_file[\"Plant\"][(Main_file[\"Plant\"]==\\'5473\\') & (Main_file[\"Material Code\"]==443) & (Main_file[\"Product Form\"]==\"B\") & (Main_file[\"Product Class Name\"]==\\'1/2\\')]=\\'5475\\'\\nMain_file[\"Plant\"][(Main_file[\"Plant\"]==\\'5469\\') & (Main_file[\"Material Code\"]==443) & (Main_file[\"Product Form\"]==\"B\") & (Main_file[\"Product Class Name\"]==\\'1/2\\')]=\\'5476\\'\\nMain_file[\"Plant\"][(Main_file[\"Plant\"]==\\'5487\\') & (Main_file[\"Material Code\"]==5221) & (Main_file[\"Product Form\"]==\"B\") & (Main_file[\"Product Class Name\"]==\\'OW.\\')]=\\'7535\\'\\nMain_file[\"Plant\"][(Main_file[\"Plant\"]==\\'5487\\') & (Main_file[\"Material Code\"]==5219) & (Main_file[\"Product Form\"]==\"B\") & (Main_file[\"Product Class Name\"]==\\'OW.\\')]=\\'7535\\'\\nMain_file[\"Plant\"][(Main_file[\"Plant\"]==\\'9269\\') & (Main_file[\"Material Code\"]==1615) & (Main_file[\"Product Form\"]==\"B\") & (Main_file[\"Product Class Name\"]==\\'1/2\\')]=\\'5274\\'\\nMain_file[\"Plant\"][(Main_file[\"Plant\"]==\\'5496\\') & (Main_file[\"Material Code\"]==9) & (Main_file[\"Product Form\"]==\"B\") & (Main_file[\"Product Class Name\"]==\\'1/2\\')]=\\'5598\\'\\n\\n\\n##### EXCLUDES SALES OFFICE 9000 UNLESS IT MEETS CERTAIN CRITERIA\\nMain_file[\"Include\"]=1\\nMain_file[\"Include\"][Main_file[\"Sales Group Name\"].isin([\\'SOUTHERN TRADE\\',\\'MIDWEST TRADE\\',\\'TX/OK TRADE\\',\\'MOUNTAIN TRADE\\'])]=0\\nMain_file[\"Include\"][(Main_file[\"Plant\"]==\\'5417\\') & (Main_file[\"Material Code\"]==5153) & (Main_file[\"Product Form\"]==\"P\") & (Main_file[\"Product Class Name\"]==\\'I..\\')& Main_file[\"Sold To\"]==52521]=1\\nMain_file[\"Include\"][(Main_file[\"Plant\"]==\\'5417\\') & (Main_file[\"Material Code\"]==5165) & (Main_file[\"Product Form\"]==\"P\") & (Main_file[\"Product Class Name\"]==\\'III\\')& Main_file[\"Sold To\"]==52521]=1\\nMain_file[\"Include\"][(Main_file[\"Plant\"]==\\'5417\\') & (Main_file[\"Material Code\"]==5199) & (Main_file[\"Product Form\"]==\"P\") & (Main_file[\"Product Class Name\"]==\\'N..\\')& Main_file[\"Sold To\"]==52521]=1\\nMain_file[\"Include\"][(Main_file[\"Plant\"]==\\'5417\\') & (Main_file[\"Material Code\"]==5201) & (Main_file[\"Product Form\"]==\"P\") & (Main_file[\"Product Class Name\"]==\\'S..\\')& Main_file[\"Sold To\"]==52521]=1\\nMain_file[\"Include\"][(Main_file[\"Plant\"]==\\'5417\\') & (Main_file[\"Material Code\"]==5153) & (Main_file[\"Product Form\"]==\"P\") & (Main_file[\"Product Class Name\"]==\\'I..\\')& Main_file[\"Sold To\"]==\\'0000052521\\']=1\\nMain_file[\"Include\"][(Main_file[\"Plant\"]==\\'5417\\') & (Main_file[\"Material Code\"]==5165) & (Main_file[\"Product Form\"]==\"P\") & (Main_file[\"Product Class Name\"]==\\'III\\')& Main_file[\"Sold To\"]==\\'0000052521\\']=1\\nMain_file[\"Include\"][(Main_file[\"Plant\"]==\\'5417\\') & (Main_file[\"Material Code\"]==5199) & (Main_file[\"Product Form\"]==\"P\") & (Main_file[\"Product Class Name\"]==\\'N..\\')& Main_file[\"Sold To\"]==\\'0000052521\\']=1\\nMain_file[\"Include\"][(Main_file[\"Plant\"]==\\'5417\\') & (Main_file[\"Material Code\"]==5201) & (Main_file[\"Product Form\"]==\"P\") & (Main_file[\"Product Class Name\"]==\\'S..\\')& Main_file[\"Sold To\"]==\\'0000052521\\']=1\\nMain_file[\"Include\"][(Main_file[\"Plant\"]==\\'7540\\') & (Main_file[\"Material Code\"]==4831) & (Main_file[\"Product Form\"]==\"B\") & (Main_file[\"Product Class Name\"]==\\'120\\')& Main_file[\"Sold To\"]==62414]=1\\nMain_file[\"Include\"][(Main_file[\"Plant\"]==\\'7540\\') & (Main_file[\"Material Code\"]==4921) & (Main_file[\"Product Form\"]==\"B\") & (Main_file[\"Product Class Name\"]==\\'100\\')& Main_file[\"Sold To\"]==62414]=1\\nMain_file[\"Include\"][(Main_file[\"Plant\"]==\\'7540\\') & (Main_file[\"Material Code\"]==4831) & (Main_file[\"Product Form\"]==\"B\") & (Main_file[\"Product Class Name\"]==\\'120\\')& Main_file[\"Sold To\"]==\\'0000062414\\']=1\\nMain_file[\"Include\"][(Main_file[\"Plant\"]==\\'7540\\') & (Main_file[\"Material Code\"]==4921) & (Main_file[\"Product Form\"]==\"B\") & (Main_file[\"Product Class Name\"]==\\'100\\')& Main_file[\"Sold To\"]==\\'0000062414\\']=1'"
            ]
          },
          "metadata": {
            "tags": []
          },
          "execution_count": 67
        }
      ]
    },
    {
      "cell_type": "code",
      "metadata": {
        "id": "pbuiVOfM3dUG",
        "colab_type": "code",
        "outputId": "8fbf3ece-1ad0-4e2d-ef2e-c103d0ffc03a",
        "colab": {
          "base_uri": "https://localhost:8080/",
          "height": 34
        }
      },
      "source": [
        "#### The Number of Trade Sales that we are Including.  WE are only including only ones that meet the criteria above\n",
        "Main_file[\"Include\"][Main_file[\"Sales Group Name\"].isin(['SOUTHERN TRADE','MIDWEST TRADE','TX/OK TRADE','MOUNTAIN TRADE'])].sum()"
      ],
      "execution_count": 0,
      "outputs": [
        {
          "output_type": "execute_result",
          "data": {
            "text/plain": [
              "0"
            ]
          },
          "metadata": {
            "tags": []
          },
          "execution_count": 68
        }
      ]
    },
    {
      "cell_type": "code",
      "metadata": {
        "id": "6wYNDQJF41J8",
        "colab_type": "code",
        "outputId": "096e143e-eba4-4905-a2e6-9006c18304e9",
        "colab": {
          "base_uri": "https://localhost:8080/",
          "height": 34
        }
      },
      "source": [
        "#####Proportion of data we are excluding that are trade sales\n",
        "Main_file[\"Include\"][Main_file[\"Include\"]==0].count()/Main_file[\"Include\"][Main_file[\"Include\"]==1].count()"
      ],
      "execution_count": 0,
      "outputs": [
        {
          "output_type": "execute_result",
          "data": {
            "text/plain": [
              "0.004122330513823066"
            ]
          },
          "metadata": {
            "tags": []
          },
          "execution_count": 69
        }
      ]
    },
    {
      "cell_type": "code",
      "metadata": {
        "id": "M6IbRLLGp-uJ",
        "colab_type": "code",
        "colab": {}
      },
      "source": [
        "#####SELECT ONLY DATA WITH 1'S\n",
        "Main_file=Main_file[Main_file[\"Include\"]==1]\n"
      ],
      "execution_count": 0,
      "outputs": []
    },
    {
      "cell_type": "code",
      "metadata": {
        "id": "gP9sgnO_cpj1",
        "colab_type": "code",
        "outputId": "c329e8d3-e6c0-4138-c314-f3459ede0ceb",
        "colab": {
          "base_uri": "https://localhost:8080/",
          "height": 34
        }
      },
      "source": [
        "print(Main_file[\"TONS\"][pd.to_datetime(Main_file['Calendar day']).dt.year==2016].sum(),\n",
        "Main_file[\"TONS\"][pd.to_datetime(Main_file['Calendar day']).dt.year==2017].sum(),\n",
        "Main_file[\"TONS\"][pd.to_datetime(Main_file['Calendar day']).dt.year==2018].sum(),\n",
        "Main_file[\"TONS\"][pd.to_datetime(Main_file['Calendar day']).dt.year==2019].sum())\n"
      ],
      "execution_count": 0,
      "outputs": [
        {
          "output_type": "stream",
          "text": [
            "14912766.954000004 15217450.963000005 15532019.464000005 16831877.954\n"
          ],
          "name": "stdout"
        }
      ]
    },
    {
      "cell_type": "code",
      "metadata": {
        "id": "B5zRvTNA4uI8",
        "colab_type": "code",
        "colab": {}
      },
      "source": [
        "######WRITE OUT THE FILE \n",
        "os.chdir(dir_output)\n",
        "Main_file.to_csv(\"Master_file.csv\")"
      ],
      "execution_count": 0,
      "outputs": []
    },
    {
      "cell_type": "code",
      "metadata": {
        "id": "Z9FkV-F6lOqe",
        "colab_type": "code",
        "colab": {}
      },
      "source": [
        "##########################################################################################################################################################################################################################################################\n",
        "##########################################################################################################################################################################################################################################################\n",
        "##########################################################################################################################################################################################################################################################\n",
        "##########################################################################################################################################################################################################################################################\n",
        "##########################################################################################################################################################################################################################################################\n",
        "##################    \n",
        "\n",
        "\n",
        "#START HERE IF DATA ALREADY GENERATED\n"
      ],
      "execution_count": 0,
      "outputs": []
    },
    {
      "cell_type": "code",
      "metadata": {
        "id": "97dPwAnL9wMy",
        "colab_type": "code",
        "outputId": "fcac53f3-48c1-4cae-e975-f676e7231ff0",
        "colab": {
          "base_uri": "https://localhost:8080/",
          "height": 51
        }
      },
      "source": [
        "###READ IN MASTER FILE\n",
        "\n",
        "os.chdir(dir_output)\n",
        "Master_files=pd.read_csv(\"Master_file.csv\",parse_dates=True)"
      ],
      "execution_count": 4,
      "outputs": [
        {
          "output_type": "stream",
          "text": [
            "/usr/local/lib/python3.6/dist-packages/IPython/core/interactiveshell.py:2718: DtypeWarning: Columns (19,21,34,36,38,42) have mixed types. Specify dtype option on import or set low_memory=False.\n",
            "  interactivity=interactivity, compiler=compiler, result=result)\n"
          ],
          "name": "stderr"
        }
      ]
    },
    {
      "cell_type": "code",
      "metadata": {
        "id": "fJXRVBzkuz-F",
        "colab_type": "code",
        "outputId": "80e7a578-bb89-45dd-d799-95a9fb10ef7c",
        "colab": {
          "base_uri": "https://localhost:8080/",
          "height": 34
        }
      },
      "source": [
        "\n",
        "Master_files[\"Sold To\"]=Master_files[\"Sold To\"].astype(str)\n",
        "len(Master_files[\"Sold To\"].unique())\n"
      ],
      "execution_count": 5,
      "outputs": [
        {
          "output_type": "execute_result",
          "data": {
            "text/plain": [
              "3610"
            ]
          },
          "metadata": {
            "tags": []
          },
          "execution_count": 5
        }
      ]
    },
    {
      "cell_type": "code",
      "metadata": {
        "id": "FiM5yd-G-9wq",
        "colab_type": "code",
        "colab": {}
      },
      "source": [
        "########Take only company codes that are not projects#############\n",
        "industry_code_projects_num=[11111, 233310, 233314, 23411,234113, 238118, 238119, 238991, 238992, 238993, 238994, 238999, 327310, 327392]\n",
        "\n",
        "#industry_code_no_projects=['0001','120','212299','213111','235610','238990','32732','327320','327331','327332','327333','32739',\n",
        "#'327390','327395','332619','42132','423320','444190','999901','999902']\n",
        "industry_code_no_projects_num=[32732,\t327333,\t32739,\t423320,\t327332,\t235610,\t444190,\t327320,\t327331,\t120,\t238990,\t327390,\t212299,\n",
        "                           213111,\t332619,\t42132,\t327395,\t444191,\t235310,\t327391]\n",
        "\n",
        "\n",
        "\n",
        "Master_files=Master_files[~Master_files[\"Industry Code\"].isin(industry_code_projects_num)]\n",
        "ind_count=list(Master_files[\"Industry Code\"].unique())"
      ],
      "execution_count": 0,
      "outputs": []
    },
    {
      "cell_type": "code",
      "metadata": {
        "id": "2AfMEGwb0C5P",
        "colab_type": "code",
        "colab": {}
      },
      "source": [
        "Master_files[\"Plant\"]=Master_files[\"Plant\"].astype(str)"
      ],
      "execution_count": 0,
      "outputs": []
    },
    {
      "cell_type": "code",
      "metadata": {
        "id": "_U0LRJk_1zos",
        "colab_type": "code",
        "outputId": "9a54d184-0fba-400a-a76c-bbb8048f3eff",
        "colab": {
          "base_uri": "https://localhost:8080/",
          "height": 34
        }
      },
      "source": [
        "######## CHECK PLANT 5351 FOR AUG.  SHOULD BE IN THE 20S\n",
        "\n",
        "Master_files[(Master_files[\"Plant\"]=='5351') & (Master_files[\"Product Class Name\"]=='1/2')& (Master_files[\"Product Form\"]=='B') & (pd.to_datetime(Master_files[\"Calendar day\"]).dt.month==8)&(pd.to_datetime(Master_files[\"Calendar day\"]).dt.year==2019)]['TONS'].sum()"
      ],
      "execution_count": 8,
      "outputs": [
        {
          "output_type": "execute_result",
          "data": {
            "text/plain": [
              "25224.581"
            ]
          },
          "metadata": {
            "tags": []
          },
          "execution_count": 8
        }
      ]
    },
    {
      "cell_type": "code",
      "metadata": {
        "id": "HmqTDqH1k75O",
        "colab_type": "code",
        "outputId": "5dcc49df-6970-4863-9c0f-8c6f86e5ef7d",
        "colab": {
          "base_uri": "https://localhost:8080/",
          "height": 221
        }
      },
      "source": [
        "pd.to_datetime(Master_files[\"Calendar day\"]).apply(lambda x: x.weekday())"
      ],
      "execution_count": 9,
      "outputs": [
        {
          "output_type": "execute_result",
          "data": {
            "text/plain": [
              "0          0\n",
              "1          0\n",
              "2          5\n",
              "3          5\n",
              "4          0\n",
              "          ..\n",
              "2669844    4\n",
              "2669845    4\n",
              "2669846    3\n",
              "2669847    4\n",
              "2669848    2\n",
              "Name: Calendar day, Length: 2287363, dtype: int64"
            ]
          },
          "metadata": {
            "tags": []
          },
          "execution_count": 9
        }
      ]
    },
    {
      "cell_type": "code",
      "metadata": {
        "id": "TpjolUNg-I8K",
        "colab_type": "code",
        "colab": {}
      },
      "source": [
        "##CREATE THE WEEK COLUMN.  THIS ROUNDS DATE TO THE NEXT WEEKDAY THAT YOU CHOOSE. 6=SUNDAY. WE WILL ROUND TO THE NEAREST FUTURE SUNDAY \n",
        "def next_weekday(d, weekday): ###'d' is the date from dataframe.  \n",
        "    days_ahead = weekday - d.weekday() #'weekday' is the day of the week you want to move ahead (0=Monday, 1=Tuesday, 6=Sunday)\n",
        "    if days_ahead <= 0: # Target day already happened this week\n",
        "        days_ahead += 7\n",
        "    return d + td(days_ahead)\n"
      ],
      "execution_count": 0,
      "outputs": []
    },
    {
      "cell_type": "code",
      "metadata": {
        "id": "S0tVAKUO-sCO",
        "colab_type": "code",
        "outputId": "507a61cd-78ea-4f41-e6e9-19cd7b5d598b",
        "colab": {
          "base_uri": "https://localhost:8080/",
          "height": 119
        }
      },
      "source": [
        "####GROUPS THE ACTUAL VOLUMES BY 5 GROUPBY CLASSES.  CREATE THE 'WEEK' DATASET\n",
        "\n",
        "Master_files[\"Week\"]=pd.to_datetime(Master_files[\"Calendar day\"]).apply(lambda x: next_weekday(x,6)) \n",
        "Master_files_week=Master_files[[\"Plant\",\"Product Class Name\",\"Product Form\",\"Week\",\"TONS\"]]\n",
        "Master_files_week=Master_files_week.groupby(by=[\"Plant\",\"Product Class Name\",\"Product Form\",\"Week\"]).sum().reset_index()\n",
        "Master_files_week=Master_files_week[Master_files_week['TONS']>0]\n",
        "Master_files_week['Week']=Master_files_week['Week'].map(str).str.strip().str[0:10]\n",
        "Master_files_week[\"Week Key\"]=Master_files_week['Plant'].map(str)+Master_files_week['Product Class Name'].map(str)+Master_files_week['Product Form'].map(str)+Master_files_week['Week'].map(str) ##CREATE WEEK KEY\n",
        "Master_files_week[\"Week Key\"].head()\n"
      ],
      "execution_count": 11,
      "outputs": [
        {
          "output_type": "execute_result",
          "data": {
            "text/plain": [
              "0    20581/2B2016-01-10\n",
              "1    20581/2B2016-01-17\n",
              "2    20581/2B2016-01-24\n",
              "3    20581/2B2016-01-31\n",
              "4    20581/2B2016-02-07\n",
              "Name: Week Key, dtype: object"
            ]
          },
          "metadata": {
            "tags": []
          },
          "execution_count": 11
        }
      ]
    },
    {
      "cell_type": "code",
      "metadata": {
        "id": "HC2SFFq4ftAK",
        "colab_type": "code",
        "outputId": "fb1346f1-467d-4fcd-93b4-4a510120b633",
        "colab": {
          "base_uri": "https://localhost:8080/",
          "height": 119
        }
      },
      "source": [
        "Master_files[\"Week\"].dt.month.head()"
      ],
      "execution_count": 12,
      "outputs": [
        {
          "output_type": "execute_result",
          "data": {
            "text/plain": [
              "0    11\n",
              "1    11\n",
              "2    11\n",
              "3    11\n",
              "4    11\n",
              "Name: Week, dtype: int64"
            ]
          },
          "metadata": {
            "tags": []
          },
          "execution_count": 12
        }
      ]
    },
    {
      "cell_type": "code",
      "metadata": {
        "id": "zDkOsvND_ahc",
        "colab_type": "code",
        "outputId": "13afec50-b813-4d14-e687-5406c902e4a1",
        "colab": {
          "base_uri": "https://localhost:8080/",
          "height": 197
        }
      },
      "source": [
        "# MONTH DATASET\n",
        "Master_files_month=Master_files\n",
        "Master_files_month[\"Month\"]=pd.to_datetime(Master_files_month[\"Calendar day\"]).apply(lambda x: x.replace(day=1))\n",
        "\n",
        "Master_files_month[\"Plant\"]=Master_files_month[\"Plant\"].map(str).str.strip()\n",
        "Master_files_month['Product Class Name']=Master_files_month['Product Class Name'].str.strip()\n",
        "Master_files_month['Product Form']=Master_files_month['Product Form'].str.strip()\n",
        "Master_files_month['Month']=Master_files_month['Month'].map(str).str.strip().str[0:10]\n",
        "keep=[\"Plant\",\"Product Class Name\", \"Product Form\",\"Month\",\"TONS\"]\n",
        "Master_files_month=Master_files_month[keep].groupby(by=[\"Plant\",\"Product Class Name\",\"Product Form\",\"Month\"]).sum().reset_index()\n",
        "Master_files_month=Master_files_month[Master_files_month['TONS']>0]\n",
        "\n",
        "Master_files_month[\"Month Key\"]=Master_files_month['Plant'].map(str)+Master_files_month['Product Class Name'].map(str)+Master_files_month['Product Form'].map(str)+Master_files_month['Month'].map(str) ###CREATE MONTH KEY\n",
        "Master_files_month.head()"
      ],
      "execution_count": 13,
      "outputs": [
        {
          "output_type": "execute_result",
          "data": {
            "text/html": [
              "<div>\n",
              "<style scoped>\n",
              "    .dataframe tbody tr th:only-of-type {\n",
              "        vertical-align: middle;\n",
              "    }\n",
              "\n",
              "    .dataframe tbody tr th {\n",
              "        vertical-align: top;\n",
              "    }\n",
              "\n",
              "    .dataframe thead th {\n",
              "        text-align: right;\n",
              "    }\n",
              "</style>\n",
              "<table border=\"1\" class=\"dataframe\">\n",
              "  <thead>\n",
              "    <tr style=\"text-align: right;\">\n",
              "      <th></th>\n",
              "      <th>Plant</th>\n",
              "      <th>Product Class Name</th>\n",
              "      <th>Product Form</th>\n",
              "      <th>Month</th>\n",
              "      <th>TONS</th>\n",
              "      <th>Month Key</th>\n",
              "    </tr>\n",
              "  </thead>\n",
              "  <tbody>\n",
              "    <tr>\n",
              "      <th>0</th>\n",
              "      <td>2058</td>\n",
              "      <td>1/2</td>\n",
              "      <td>B</td>\n",
              "      <td>2016-01-01</td>\n",
              "      <td>7209.035</td>\n",
              "      <td>20581/2B2016-01-01</td>\n",
              "    </tr>\n",
              "    <tr>\n",
              "      <th>1</th>\n",
              "      <td>2058</td>\n",
              "      <td>1/2</td>\n",
              "      <td>B</td>\n",
              "      <td>2016-02-01</td>\n",
              "      <td>9822.000</td>\n",
              "      <td>20581/2B2016-02-01</td>\n",
              "    </tr>\n",
              "    <tr>\n",
              "      <th>2</th>\n",
              "      <td>2058</td>\n",
              "      <td>1/2</td>\n",
              "      <td>B</td>\n",
              "      <td>2016-03-01</td>\n",
              "      <td>15850.081</td>\n",
              "      <td>20581/2B2016-03-01</td>\n",
              "    </tr>\n",
              "    <tr>\n",
              "      <th>3</th>\n",
              "      <td>2058</td>\n",
              "      <td>1/2</td>\n",
              "      <td>B</td>\n",
              "      <td>2016-04-01</td>\n",
              "      <td>18887.453</td>\n",
              "      <td>20581/2B2016-04-01</td>\n",
              "    </tr>\n",
              "    <tr>\n",
              "      <th>4</th>\n",
              "      <td>2058</td>\n",
              "      <td>1/2</td>\n",
              "      <td>B</td>\n",
              "      <td>2016-05-01</td>\n",
              "      <td>15648.649</td>\n",
              "      <td>20581/2B2016-05-01</td>\n",
              "    </tr>\n",
              "  </tbody>\n",
              "</table>\n",
              "</div>"
            ],
            "text/plain": [
              "  Plant Product Class Name  ...       TONS           Month Key\n",
              "0  2058                1/2  ...   7209.035  20581/2B2016-01-01\n",
              "1  2058                1/2  ...   9822.000  20581/2B2016-02-01\n",
              "2  2058                1/2  ...  15850.081  20581/2B2016-03-01\n",
              "3  2058                1/2  ...  18887.453  20581/2B2016-04-01\n",
              "4  2058                1/2  ...  15648.649  20581/2B2016-05-01\n",
              "\n",
              "[5 rows x 6 columns]"
            ]
          },
          "metadata": {
            "tags": []
          },
          "execution_count": 13
        }
      ]
    },
    {
      "cell_type": "code",
      "metadata": {
        "id": "eFtYBlGN_vU3",
        "colab_type": "code",
        "outputId": "fea25dbc-910b-4a12-f556-aaf76b60e0b2",
        "colab": {
          "base_uri": "https://localhost:8080/",
          "height": 167
        }
      },
      "source": [
        "Master_files_month[(Master_files_month[\"Plant\"]=='2122')&(Master_files_month[\"Product Class Name\"]==\"1/2\") & (pd.to_datetime(Master_files_month[\"Month\"]).dt.month==10)]"
      ],
      "execution_count": 14,
      "outputs": [
        {
          "output_type": "execute_result",
          "data": {
            "text/html": [
              "<div>\n",
              "<style scoped>\n",
              "    .dataframe tbody tr th:only-of-type {\n",
              "        vertical-align: middle;\n",
              "    }\n",
              "\n",
              "    .dataframe tbody tr th {\n",
              "        vertical-align: top;\n",
              "    }\n",
              "\n",
              "    .dataframe thead th {\n",
              "        text-align: right;\n",
              "    }\n",
              "</style>\n",
              "<table border=\"1\" class=\"dataframe\">\n",
              "  <thead>\n",
              "    <tr style=\"text-align: right;\">\n",
              "      <th></th>\n",
              "      <th>Plant</th>\n",
              "      <th>Product Class Name</th>\n",
              "      <th>Product Form</th>\n",
              "      <th>Month</th>\n",
              "      <th>TONS</th>\n",
              "      <th>Month Key</th>\n",
              "    </tr>\n",
              "  </thead>\n",
              "  <tbody>\n",
              "    <tr>\n",
              "      <th>80</th>\n",
              "      <td>2122</td>\n",
              "      <td>1/2</td>\n",
              "      <td>B</td>\n",
              "      <td>2016-10-01</td>\n",
              "      <td>39681.441</td>\n",
              "      <td>21221/2B2016-10-01</td>\n",
              "    </tr>\n",
              "    <tr>\n",
              "      <th>92</th>\n",
              "      <td>2122</td>\n",
              "      <td>1/2</td>\n",
              "      <td>B</td>\n",
              "      <td>2017-10-01</td>\n",
              "      <td>42681.965</td>\n",
              "      <td>21221/2B2017-10-01</td>\n",
              "    </tr>\n",
              "    <tr>\n",
              "      <th>104</th>\n",
              "      <td>2122</td>\n",
              "      <td>1/2</td>\n",
              "      <td>B</td>\n",
              "      <td>2018-10-01</td>\n",
              "      <td>37185.273</td>\n",
              "      <td>21221/2B2018-10-01</td>\n",
              "    </tr>\n",
              "    <tr>\n",
              "      <th>116</th>\n",
              "      <td>2122</td>\n",
              "      <td>1/2</td>\n",
              "      <td>B</td>\n",
              "      <td>2019-10-01</td>\n",
              "      <td>31041.409</td>\n",
              "      <td>21221/2B2019-10-01</td>\n",
              "    </tr>\n",
              "  </tbody>\n",
              "</table>\n",
              "</div>"
            ],
            "text/plain": [
              "    Plant Product Class Name  ...       TONS           Month Key\n",
              "80   2122                1/2  ...  39681.441  21221/2B2016-10-01\n",
              "92   2122                1/2  ...  42681.965  21221/2B2017-10-01\n",
              "104  2122                1/2  ...  37185.273  21221/2B2018-10-01\n",
              "116  2122                1/2  ...  31041.409  21221/2B2019-10-01\n",
              "\n",
              "[4 rows x 6 columns]"
            ]
          },
          "metadata": {
            "tags": []
          },
          "execution_count": 14
        }
      ]
    },
    {
      "cell_type": "code",
      "metadata": {
        "id": "QkPwzmn4_z-t",
        "colab_type": "code",
        "outputId": "8d93c775-d459-41af-a094-be2405bc0f22",
        "colab": {
          "base_uri": "https://localhost:8080/",
          "height": 1000
        }
      },
      "source": [
        "import numpy as np\n",
        "###############################################  WEEKLY #############################################\n",
        "#### MERGES THE WEEKLY ACTUALS WITH THE WEEKLY FORECASTS.  OUTPUT ALL THE METRICS TO EXCEL FILES\n",
        "### CREATE A LIST OF ALL THE FILES IN THE FOLDER SO WE CAN LOOP THROUGH THEM\n",
        "os.chdir(sdf_dir_weekly_v2)\n",
        "sdf_forecast_files_weekly=os.listdir(sdf_dir_weekly_v2)\n",
        "\n",
        "writer=pd.ExcelWriter('SDF_weekly_noprojects_{}.xlsx'.format(today)) ###CREATE THE EXCEL FILE\n",
        "MAPE=[]\n",
        "MAPE_after=[]\n",
        "FCA=[]\n",
        "FCA_after0=[]\n",
        "FCA_after1=[]\n",
        "FCA_after2=[]\n",
        "FCA_after3=[]\n",
        "FCA_after4=[]\n",
        "WAPE=[]\n",
        "WAPE_after0=[]\n",
        "WAPE_after1=[]\n",
        "WAPE_after2=[]\n",
        "WAPE_after3=[]\n",
        "WAPE_after4=[]\n",
        "\n",
        "FCA_iplan=[]\n",
        "FCA_iplan_after0=[]\n",
        "FCA_iplan_after1=[]\n",
        "FCA_iplan_after2=[]\n",
        "FCA_iplan_after3=[]\n",
        "FCA_iplan_after4=[]\n",
        "WAPE_iplan=[]\n",
        "WAPE_iplan_after1=[]\n",
        "WAPE_iplan_after2=[]\n",
        "WAPE_iplan_after3=[]\n",
        "WAPE_iplan_after4=[]\n",
        "for sdf_files in sdf_forecast_files_weekly:\n",
        "  os.chdir(sdf_dir_weekly_v2)\n",
        "\n",
        "  fc=pd.read_csv(sdf_files,date_parser={\"Month\",\"Day\",\"Year\"})\n",
        "  fc[\"week_relevant\"]=pd.to_datetime(fc[\"forecasted_time\"]).apply(lambda x: next_weekday(x,6)).subtract(pd.to_datetime(fc[\"actual_time\"]).apply(lambda x: next_weekday(x,6))).dt.days.divide(7).astype(int)-1\n",
        "  fc[\"Time\"]=fc['forecasted_time']\n",
        "  fc[\"Plant\"]=fc[\"Plant\"].map(str).str.strip()\n",
        "  fc['Product Class Name']=fc['Product_Class'].str.strip()\n",
        "  fc['Product Form']=fc['Product_Form'].str.strip()\n",
        "  fc['Time']=fc['Time'].map(str).str.strip().str[0:10]\n",
        "  fc[\"Key\"]=fc[\"Plant\"].map(str)+fc[\"Product Class Name\"].map(str)+fc[\"Product Form\"].map(str)+fc[\"Time\"].map(str)\n",
        "\n",
        "  week=pd.merge(fc,Master_files_week[[\"Week Key\",\"Week\",\"TONS\"]],how='inner',left_on='Key',right_on=\"Week Key\")\n",
        "  week=week.rename(columns={\"TONS\":\"Actuals\",\"volume\":\"Forecast\"})\n",
        "  week[\"Abs_Dif\"]=np.abs(week[\"Actuals\"].subtract(week[\"Forecast\"]))\n",
        "  week[\"APE\"]=week[\"Abs_Dif\"].divide(week[\"Actuals\"])\n",
        "  week[\"one\"]=1\n",
        "  week[\"APE_max1\"]=week[[\"APE\",'one']].min(axis=1)\n",
        "  week=week.drop([\"Time\",\"Key\",'Week Key','one'],axis=1)\n",
        "  time_cut=0\n",
        "  FCA_after0.append(week[\"Abs_Dif\"][week[\"week_relevant\"]==0].sum()/week[\"Actuals\"][week[\"week_relevant\"]==0+time_cut].sum())\n",
        "  FCA_after1.append(week[\"Abs_Dif\"][week[\"week_relevant\"]==1].sum()/week[\"Actuals\"][week[\"week_relevant\"]==1+time_cut].sum())\n",
        "  FCA_after2.append(week[\"Abs_Dif\"][week[\"week_relevant\"]==2].sum()/week[\"Actuals\"][week[\"week_relevant\"]==2+time_cut].sum())\n",
        "  FCA_after3.append(week[\"Abs_Dif\"][week[\"week_relevant\"]==3].sum()/week[\"Actuals\"][week[\"week_relevant\"]==3+time_cut].sum())\n",
        "  FCA_after4.append(week[\"Abs_Dif\"][week[\"week_relevant\"]==4].sum()/week[\"Actuals\"][week[\"week_relevant\"]==4+time_cut].sum())\n",
        "  FCA.append(week[\"Abs_Dif\"].sum()/week[\"Actuals\"].sum())\n",
        "  #MAPE.append(sdf_files +\": \"+ str(week[\"APE_max1\"].mean()) )\n",
        "  WAPE_after0.append(\"Wape: \"+ str(week[\"Abs_Dif\"][week[\"week_relevant\"]==0].sum()/week[\"Actuals\"][week[\"week_relevant\"]==0+time_cut].sum()))\n",
        "  WAPE_after1.append(\"Wape: \"+ str(week[\"Abs_Dif\"][week[\"week_relevant\"]==1].sum()/week[\"Actuals\"][week[\"week_relevant\"]==1+time_cut].sum()))\n",
        "  WAPE_after2.append(\"Wape: \"+ str(week[\"Abs_Dif\"][week[\"week_relevant\"]==2].sum()/week[\"Actuals\"][week[\"week_relevant\"]==2+time_cut].sum()))\n",
        "  WAPE_after3.append(\"Wape: \"+ str(week[\"Abs_Dif\"][week[\"week_relevant\"]==3].sum()/week[\"Actuals\"][week[\"week_relevant\"]==3+time_cut].sum()))  \n",
        "  WAPE_after4.append(\"Wape: \"+ str(week[\"Abs_Dif\"][week[\"week_relevant\"]==4].sum()/week[\"Actuals\"][week[\"week_relevant\"]==4+time_cut].sum()))\n",
        "  WAPE.append(\"Wape: \"+ str(week[\"Abs_Dif\"].sum()/week[\"Actuals\"].sum()))\n",
        "\n",
        "  week[\"Metric\"]=\"\"\n",
        "  week[\"Metric\"][0]=str(\"WAPE_1week: \"+str(WAPE_after1[-1]))\n",
        "  week[\"Metric\"][1]=str(\"WAPE_2week:\"+str(WAPE_after2[-1])) \n",
        "  week[\"Metric\"][2]=str(\"WAPE_3week:\"+str(WAPE_after3[-1]))\n",
        "  week[\"Metric\"][3]=str(\"WAPE_4week:\"+str(WAPE_after4[-1]))  \n",
        "  week[\"Metric\"][4]=str(\"FCA_1week:\"+str(FCA_after1[-1]))\n",
        "  week[\"Metric\"][5]=str(\"FCA_2week:\"+str(FCA_after2[-1]))\n",
        "  week[\"Metric\"][6]=str(\"FCA_3week:\"+str(FCA_after3[-1]))\n",
        "  week[\"Metric\"][7]=str(\"FCA_4week:\"+str(FCA_after4[-1]))\n",
        "  week[\"Metric\"][8]=str(\"FCA_allweeks:\"+str(FCA[-1]))\n",
        "  week[\"Metric\"][9]=str(\"WAPE_allweeks:\"+str(WAPE[-1]))\n",
        "\n",
        "  os.chdir(sdf_dir_monthly_iplan) #########iplan metrics below\n",
        "  monthly_iplan_files=os.listdir(sdf_dir_monthly_iplan)\n",
        "  iplan=pd.read_excel(\"{}_monthly_forecast_nobigproj_iplan.xlsx\".format(sdf_files[0:8]))\n",
        "  iplan=product_fix_merges(iplan)\n",
        "  iplan_keep=[\"Plant\",\"Product Class Name\",\"Product Form\",\"Calendar month\\Fiscal year\",\"2019\"]\n",
        "  iplan=iplan[iplan_keep].groupby(by=[\"Plant\",\"Product Class Name\",\"Product Form\",\"Calendar month\\Fiscal year\"]).sum().reset_index()\n",
        "  iplan[\"key_iplan\"]=iplan[\"Plant\"].astype(str)+iplan[\"Product Class Name\"].astype(str)+iplan[\"Product Form\"]+iplan[\"Calendar month\\Fiscal year\"].astype(str)\n",
        "  keep_week=[\"Plant\",\"Product_Class\",\"Product_Form\",\"actual_time\",\"forecasted_time\",\"Week\",\"week_relevant\",\"Forecast\",\"Actuals\",\"Abs_Dif\",\"APE\",\"APE_max1\",\"key2\",'Metric']\n",
        "  week[\"key2\"]=week[\"Plant\"]+week[\"Product_Class\"]+week[\"Product_Form\"]+pd.to_datetime(week[\"Week\"]).dt.month.astype(str)\n",
        "  keep_iplan=[\"key_iplan\",'2019']   \n",
        "  week=pd.merge(week[keep_week],iplan[keep_iplan],how='left',left_on='key2',right_on='key_iplan')\n",
        "  week[\"2019\"]=week[\"2019\"]/4\n",
        "  week[\"Abs_Dif_iplan\"]=np.abs(week[\"Actuals\"].subtract(week['2019']))\n",
        "  week[\"APE_iplan\"]=week[\"Abs_Dif_iplan\"].divide(week[\"Actuals\"])\n",
        "  week[\"APE_iplan\"][(week[\"Actuals\"]==0) & (week['2019']==0)]=0\n",
        "  week[\"one\"]=1\n",
        "  week[\"zero\"]=0\n",
        "  week[\"APE_max1_iplan\"]=week[[\"APE_iplan\",'one']].min(axis=1)\n",
        "  time_cut=1\n",
        "  week[\"week_relevant_iplan\"]=round(((pd.to_datetime(week[\"Week\"]).subtract(next_weekday(pd.to_datetime(sdf_files[0:8]),6)))/7).dt.days)\n",
        "  week=week[(week[\"week_relevant_iplan\"]<12)]\n",
        "  FCA_iplan_after1.append(week[\"Abs_Dif_iplan\"][week[\"week_relevant_iplan\"]==time_cut].sum()/(week[\"Actuals\"][week[\"week_relevant_iplan\"]==time_cut].sum()))\n",
        "  FCA_iplan_after2.append(week[\"Abs_Dif_iplan\"][week[\"week_relevant_iplan\"]==time_cut+1].sum()/(week[\"Actuals\"][week[\"week_relevant_iplan\"]==time_cut+1].sum()))\n",
        "  FCA_iplan_after3.append(week[\"Abs_Dif_iplan\"][week[\"week_relevant_iplan\"]==time_cut+2].sum()/(week[\"Actuals\"][week[\"week_relevant_iplan\"]==time_cut+2].sum()))\n",
        "  FCA_iplan_after4.append(week[\"Abs_Dif_iplan\"][week[\"week_relevant_iplan\"]==time_cut+3].sum()/(week[\"Actuals\"][week[\"week_relevant_iplan\"]==time_cut+3].sum()))\n",
        "  FCA_iplan.append(week[\"Abs_Dif_iplan\"][week[\"week_relevant_iplan\"]<=(time_cut+3)].sum()/(week[\"Actuals\"][week[\"week_relevant_iplan\"]<=(time_cut+3)].sum()))\n",
        "\n",
        "  WAPE_iplan_after1.append(week[\"APE_max1_iplan\"].multiply(week[\"Actuals\"][week[\"week_relevant_iplan\"]==time_cut]).sum()/(week[\"Actuals\"][week[\"week_relevant_iplan\"]==time_cut].sum()))\n",
        "  WAPE_iplan_after2.append(week[\"APE_max1_iplan\"].multiply(week[\"Actuals\"][week[\"week_relevant_iplan\"]==time_cut+1]).sum()/(week[\"Actuals\"][week[\"week_relevant_iplan\"]==time_cut+1].sum()))\n",
        "  WAPE_iplan_after3.append(week[\"APE_max1_iplan\"].multiply(week[\"Actuals\"][week[\"week_relevant_iplan\"]==time_cut+2]).sum()/(week[\"Actuals\"][week[\"week_relevant_iplan\"]==time_cut+2].sum()))\n",
        "  WAPE_iplan_after4.append(week[\"APE_max1_iplan\"].multiply(week[\"Actuals\"][week[\"week_relevant_iplan\"]==time_cut+3]).sum()/(week[\"Actuals\"][week[\"week_relevant_iplan\"]==time_cut+3].sum()))\n",
        "  WAPE_iplan.append(str(week[\"Abs_Dif\"][week[\"week_relevant_iplan\"]<=(time_cut+3)].sum()/(week[\"Actuals\"][week[\"week_relevant_iplan\"]<=(time_cut+3)].sum())) ) \n",
        "\n",
        "  week[\"Metric_iplan\"]=\"\"\n",
        "  week[\"Metric_iplan\"][0]=str(\"WAPE_1week: \"+str(WAPE_iplan_after1[-1]))\n",
        "  week[\"Metric_iplan\"][1]=str(\"WAPE_2week: \"+str(WAPE_iplan_after2[-1]))\n",
        "  week[\"Metric_iplan\"][2]=str(\"WAPE_3week: \"+str(WAPE_iplan_after3[-1]))\n",
        "  week[\"Metric_iplan\"][3]=str(\"WAPE_4week: \"+str(WAPE_iplan_after4[-1]))\n",
        "  week[\"Metric_iplan\"][4]=str(\"FCA_1week: \"+str(FCA_iplan_after1[-1]))\n",
        "  week[\"Metric_iplan\"][5]=str(\"FCA_2week: \"+str(FCA_iplan_after2[-1]))\n",
        "  week[\"Metric_iplan\"][6]=str(\"FCA_3week: \"+str(FCA_iplan_after3[-1]))\n",
        "  week[\"Metric_iplan\"][7]=str(\"FCA_4week: \"+str(FCA_iplan_after4[-1]))\n",
        "  week[\"Metric_iplan\"][8]=str(\"FCA: \"+str(FCA_iplan[-1]))\n",
        "  week[\"Metric_iplan\"][9]=str(\"WAPE: \"+str(WAPE_iplan[-1]))\n",
        "\n",
        "  keep_final=[\"Plant\",\"Product_Class\",\"Product_Form\",\"forecasted_time\",\"Week\",\"week_relevant\",\"week_relevant_iplan\",\"Actuals\",\"Forecast\",\"Abs_Dif\",\"APE\",\"APE_max1\",\"2019\",\"Abs_Dif_iplan\",\"APE_max1_iplan\",\"Metric\",\"Metric_iplan\"]\n",
        "  week=week[keep_final]\n",
        "  #valuation.append(sdf_files +\" : \"+ str(tf.keras.metrics.mean_absolute_percentage_error(tf.cast(week[\"Actuals\"],tf.float32),tf.cast(week[\"Forecast\"],tf.float32)).numpy())+'%')\n",
        "  week.to_excel(writer,str(sdf_files)[0:8],index=False) ###ADDS IN TABS FOR THE EXCEL FILE\n",
        "\n",
        "print(\"FCA: \",FCA_iplan_after2)\n",
        "print(\"WAPE: \", WAPE_iplan_after2)"
      ],
      "execution_count": 26,
      "outputs": [
        {
          "output_type": "stream",
          "text": [
            "/usr/local/lib/python3.6/dist-packages/ipykernel_launcher.py:70: SettingWithCopyWarning: \n",
            "A value is trying to be set on a copy of a slice from a DataFrame\n",
            "\n",
            "See the caveats in the documentation: http://pandas.pydata.org/pandas-docs/stable/user_guide/indexing.html#returning-a-view-versus-a-copy\n",
            "/usr/local/lib/python3.6/dist-packages/ipykernel_launcher.py:71: SettingWithCopyWarning: \n",
            "A value is trying to be set on a copy of a slice from a DataFrame\n",
            "\n",
            "See the caveats in the documentation: http://pandas.pydata.org/pandas-docs/stable/user_guide/indexing.html#returning-a-view-versus-a-copy\n",
            "/usr/local/lib/python3.6/dist-packages/ipykernel_launcher.py:72: SettingWithCopyWarning: \n",
            "A value is trying to be set on a copy of a slice from a DataFrame\n",
            "\n",
            "See the caveats in the documentation: http://pandas.pydata.org/pandas-docs/stable/user_guide/indexing.html#returning-a-view-versus-a-copy\n",
            "/usr/local/lib/python3.6/dist-packages/ipykernel_launcher.py:73: SettingWithCopyWarning: \n",
            "A value is trying to be set on a copy of a slice from a DataFrame\n",
            "\n",
            "See the caveats in the documentation: http://pandas.pydata.org/pandas-docs/stable/user_guide/indexing.html#returning-a-view-versus-a-copy\n",
            "/usr/local/lib/python3.6/dist-packages/ipykernel_launcher.py:74: SettingWithCopyWarning: \n",
            "A value is trying to be set on a copy of a slice from a DataFrame\n",
            "\n",
            "See the caveats in the documentation: http://pandas.pydata.org/pandas-docs/stable/user_guide/indexing.html#returning-a-view-versus-a-copy\n",
            "/usr/local/lib/python3.6/dist-packages/ipykernel_launcher.py:75: SettingWithCopyWarning: \n",
            "A value is trying to be set on a copy of a slice from a DataFrame\n",
            "\n",
            "See the caveats in the documentation: http://pandas.pydata.org/pandas-docs/stable/user_guide/indexing.html#returning-a-view-versus-a-copy\n",
            "/usr/local/lib/python3.6/dist-packages/ipykernel_launcher.py:76: SettingWithCopyWarning: \n",
            "A value is trying to be set on a copy of a slice from a DataFrame\n",
            "\n",
            "See the caveats in the documentation: http://pandas.pydata.org/pandas-docs/stable/user_guide/indexing.html#returning-a-view-versus-a-copy\n",
            "/usr/local/lib/python3.6/dist-packages/ipykernel_launcher.py:77: SettingWithCopyWarning: \n",
            "A value is trying to be set on a copy of a slice from a DataFrame\n",
            "\n",
            "See the caveats in the documentation: http://pandas.pydata.org/pandas-docs/stable/user_guide/indexing.html#returning-a-view-versus-a-copy\n",
            "/usr/local/lib/python3.6/dist-packages/ipykernel_launcher.py:78: SettingWithCopyWarning: \n",
            "A value is trying to be set on a copy of a slice from a DataFrame\n",
            "\n",
            "See the caveats in the documentation: http://pandas.pydata.org/pandas-docs/stable/user_guide/indexing.html#returning-a-view-versus-a-copy\n",
            "/usr/local/lib/python3.6/dist-packages/ipykernel_launcher.py:79: SettingWithCopyWarning: \n",
            "A value is trying to be set on a copy of a slice from a DataFrame\n",
            "\n",
            "See the caveats in the documentation: http://pandas.pydata.org/pandas-docs/stable/user_guide/indexing.html#returning-a-view-versus-a-copy\n",
            "/usr/local/lib/python3.6/dist-packages/ipykernel_launcher.py:2: SettingWithCopyWarning: \n",
            "A value is trying to be set on a copy of a slice from a DataFrame\n",
            "\n",
            "See the caveats in the documentation: http://pandas.pydata.org/pandas-docs/stable/user_guide/indexing.html#returning-a-view-versus-a-copy\n",
            "  \n",
            "/usr/local/lib/python3.6/dist-packages/ipykernel_launcher.py:3: SettingWithCopyWarning: \n",
            "A value is trying to be set on a copy of a slice from a DataFrame\n",
            "\n",
            "See the caveats in the documentation: http://pandas.pydata.org/pandas-docs/stable/user_guide/indexing.html#returning-a-view-versus-a-copy\n",
            "  This is separate from the ipykernel package so we can avoid doing imports until\n",
            "/usr/local/lib/python3.6/dist-packages/ipykernel_launcher.py:4: SettingWithCopyWarning: \n",
            "A value is trying to be set on a copy of a slice from a DataFrame\n",
            "\n",
            "See the caveats in the documentation: http://pandas.pydata.org/pandas-docs/stable/user_guide/indexing.html#returning-a-view-versus-a-copy\n",
            "  after removing the cwd from sys.path.\n",
            "/usr/local/lib/python3.6/dist-packages/ipykernel_launcher.py:5: SettingWithCopyWarning: \n",
            "A value is trying to be set on a copy of a slice from a DataFrame\n",
            "\n",
            "See the caveats in the documentation: http://pandas.pydata.org/pandas-docs/stable/user_guide/indexing.html#returning-a-view-versus-a-copy\n",
            "  \"\"\"\n",
            "/usr/local/lib/python3.6/dist-packages/ipykernel_launcher.py:6: SettingWithCopyWarning: \n",
            "A value is trying to be set on a copy of a slice from a DataFrame\n",
            "\n",
            "See the caveats in the documentation: http://pandas.pydata.org/pandas-docs/stable/user_guide/indexing.html#returning-a-view-versus-a-copy\n",
            "  \n",
            "/usr/local/lib/python3.6/dist-packages/ipykernel_launcher.py:7: SettingWithCopyWarning: \n",
            "A value is trying to be set on a copy of a slice from a DataFrame\n",
            "\n",
            "See the caveats in the documentation: http://pandas.pydata.org/pandas-docs/stable/user_guide/indexing.html#returning-a-view-versus-a-copy\n",
            "  import sys\n",
            "/usr/local/lib/python3.6/dist-packages/ipykernel_launcher.py:8: SettingWithCopyWarning: \n",
            "A value is trying to be set on a copy of a slice from a DataFrame\n",
            "\n",
            "See the caveats in the documentation: http://pandas.pydata.org/pandas-docs/stable/user_guide/indexing.html#returning-a-view-versus-a-copy\n",
            "  \n",
            "/usr/local/lib/python3.6/dist-packages/ipykernel_launcher.py:11: SettingWithCopyWarning: \n",
            "A value is trying to be set on a copy of a slice from a DataFrame\n",
            "\n",
            "See the caveats in the documentation: http://pandas.pydata.org/pandas-docs/stable/user_guide/indexing.html#returning-a-view-versus-a-copy\n",
            "  # This is added back by InteractiveShellApp.init_path()\n",
            "/usr/local/lib/python3.6/dist-packages/ipykernel_launcher.py:12: SettingWithCopyWarning: \n",
            "A value is trying to be set on a copy of a slice from a DataFrame\n",
            "\n",
            "See the caveats in the documentation: http://pandas.pydata.org/pandas-docs/stable/user_guide/indexing.html#returning-a-view-versus-a-copy\n",
            "  if sys.path[0] == '':\n",
            "/usr/local/lib/python3.6/dist-packages/ipykernel_launcher.py:13: SettingWithCopyWarning: \n",
            "A value is trying to be set on a copy of a slice from a DataFrame\n",
            "\n",
            "See the caveats in the documentation: http://pandas.pydata.org/pandas-docs/stable/user_guide/indexing.html#returning-a-view-versus-a-copy\n",
            "  del sys.path[0]\n",
            "/usr/local/lib/python3.6/dist-packages/ipykernel_launcher.py:14: SettingWithCopyWarning: \n",
            "A value is trying to be set on a copy of a slice from a DataFrame\n",
            "\n",
            "See the caveats in the documentation: http://pandas.pydata.org/pandas-docs/stable/user_guide/indexing.html#returning-a-view-versus-a-copy\n",
            "  \n",
            "/usr/local/lib/python3.6/dist-packages/ipykernel_launcher.py:15: SettingWithCopyWarning: \n",
            "A value is trying to be set on a copy of a slice from a DataFrame\n",
            "\n",
            "See the caveats in the documentation: http://pandas.pydata.org/pandas-docs/stable/user_guide/indexing.html#returning-a-view-versus-a-copy\n",
            "  from ipykernel import kernelapp as app\n",
            "/usr/local/lib/python3.6/dist-packages/ipykernel_launcher.py:16: SettingWithCopyWarning: \n",
            "A value is trying to be set on a copy of a slice from a DataFrame\n",
            "\n",
            "See the caveats in the documentation: http://pandas.pydata.org/pandas-docs/stable/user_guide/indexing.html#returning-a-view-versus-a-copy\n",
            "  app.launch_new_instance()\n",
            "/usr/local/lib/python3.6/dist-packages/ipykernel_launcher.py:20: SettingWithCopyWarning: \n",
            "A value is trying to be set on a copy of a slice from a DataFrame\n",
            "\n",
            "See the caveats in the documentation: http://pandas.pydata.org/pandas-docs/stable/user_guide/indexing.html#returning-a-view-versus-a-copy\n",
            "/usr/local/lib/python3.6/dist-packages/ipykernel_launcher.py:21: SettingWithCopyWarning: \n",
            "A value is trying to be set on a copy of a slice from a DataFrame\n",
            "\n",
            "See the caveats in the documentation: http://pandas.pydata.org/pandas-docs/stable/user_guide/indexing.html#returning-a-view-versus-a-copy\n",
            "/usr/local/lib/python3.6/dist-packages/ipykernel_launcher.py:22: SettingWithCopyWarning: \n",
            "A value is trying to be set on a copy of a slice from a DataFrame\n",
            "\n",
            "See the caveats in the documentation: http://pandas.pydata.org/pandas-docs/stable/user_guide/indexing.html#returning-a-view-versus-a-copy\n",
            "/usr/local/lib/python3.6/dist-packages/ipykernel_launcher.py:23: SettingWithCopyWarning: \n",
            "A value is trying to be set on a copy of a slice from a DataFrame\n",
            "\n",
            "See the caveats in the documentation: http://pandas.pydata.org/pandas-docs/stable/user_guide/indexing.html#returning-a-view-versus-a-copy\n",
            "/usr/local/lib/python3.6/dist-packages/ipykernel_launcher.py:24: SettingWithCopyWarning: \n",
            "A value is trying to be set on a copy of a slice from a DataFrame\n",
            "\n",
            "See the caveats in the documentation: http://pandas.pydata.org/pandas-docs/stable/user_guide/indexing.html#returning-a-view-versus-a-copy\n",
            "/usr/local/lib/python3.6/dist-packages/pandas/core/ops/__init__.py:1115: FutureWarning: elementwise comparison failed; returning scalar instead, but in the future will perform elementwise comparison\n",
            "  result = method(y)\n",
            "/usr/local/lib/python3.6/dist-packages/ipykernel_launcher.py:25: SettingWithCopyWarning: \n",
            "A value is trying to be set on a copy of a slice from a DataFrame\n",
            "\n",
            "See the caveats in the documentation: http://pandas.pydata.org/pandas-docs/stable/user_guide/indexing.html#returning-a-view-versus-a-copy\n",
            "/usr/local/lib/python3.6/dist-packages/ipykernel_launcher.py:26: SettingWithCopyWarning: \n",
            "A value is trying to be set on a copy of a slice from a DataFrame\n",
            "\n",
            "See the caveats in the documentation: http://pandas.pydata.org/pandas-docs/stable/user_guide/indexing.html#returning-a-view-versus-a-copy\n",
            "/usr/local/lib/python3.6/dist-packages/ipykernel_launcher.py:27: SettingWithCopyWarning: \n",
            "A value is trying to be set on a copy of a slice from a DataFrame\n",
            "\n",
            "See the caveats in the documentation: http://pandas.pydata.org/pandas-docs/stable/user_guide/indexing.html#returning-a-view-versus-a-copy\n",
            "/usr/local/lib/python3.6/dist-packages/ipykernel_launcher.py:28: SettingWithCopyWarning: \n",
            "A value is trying to be set on a copy of a slice from a DataFrame\n",
            "\n",
            "See the caveats in the documentation: http://pandas.pydata.org/pandas-docs/stable/user_guide/indexing.html#returning-a-view-versus-a-copy\n",
            "/usr/local/lib/python3.6/dist-packages/ipykernel_launcher.py:29: SettingWithCopyWarning: \n",
            "A value is trying to be set on a copy of a slice from a DataFrame\n",
            "\n",
            "See the caveats in the documentation: http://pandas.pydata.org/pandas-docs/stable/user_guide/indexing.html#returning-a-view-versus-a-copy\n",
            "/usr/local/lib/python3.6/dist-packages/ipykernel_launcher.py:30: SettingWithCopyWarning: \n",
            "A value is trying to be set on a copy of a slice from a DataFrame\n",
            "\n",
            "See the caveats in the documentation: http://pandas.pydata.org/pandas-docs/stable/user_guide/indexing.html#returning-a-view-versus-a-copy\n",
            "/usr/local/lib/python3.6/dist-packages/ipykernel_launcher.py:31: SettingWithCopyWarning: \n",
            "A value is trying to be set on a copy of a slice from a DataFrame\n",
            "\n",
            "See the caveats in the documentation: http://pandas.pydata.org/pandas-docs/stable/user_guide/indexing.html#returning-a-view-versus-a-copy\n",
            "/usr/local/lib/python3.6/dist-packages/ipykernel_launcher.py:32: SettingWithCopyWarning: \n",
            "A value is trying to be set on a copy of a slice from a DataFrame\n",
            "\n",
            "See the caveats in the documentation: http://pandas.pydata.org/pandas-docs/stable/user_guide/indexing.html#returning-a-view-versus-a-copy\n",
            "/usr/local/lib/python3.6/dist-packages/ipykernel_launcher.py:95: SettingWithCopyWarning: \n",
            "A value is trying to be set on a copy of a slice from a DataFrame\n",
            "\n",
            "See the caveats in the documentation: http://pandas.pydata.org/pandas-docs/stable/user_guide/indexing.html#returning-a-view-versus-a-copy\n",
            "/usr/local/lib/python3.6/dist-packages/ipykernel_launcher.py:115: SettingWithCopyWarning: \n",
            "A value is trying to be set on a copy of a slice from a DataFrame\n",
            "\n",
            "See the caveats in the documentation: http://pandas.pydata.org/pandas-docs/stable/user_guide/indexing.html#returning-a-view-versus-a-copy\n",
            "/usr/local/lib/python3.6/dist-packages/ipykernel_launcher.py:116: SettingWithCopyWarning: \n",
            "A value is trying to be set on a copy of a slice from a DataFrame\n",
            "\n",
            "See the caveats in the documentation: http://pandas.pydata.org/pandas-docs/stable/user_guide/indexing.html#returning-a-view-versus-a-copy\n",
            "/usr/local/lib/python3.6/dist-packages/ipykernel_launcher.py:117: SettingWithCopyWarning: \n",
            "A value is trying to be set on a copy of a slice from a DataFrame\n",
            "\n",
            "See the caveats in the documentation: http://pandas.pydata.org/pandas-docs/stable/user_guide/indexing.html#returning-a-view-versus-a-copy\n",
            "/usr/local/lib/python3.6/dist-packages/ipykernel_launcher.py:118: SettingWithCopyWarning: \n",
            "A value is trying to be set on a copy of a slice from a DataFrame\n",
            "\n",
            "See the caveats in the documentation: http://pandas.pydata.org/pandas-docs/stable/user_guide/indexing.html#returning-a-view-versus-a-copy\n",
            "/usr/local/lib/python3.6/dist-packages/ipykernel_launcher.py:119: SettingWithCopyWarning: \n",
            "A value is trying to be set on a copy of a slice from a DataFrame\n",
            "\n",
            "See the caveats in the documentation: http://pandas.pydata.org/pandas-docs/stable/user_guide/indexing.html#returning-a-view-versus-a-copy\n",
            "/usr/local/lib/python3.6/dist-packages/ipykernel_launcher.py:120: SettingWithCopyWarning: \n",
            "A value is trying to be set on a copy of a slice from a DataFrame\n",
            "\n",
            "See the caveats in the documentation: http://pandas.pydata.org/pandas-docs/stable/user_guide/indexing.html#returning-a-view-versus-a-copy\n",
            "/usr/local/lib/python3.6/dist-packages/ipykernel_launcher.py:121: SettingWithCopyWarning: \n",
            "A value is trying to be set on a copy of a slice from a DataFrame\n",
            "\n",
            "See the caveats in the documentation: http://pandas.pydata.org/pandas-docs/stable/user_guide/indexing.html#returning-a-view-versus-a-copy\n",
            "/usr/local/lib/python3.6/dist-packages/ipykernel_launcher.py:122: SettingWithCopyWarning: \n",
            "A value is trying to be set on a copy of a slice from a DataFrame\n",
            "\n",
            "See the caveats in the documentation: http://pandas.pydata.org/pandas-docs/stable/user_guide/indexing.html#returning-a-view-versus-a-copy\n",
            "/usr/local/lib/python3.6/dist-packages/ipykernel_launcher.py:123: SettingWithCopyWarning: \n",
            "A value is trying to be set on a copy of a slice from a DataFrame\n",
            "\n",
            "See the caveats in the documentation: http://pandas.pydata.org/pandas-docs/stable/user_guide/indexing.html#returning-a-view-versus-a-copy\n",
            "/usr/local/lib/python3.6/dist-packages/ipykernel_launcher.py:124: SettingWithCopyWarning: \n",
            "A value is trying to be set on a copy of a slice from a DataFrame\n",
            "\n",
            "See the caveats in the documentation: http://pandas.pydata.org/pandas-docs/stable/user_guide/indexing.html#returning-a-view-versus-a-copy\n"
          ],
          "name": "stderr"
        },
        {
          "output_type": "stream",
          "text": [
            "FCA:  [0.1983954483991055, 0.29003048020227373, 0.19916629751816559, 0.23053127332981865, 0.21650639288897486]\n",
            "WAPE:  [0.2056249610893413, 0.2898442998762723, 0.20233311779820334, 0.2440100763039501, 0.22603030166045773]\n"
          ],
          "name": "stdout"
        }
      ]
    },
    {
      "cell_type": "code",
      "metadata": {
        "id": "qiC_oM7JA-Kp",
        "colab_type": "code",
        "outputId": "889b2f94-3364-4a7d-f03e-a6b12c967d47",
        "colab": {
          "base_uri": "https://localhost:8080/",
          "height": 1000
        }
      },
      "source": [
        "\n",
        "################################################   MONTHLY  #########################################\n",
        "os.chdir(sdf_dir_monthly_v2)\n",
        "sdf_forecast_files_monthly=os.listdir(sdf_dir_monthly_v2)\n",
        "import numpy as np\n",
        "from matplotlib import pyplot as plt\n",
        "\n",
        "\n",
        "writer_monthly=pd.ExcelWriter('SDF_monthly_noprojects_{}.xlsx'.format(today)) ###Create the monthly excel file\n",
        "MAPE=[]\n",
        "MAPE_after=[]\n",
        "FCA=[]\n",
        "FCA_after1=[]\n",
        "FCA_after2=[]\n",
        "FCA_after3=[]\n",
        "WAPE=[]\n",
        "WAPE_after1=[]\n",
        "WAPE_after2=[]\n",
        "WAPE_after3=[]\n",
        "\n",
        "\n",
        "FCA_iplan=[]\n",
        "FCA_iplan_after1=[]\n",
        "FCA_iplan_after2=[]\n",
        "FCA_iplan_after3=[]\n",
        "WAPE_iplan=[]\n",
        "WAPE_iplan_after1=[]\n",
        "WAPE_iplan_after2=[]\n",
        "WAPE_iplan_after3=[]\n",
        "actuals=pd.DataFrame()\n",
        "for sdf_files in sdf_forecast_files_monthly:\n",
        "  os.chdir(sdf_dir_monthly_v2)\n",
        "  time_cut=int(sdf_files[4:6])+1 ###1 month after only\n",
        "  ####Read the actual files in \n",
        "  actuals=pd.read_csv(sdf_files,parse_dates=True)\n",
        "  actuals[\"Time_temp\"]=pd.to_datetime(actuals['forecasted_time'])#.map(str).apply(lambda x: x[:10]) ###Need this since python was not reading in dates correctly.\n",
        "  actuals[\"Time\"]=actuals['Time_temp'].map(str).str.strip().str[0:10]#.apply(lambda x: dt.datetime.strptime(x,'%y/%m/%d'))\n",
        "  actuals[\"Plant\"]=actuals[\"Plant\"].map(str).str.strip() #get rid of leading and trailing blanks\n",
        "  actuals['Product Class Name']=actuals['Product_Class'].replace(\"2-Jan\",\"1/2\").str.strip() ##python would read in 1/2 as 2-Jan.  Probably due to excel formatting issue\n",
        "  actuals['Product Form']=actuals['Product_Form'].str.strip()\n",
        "  actuals['Time']=actuals['Time'].map(str).str.strip().str[0:10]\n",
        "  actuals[\"Key\"]=actuals[\"Plant\"].map(str)+actuals[\"Product Class Name\"].map(str)+actuals[\"Product Form\"].map(str)+actuals[\"Time\"].map(str)  ##Create a key\n",
        "\n",
        "  month=pd.merge(actuals,Master_files_month[[\"Month Key\",\"Month\",\"TONS\"]],how='inner',left_on='Key',right_on=\"Month Key\")\n",
        "  month=month.rename(columns={\"TONS\":\"Actuals\",\"volume\":\"Forecast\"})\n",
        "  month[\"month_relevant\"]=(month[\"Time\"].map(str).str[5:7]).map(int)\n",
        "  month[\"Abs_Dif\"]=np.abs(month[\"Actuals\"].subtract(month[\"Forecast\"]))\n",
        "  month[\"APE\"]=month[\"Abs_Dif\"].divide(month[\"Actuals\"])\n",
        "  month[\"APE\"][(month[\"Actuals\"]==0) & (month[\"Forecast\"]==0)]=0\n",
        "  month[\"one\"]=1\n",
        "  month[\"zero\"]=0\n",
        "  month[\"APE_max1\"]=month[[\"APE\",'one']].min(axis=1)\n",
        "  #month[\"APE_max1\"]=month[[\"APE\",'zero']].max(axis=1)\n",
        "  month=month.drop([\"Time_temp\",\"Key\",'Month Key','one',\"zero\"],axis=1)\n",
        "  FCA.append(month[\"Abs_Dif\"][month[\"month_relevant\"]<=time_cut+2].sum()/month[\"Actuals\"][month[\"month_relevant\"]<=time_cut+2].sum())\n",
        "  FCA_after1.append(month[\"Abs_Dif\"][month[\"month_relevant\"]==time_cut].sum()/month[\"Actuals\"][month[\"month_relevant\"]==time_cut].sum())\n",
        "  FCA_after2.append(month[\"Abs_Dif\"][month[\"month_relevant\"]==time_cut+1].sum()/month[\"Actuals\"][month[\"month_relevant\"]==time_cut+1].sum())\n",
        "  FCA_after3.append(month[\"Abs_Dif\"][month[\"month_relevant\"]==time_cut+2].sum()/month[\"Actuals\"][month[\"month_relevant\"]==time_cut+2].sum())\n",
        "  #MAPE.append(sdf_files +\": \"+ str(month[\"APE_max1\"].mean()) )\n",
        "  #MAPE_after.append(sdf_files+\": \" + str(month[[\"APE_max1\",\"month_relevant\"]][month[\"month_relevant\"]==time_cut][\"APE_max1\"].mean()) )\n",
        "  WAPE.append(month[\"APE_max1\"][month[\"month_relevant\"]<=time_cut+2].multiply(month[\"Actuals\"][month[\"month_relevant\"]<=time_cut+2]).sum()/month[\"Actuals\"][month[\"month_relevant\"]<=time_cut+2].sum())\n",
        "  WAPE_after1.append(month[\"APE_max1\"].multiply(month[\"Actuals\"][month[\"month_relevant\"]==time_cut]).sum()/month[\"Actuals\"][month[\"month_relevant\"]==time_cut].sum())\n",
        "  WAPE_after2.append(month[\"APE_max1\"].multiply(month[\"Actuals\"][month[\"month_relevant\"]==time_cut+1]).sum()/month[\"Actuals\"][month[\"month_relevant\"]==time_cut+1].sum())\n",
        "  WAPE_after3.append(month[\"APE_max1\"].multiply(month[\"Actuals\"][month[\"month_relevant\"]==time_cut+2]).sum()/month[\"Actuals\"][month[\"month_relevant\"]==time_cut+2].sum())\n",
        "\n",
        "  month[\"Metric\"]=\"\"\n",
        "  month[\"Metric\"][0]=str(\"WAPE_1month: \"+str(WAPE_after1[-1]))\n",
        "  month[\"Metric\"][1]=str(\"WAPE_2month:\"+str(WAPE_after2[-1])) \n",
        "  month[\"Metric\"][2]=str(\"WAPE_3month:\"+str(WAPE_after3[-1]))\n",
        "  month[\"Metric\"][3]=str(\"FCA_1month:\"+str(FCA_after1[-1]))\n",
        "  month[\"Metric\"][4]=str(\"FCA_2month:\"+str(FCA_after2[-1]))\n",
        "  month[\"Metric\"][5]=str(\"FCA_3month:\"+str(FCA_after3[-1]))\n",
        "  month[\"Metric\"][6]=str(\"FCA_allmonths:\"+str(FCA[-1]))\n",
        "  month[\"Metric\"][7]=str(\"WAPE_allmonths:\"+str(WAPE[-1]))\n",
        "\n",
        "\n",
        "  os.chdir(sdf_dir_monthly_iplan) #########iplan metrics below\n",
        "  iplan=pd.read_excel(\"{}_iplan.xlsx\".format(sdf_files[:-4]))\n",
        "  iplan=product_fix_merges(iplan)\n",
        "  iplan_keep=[\"Plant\",\"Product Class Name\",\"Product Form\",\"Calendar month\\Fiscal year\",\"2019\"]\n",
        "  iplan=iplan[iplan_keep].groupby(by=[\"Plant\",\"Product Class Name\",\"Product Form\",\"Calendar month\\Fiscal year\"]).sum().reset_index()\n",
        "  iplan[\"key_iplan\"]=iplan[\"Plant\"].astype(str)+iplan[\"Product Class Name\"].astype(str)+iplan[\"Product Form\"]+iplan[\"Calendar month\\Fiscal year\"].astype(str)\n",
        "  month[\"key2\"]=month[\"Plant\"]+month[\"Product Class Name\"]+month[\"Product Form\"]+month[\"month_relevant\"].astype(str)\n",
        "  month=pd.merge(month,iplan[[\"key_iplan\",'2019']],how='left',left_on='key2',right_on='key_iplan')\n",
        "  month[\"Abs_Dif_iplan\"]=np.abs(month[\"Actuals\"].subtract(month[\"2019\"]))\n",
        "  month[\"APE_iplan\"]=month[\"Abs_Dif_iplan\"].divide(month[\"Actuals\"])\n",
        "  month[\"APE_iplan\"][(month[\"Actuals\"]==0) & (month[\"Forecast\"]==0)]=0\n",
        "  month[\"one\"]=1\n",
        "  month[\"zero\"]=0\n",
        "  month[\"APE_max1_iplan\"]=month[[\"APE_iplan\",'one']].min(axis=1)\n",
        "\n",
        "  FCA_iplan.append(month[\"Abs_Dif_iplan\"][month[\"month_relevant\"]<=time_cut+2].sum()/month[\"Actuals\"][month[\"month_relevant\"]<=time_cut+2].sum())\n",
        "  FCA_iplan_after1.append(month[\"Abs_Dif_iplan\"][month[\"month_relevant\"]==time_cut].sum()/month[\"Actuals\"][month[\"month_relevant\"]==time_cut].sum())\n",
        "  FCA_iplan_after2.append(month[\"Abs_Dif_iplan\"][month[\"month_relevant\"]==time_cut+1].sum()/month[\"Actuals\"][month[\"month_relevant\"]==time_cut+1].sum())\n",
        "  FCA_iplan_after3.append(month[\"Abs_Dif_iplan\"][month[\"month_relevant\"]==time_cut+2].sum()/month[\"Actuals\"][month[\"month_relevant\"]==time_cut+2].sum())\n",
        "\n",
        "  WAPE_iplan.append(month[\"APE_max1_iplan\"].multiply(month[\"Actuals\"][month[\"month_relevant\"]<=time_cut+2]).sum()/month[\"Actuals\"][month[\"month_relevant\"]<=time_cut+2].sum())\n",
        "  WAPE_iplan_after1.append(month[\"APE_max1_iplan\"].multiply(month[\"Actuals\"][month[\"month_relevant\"]==time_cut]).sum()/month[\"Actuals\"][month[\"month_relevant\"]==time_cut].sum())\n",
        "  WAPE_iplan_after2.append(month[\"APE_max1_iplan\"].multiply(month[\"Actuals\"][month[\"month_relevant\"]==time_cut+1]).sum()/month[\"Actuals\"][month[\"month_relevant\"]==time_cut+1].sum())\n",
        "  WAPE_iplan_after3.append(month[\"APE_max1_iplan\"].multiply(month[\"Actuals\"][month[\"month_relevant\"]==time_cut+2]).sum()/month[\"Actuals\"][month[\"month_relevant\"]==time_cut+2].sum())\n",
        "  month[\"Metric_iplan\"]=\"\"\n",
        "  month[\"Metric_iplan\"][0]=str(WAPE_iplan_after1[-1])\n",
        "  month[\"Metric_iplan\"][1]=str(WAPE_iplan_after2[-1])\n",
        "  month[\"Metric_iplan\"][2]=str(WAPE_iplan_after3[-1])\n",
        "  month[\"Metric_iplan\"][3]=str(FCA_iplan_after1[-1])\n",
        "  month[\"Metric_iplan\"][4]=str(FCA_iplan_after2[-1])\n",
        "  month[\"Metric_iplan\"][5]=str(FCA_iplan_after3[-1])\n",
        "  month[\"Metric_iplan\"][6]=str(FCA_iplan[-1])\n",
        "  month[\"Metric_iplan\"][7]=str(WAPE_iplan[-1])\n",
        "\n",
        "  #month[\"Metric\"][6]=str(\"MAE:\"+str(month['Abs_Dif'].mean()))\n",
        "  keep2=[\"Plant\",\"Product Class Name\",\"Product Form\",\"forecasted_time\",\"Actuals\",\"Forecast\",\"Abs_Dif\",\"APE\",\"APE_max1\",\"Abs_Dif_iplan\",\"APE_max1_iplan\",\"Metric\",\"Metric_iplan\"]\n",
        "  month=month[keep2]\n",
        "  month.to_excel(writer_monthly,str(sdf_files)[0:8],index=False)\n",
        "\n",
        "\n",
        "  month_plot=month.set_index(\"forecasted_time\")\n",
        "  \n",
        "  \n",
        "\n",
        "print(\"WAPE_1month: \",WAPE_after1,\"%\",'iplan:',WAPE_iplan_after1)\n",
        "print(\"WAPE_2month: \",WAPE_after2,\"%\",'iplan:',WAPE_iplan_after2)\n",
        "print(\"WAPE_3month: \",WAPE_after3,\"%\",'iplan:',WAPE_iplan_after3)\n",
        "print(\"FCA_1month: \",FCA_after1,\"%\",'iplan:',FCA_iplan_after1)\n",
        "print(\"FCA_2month:\", FCA_after2,\"%\",'iplan:',FCA_iplan_after2)\n",
        "print(\"FCA_3month:\", FCA_after3,\"%\",'iplan:',FCA_iplan_after3)\n",
        "\n",
        "\n"
      ],
      "execution_count": 27,
      "outputs": [
        {
          "output_type": "stream",
          "text": [
            "/usr/local/lib/python3.6/dist-packages/ipykernel_launcher.py:47: SettingWithCopyWarning: \n",
            "A value is trying to be set on a copy of a slice from a DataFrame\n",
            "\n",
            "See the caveats in the documentation: http://pandas.pydata.org/pandas-docs/stable/user_guide/indexing.html#returning-a-view-versus-a-copy\n",
            "/usr/local/lib/python3.6/dist-packages/ipykernel_launcher.py:65: SettingWithCopyWarning: \n",
            "A value is trying to be set on a copy of a slice from a DataFrame\n",
            "\n",
            "See the caveats in the documentation: http://pandas.pydata.org/pandas-docs/stable/user_guide/indexing.html#returning-a-view-versus-a-copy\n",
            "/usr/local/lib/python3.6/dist-packages/ipykernel_launcher.py:66: SettingWithCopyWarning: \n",
            "A value is trying to be set on a copy of a slice from a DataFrame\n",
            "\n",
            "See the caveats in the documentation: http://pandas.pydata.org/pandas-docs/stable/user_guide/indexing.html#returning-a-view-versus-a-copy\n",
            "/usr/local/lib/python3.6/dist-packages/ipykernel_launcher.py:67: SettingWithCopyWarning: \n",
            "A value is trying to be set on a copy of a slice from a DataFrame\n",
            "\n",
            "See the caveats in the documentation: http://pandas.pydata.org/pandas-docs/stable/user_guide/indexing.html#returning-a-view-versus-a-copy\n",
            "/usr/local/lib/python3.6/dist-packages/ipykernel_launcher.py:68: SettingWithCopyWarning: \n",
            "A value is trying to be set on a copy of a slice from a DataFrame\n",
            "\n",
            "See the caveats in the documentation: http://pandas.pydata.org/pandas-docs/stable/user_guide/indexing.html#returning-a-view-versus-a-copy\n",
            "/usr/local/lib/python3.6/dist-packages/ipykernel_launcher.py:69: SettingWithCopyWarning: \n",
            "A value is trying to be set on a copy of a slice from a DataFrame\n",
            "\n",
            "See the caveats in the documentation: http://pandas.pydata.org/pandas-docs/stable/user_guide/indexing.html#returning-a-view-versus-a-copy\n",
            "/usr/local/lib/python3.6/dist-packages/ipykernel_launcher.py:70: SettingWithCopyWarning: \n",
            "A value is trying to be set on a copy of a slice from a DataFrame\n",
            "\n",
            "See the caveats in the documentation: http://pandas.pydata.org/pandas-docs/stable/user_guide/indexing.html#returning-a-view-versus-a-copy\n",
            "/usr/local/lib/python3.6/dist-packages/ipykernel_launcher.py:71: SettingWithCopyWarning: \n",
            "A value is trying to be set on a copy of a slice from a DataFrame\n",
            "\n",
            "See the caveats in the documentation: http://pandas.pydata.org/pandas-docs/stable/user_guide/indexing.html#returning-a-view-versus-a-copy\n",
            "/usr/local/lib/python3.6/dist-packages/ipykernel_launcher.py:72: SettingWithCopyWarning: \n",
            "A value is trying to be set on a copy of a slice from a DataFrame\n",
            "\n",
            "See the caveats in the documentation: http://pandas.pydata.org/pandas-docs/stable/user_guide/indexing.html#returning-a-view-versus-a-copy\n",
            "/usr/local/lib/python3.6/dist-packages/ipykernel_launcher.py:2: SettingWithCopyWarning: \n",
            "A value is trying to be set on a copy of a slice from a DataFrame\n",
            "\n",
            "See the caveats in the documentation: http://pandas.pydata.org/pandas-docs/stable/user_guide/indexing.html#returning-a-view-versus-a-copy\n",
            "  \n",
            "/usr/local/lib/python3.6/dist-packages/ipykernel_launcher.py:3: SettingWithCopyWarning: \n",
            "A value is trying to be set on a copy of a slice from a DataFrame\n",
            "\n",
            "See the caveats in the documentation: http://pandas.pydata.org/pandas-docs/stable/user_guide/indexing.html#returning-a-view-versus-a-copy\n",
            "  This is separate from the ipykernel package so we can avoid doing imports until\n",
            "/usr/local/lib/python3.6/dist-packages/ipykernel_launcher.py:4: SettingWithCopyWarning: \n",
            "A value is trying to be set on a copy of a slice from a DataFrame\n",
            "\n",
            "See the caveats in the documentation: http://pandas.pydata.org/pandas-docs/stable/user_guide/indexing.html#returning-a-view-versus-a-copy\n",
            "  after removing the cwd from sys.path.\n",
            "/usr/local/lib/python3.6/dist-packages/ipykernel_launcher.py:5: SettingWithCopyWarning: \n",
            "A value is trying to be set on a copy of a slice from a DataFrame\n",
            "\n",
            "See the caveats in the documentation: http://pandas.pydata.org/pandas-docs/stable/user_guide/indexing.html#returning-a-view-versus-a-copy\n",
            "  \"\"\"\n",
            "/usr/local/lib/python3.6/dist-packages/ipykernel_launcher.py:6: SettingWithCopyWarning: \n",
            "A value is trying to be set on a copy of a slice from a DataFrame\n",
            "\n",
            "See the caveats in the documentation: http://pandas.pydata.org/pandas-docs/stable/user_guide/indexing.html#returning-a-view-versus-a-copy\n",
            "  \n",
            "/usr/local/lib/python3.6/dist-packages/ipykernel_launcher.py:7: SettingWithCopyWarning: \n",
            "A value is trying to be set on a copy of a slice from a DataFrame\n",
            "\n",
            "See the caveats in the documentation: http://pandas.pydata.org/pandas-docs/stable/user_guide/indexing.html#returning-a-view-versus-a-copy\n",
            "  import sys\n",
            "/usr/local/lib/python3.6/dist-packages/ipykernel_launcher.py:8: SettingWithCopyWarning: \n",
            "A value is trying to be set on a copy of a slice from a DataFrame\n",
            "\n",
            "See the caveats in the documentation: http://pandas.pydata.org/pandas-docs/stable/user_guide/indexing.html#returning-a-view-versus-a-copy\n",
            "  \n",
            "/usr/local/lib/python3.6/dist-packages/ipykernel_launcher.py:11: SettingWithCopyWarning: \n",
            "A value is trying to be set on a copy of a slice from a DataFrame\n",
            "\n",
            "See the caveats in the documentation: http://pandas.pydata.org/pandas-docs/stable/user_guide/indexing.html#returning-a-view-versus-a-copy\n",
            "  # This is added back by InteractiveShellApp.init_path()\n",
            "/usr/local/lib/python3.6/dist-packages/ipykernel_launcher.py:12: SettingWithCopyWarning: \n",
            "A value is trying to be set on a copy of a slice from a DataFrame\n",
            "\n",
            "See the caveats in the documentation: http://pandas.pydata.org/pandas-docs/stable/user_guide/indexing.html#returning-a-view-versus-a-copy\n",
            "  if sys.path[0] == '':\n",
            "/usr/local/lib/python3.6/dist-packages/ipykernel_launcher.py:13: SettingWithCopyWarning: \n",
            "A value is trying to be set on a copy of a slice from a DataFrame\n",
            "\n",
            "See the caveats in the documentation: http://pandas.pydata.org/pandas-docs/stable/user_guide/indexing.html#returning-a-view-versus-a-copy\n",
            "  del sys.path[0]\n",
            "/usr/local/lib/python3.6/dist-packages/ipykernel_launcher.py:14: SettingWithCopyWarning: \n",
            "A value is trying to be set on a copy of a slice from a DataFrame\n",
            "\n",
            "See the caveats in the documentation: http://pandas.pydata.org/pandas-docs/stable/user_guide/indexing.html#returning-a-view-versus-a-copy\n",
            "  \n",
            "/usr/local/lib/python3.6/dist-packages/ipykernel_launcher.py:15: SettingWithCopyWarning: \n",
            "A value is trying to be set on a copy of a slice from a DataFrame\n",
            "\n",
            "See the caveats in the documentation: http://pandas.pydata.org/pandas-docs/stable/user_guide/indexing.html#returning-a-view-versus-a-copy\n",
            "  from ipykernel import kernelapp as app\n",
            "/usr/local/lib/python3.6/dist-packages/ipykernel_launcher.py:16: SettingWithCopyWarning: \n",
            "A value is trying to be set on a copy of a slice from a DataFrame\n",
            "\n",
            "See the caveats in the documentation: http://pandas.pydata.org/pandas-docs/stable/user_guide/indexing.html#returning-a-view-versus-a-copy\n",
            "  app.launch_new_instance()\n",
            "/usr/local/lib/python3.6/dist-packages/ipykernel_launcher.py:20: SettingWithCopyWarning: \n",
            "A value is trying to be set on a copy of a slice from a DataFrame\n",
            "\n",
            "See the caveats in the documentation: http://pandas.pydata.org/pandas-docs/stable/user_guide/indexing.html#returning-a-view-versus-a-copy\n",
            "/usr/local/lib/python3.6/dist-packages/ipykernel_launcher.py:21: SettingWithCopyWarning: \n",
            "A value is trying to be set on a copy of a slice from a DataFrame\n",
            "\n",
            "See the caveats in the documentation: http://pandas.pydata.org/pandas-docs/stable/user_guide/indexing.html#returning-a-view-versus-a-copy\n",
            "/usr/local/lib/python3.6/dist-packages/ipykernel_launcher.py:22: SettingWithCopyWarning: \n",
            "A value is trying to be set on a copy of a slice from a DataFrame\n",
            "\n",
            "See the caveats in the documentation: http://pandas.pydata.org/pandas-docs/stable/user_guide/indexing.html#returning-a-view-versus-a-copy\n",
            "/usr/local/lib/python3.6/dist-packages/ipykernel_launcher.py:23: SettingWithCopyWarning: \n",
            "A value is trying to be set on a copy of a slice from a DataFrame\n",
            "\n",
            "See the caveats in the documentation: http://pandas.pydata.org/pandas-docs/stable/user_guide/indexing.html#returning-a-view-versus-a-copy\n",
            "/usr/local/lib/python3.6/dist-packages/ipykernel_launcher.py:24: SettingWithCopyWarning: \n",
            "A value is trying to be set on a copy of a slice from a DataFrame\n",
            "\n",
            "See the caveats in the documentation: http://pandas.pydata.org/pandas-docs/stable/user_guide/indexing.html#returning-a-view-versus-a-copy\n",
            "/usr/local/lib/python3.6/dist-packages/pandas/core/ops/__init__.py:1115: FutureWarning: elementwise comparison failed; returning scalar instead, but in the future will perform elementwise comparison\n",
            "  result = method(y)\n",
            "/usr/local/lib/python3.6/dist-packages/ipykernel_launcher.py:25: SettingWithCopyWarning: \n",
            "A value is trying to be set on a copy of a slice from a DataFrame\n",
            "\n",
            "See the caveats in the documentation: http://pandas.pydata.org/pandas-docs/stable/user_guide/indexing.html#returning-a-view-versus-a-copy\n",
            "/usr/local/lib/python3.6/dist-packages/ipykernel_launcher.py:26: SettingWithCopyWarning: \n",
            "A value is trying to be set on a copy of a slice from a DataFrame\n",
            "\n",
            "See the caveats in the documentation: http://pandas.pydata.org/pandas-docs/stable/user_guide/indexing.html#returning-a-view-versus-a-copy\n",
            "/usr/local/lib/python3.6/dist-packages/ipykernel_launcher.py:27: SettingWithCopyWarning: \n",
            "A value is trying to be set on a copy of a slice from a DataFrame\n",
            "\n",
            "See the caveats in the documentation: http://pandas.pydata.org/pandas-docs/stable/user_guide/indexing.html#returning-a-view-versus-a-copy\n",
            "/usr/local/lib/python3.6/dist-packages/ipykernel_launcher.py:28: SettingWithCopyWarning: \n",
            "A value is trying to be set on a copy of a slice from a DataFrame\n",
            "\n",
            "See the caveats in the documentation: http://pandas.pydata.org/pandas-docs/stable/user_guide/indexing.html#returning-a-view-versus-a-copy\n",
            "/usr/local/lib/python3.6/dist-packages/ipykernel_launcher.py:29: SettingWithCopyWarning: \n",
            "A value is trying to be set on a copy of a slice from a DataFrame\n",
            "\n",
            "See the caveats in the documentation: http://pandas.pydata.org/pandas-docs/stable/user_guide/indexing.html#returning-a-view-versus-a-copy\n",
            "/usr/local/lib/python3.6/dist-packages/ipykernel_launcher.py:30: SettingWithCopyWarning: \n",
            "A value is trying to be set on a copy of a slice from a DataFrame\n",
            "\n",
            "See the caveats in the documentation: http://pandas.pydata.org/pandas-docs/stable/user_guide/indexing.html#returning-a-view-versus-a-copy\n",
            "/usr/local/lib/python3.6/dist-packages/ipykernel_launcher.py:31: SettingWithCopyWarning: \n",
            "A value is trying to be set on a copy of a slice from a DataFrame\n",
            "\n",
            "See the caveats in the documentation: http://pandas.pydata.org/pandas-docs/stable/user_guide/indexing.html#returning-a-view-versus-a-copy\n",
            "/usr/local/lib/python3.6/dist-packages/ipykernel_launcher.py:32: SettingWithCopyWarning: \n",
            "A value is trying to be set on a copy of a slice from a DataFrame\n",
            "\n",
            "See the caveats in the documentation: http://pandas.pydata.org/pandas-docs/stable/user_guide/indexing.html#returning-a-view-versus-a-copy\n",
            "/usr/local/lib/python3.6/dist-packages/ipykernel_launcher.py:85: SettingWithCopyWarning: \n",
            "A value is trying to be set on a copy of a slice from a DataFrame\n",
            "\n",
            "See the caveats in the documentation: http://pandas.pydata.org/pandas-docs/stable/user_guide/indexing.html#returning-a-view-versus-a-copy\n",
            "/usr/local/lib/python3.6/dist-packages/ipykernel_launcher.py:100: SettingWithCopyWarning: \n",
            "A value is trying to be set on a copy of a slice from a DataFrame\n",
            "\n",
            "See the caveats in the documentation: http://pandas.pydata.org/pandas-docs/stable/user_guide/indexing.html#returning-a-view-versus-a-copy\n",
            "/usr/local/lib/python3.6/dist-packages/ipykernel_launcher.py:101: SettingWithCopyWarning: \n",
            "A value is trying to be set on a copy of a slice from a DataFrame\n",
            "\n",
            "See the caveats in the documentation: http://pandas.pydata.org/pandas-docs/stable/user_guide/indexing.html#returning-a-view-versus-a-copy\n",
            "/usr/local/lib/python3.6/dist-packages/ipykernel_launcher.py:102: SettingWithCopyWarning: \n",
            "A value is trying to be set on a copy of a slice from a DataFrame\n",
            "\n",
            "See the caveats in the documentation: http://pandas.pydata.org/pandas-docs/stable/user_guide/indexing.html#returning-a-view-versus-a-copy\n",
            "/usr/local/lib/python3.6/dist-packages/ipykernel_launcher.py:103: SettingWithCopyWarning: \n",
            "A value is trying to be set on a copy of a slice from a DataFrame\n",
            "\n",
            "See the caveats in the documentation: http://pandas.pydata.org/pandas-docs/stable/user_guide/indexing.html#returning-a-view-versus-a-copy\n",
            "/usr/local/lib/python3.6/dist-packages/ipykernel_launcher.py:104: SettingWithCopyWarning: \n",
            "A value is trying to be set on a copy of a slice from a DataFrame\n",
            "\n",
            "See the caveats in the documentation: http://pandas.pydata.org/pandas-docs/stable/user_guide/indexing.html#returning-a-view-versus-a-copy\n",
            "/usr/local/lib/python3.6/dist-packages/ipykernel_launcher.py:105: SettingWithCopyWarning: \n",
            "A value is trying to be set on a copy of a slice from a DataFrame\n",
            "\n",
            "See the caveats in the documentation: http://pandas.pydata.org/pandas-docs/stable/user_guide/indexing.html#returning-a-view-versus-a-copy\n",
            "/usr/local/lib/python3.6/dist-packages/ipykernel_launcher.py:106: SettingWithCopyWarning: \n",
            "A value is trying to be set on a copy of a slice from a DataFrame\n",
            "\n",
            "See the caveats in the documentation: http://pandas.pydata.org/pandas-docs/stable/user_guide/indexing.html#returning-a-view-versus-a-copy\n",
            "/usr/local/lib/python3.6/dist-packages/ipykernel_launcher.py:107: SettingWithCopyWarning: \n",
            "A value is trying to be set on a copy of a slice from a DataFrame\n",
            "\n",
            "See the caveats in the documentation: http://pandas.pydata.org/pandas-docs/stable/user_guide/indexing.html#returning-a-view-versus-a-copy\n",
            "/usr/local/lib/python3.6/dist-packages/ipykernel_launcher.py:56: RuntimeWarning: invalid value encountered in double_scalars\n",
            "/usr/local/lib/python3.6/dist-packages/ipykernel_launcher.py:62: RuntimeWarning: invalid value encountered in double_scalars\n",
            "/usr/local/lib/python3.6/dist-packages/ipykernel_launcher.py:93: RuntimeWarning: invalid value encountered in double_scalars\n",
            "/usr/local/lib/python3.6/dist-packages/ipykernel_launcher.py:98: RuntimeWarning: invalid value encountered in double_scalars\n",
            "/usr/local/lib/python3.6/dist-packages/ipykernel_launcher.py:55: RuntimeWarning: invalid value encountered in double_scalars\n",
            "/usr/local/lib/python3.6/dist-packages/ipykernel_launcher.py:61: RuntimeWarning: invalid value encountered in double_scalars\n"
          ],
          "name": "stderr"
        },
        {
          "output_type": "stream",
          "text": [
            "WAPE_1month:  [0.16623353386676726, 0.1564700945753897, 0.15533451201652904, 0.21395168177509943, 0.18864475436417122] % iplan: [0.1690669519066778, 0.20231405666258312, 0.17883893903706405, 0.23657810047984945, 0.22855007525292764]\n",
            "WAPE_2month:  [0.17670388668303014, 0.21047970455960216, 0.18716336135170702, 0.24357161878294606, nan] % iplan: [0.2529726100244357, 0.23346778206557695, 0.17028634510358034, 0.23639314909134518, nan]\n",
            "WAPE_3month:  [0.22807976966528007, 0.24214624597426934, 0.19218089935059252, nan, nan] % iplan: [0.24025834511170246, 0.23992482266836787, 0.26286636451871614, nan, nan]\n",
            "FCA_1month:  [0.16868128866121376, 0.16249936777037519, 0.16163704114948613, 0.22555811367210296, 0.19533348586015292] % iplan: [0.1592941577406554, 0.19470494963791965, 0.18218599868764085, 0.22448845181188323, 0.21256289401427883]\n",
            "FCA_2month: [0.18528799500900914, 0.22398990125259438, 0.19255850910457084, 0.26251030845114254, nan] % iplan: [0.24570248659358948, 0.2295122689492256, 0.1672008103867519, 0.2279010819471238, nan]\n",
            "FCA_3month: [0.2379456477953557, 0.2615893435665833, 0.20790322613572068, nan, nan] % iplan: [0.2453523247665306, 0.23119106037433312, 0.2615837917858573, nan, nan]\n"
          ],
          "name": "stdout"
        },
        {
          "output_type": "stream",
          "text": [
            "/usr/local/lib/python3.6/dist-packages/ipykernel_launcher.py:92: RuntimeWarning: invalid value encountered in double_scalars\n",
            "/usr/local/lib/python3.6/dist-packages/ipykernel_launcher.py:97: RuntimeWarning: invalid value encountered in double_scalars\n"
          ],
          "name": "stderr"
        }
      ]
    },
    {
      "cell_type": "code",
      "metadata": {
        "id": "r4jaya3ip0GN",
        "colab_type": "code",
        "colab": {}
      },
      "source": [
        "##WRITE OUT THE MONTHLY FILE\n",
        "os.chdir(sdf_dir_output)\n",
        "##Master_files_month.to_excel(\"Master_files_month.xlsx\")\n",
        "##Master_files.to_excel(\"Master_files.xlsx\")\n",
        "writer.save()\n",
        "writer_monthly.save() \n",
        "\n",
        "###################################################################################################################################################################################\n",
        "\n",
        "###################################################################################################################################################################################\n",
        "\n",
        "###################################################################################################################################################################################"
      ],
      "execution_count": 0,
      "outputs": []
    },
    {
      "cell_type": "code",
      "metadata": {
        "id": "31mp9Q_xJylr",
        "colab_type": "code",
        "colab": {}
      },
      "source": [
        "\n",
        "#os.chdir(dir_output)\n",
        "##Master_files[pd.to_datetime(Master_files[\"Calendar day\"]).dt.year==2019].to_csv(\"Master_file_2019.csv\")"
      ],
      "execution_count": 0,
      "outputs": []
    },
    {
      "cell_type": "code",
      "metadata": {
        "id": "7eiUdo2Um7AY",
        "colab_type": "code",
        "colab": {}
      },
      "source": [
        "os.chdir(sdf_dir_monthly_iplan)"
      ],
      "execution_count": 0,
      "outputs": []
    },
    {
      "cell_type": "code",
      "metadata": {
        "id": "a2zu6umjTtAb",
        "colab_type": "code",
        "colab": {}
      },
      "source": [
        "check_09=pd.read_excel(\"20190825_monthly_forecast_nobigproj_iplan.xlsx\")"
      ],
      "execution_count": 0,
      "outputs": []
    },
    {
      "cell_type": "code",
      "metadata": {
        "id": "O2rC5iy5YirL",
        "colab_type": "code",
        "outputId": "da31a9a9-e350-4ed0-ae4f-8501f0623731",
        "colab": {
          "base_uri": "https://localhost:8080/",
          "height": 221
        }
      },
      "source": [
        "check_09[\"2019\"]"
      ],
      "execution_count": 0,
      "outputs": [
        {
          "output_type": "execute_result",
          "data": {
            "text/plain": [
              "0      22868\n",
              "1      28011\n",
              "2      22780\n",
              "3      49224\n",
              "4      61634\n",
              "       ...  \n",
              "809     2539\n",
              "810     1730\n",
              "811      460\n",
              "812      500\n",
              "813      400\n",
              "Name: 2019, Length: 814, dtype: int64"
            ]
          },
          "metadata": {
            "tags": []
          },
          "execution_count": 61
        }
      ]
    },
    {
      "cell_type": "code",
      "metadata": {
        "id": "LcQxtJeQYj7w",
        "colab_type": "code",
        "outputId": "a34ad5ad-ffd7-4afa-9557-19ebefa7df2f",
        "colab": {
          "base_uri": "https://localhost:8080/",
          "height": 68
        }
      },
      "source": [
        "check_09.columns"
      ],
      "execution_count": 0,
      "outputs": [
        {
          "output_type": "execute_result",
          "data": {
            "text/plain": [
              "Index(['Plant', 'Product_Class', 'Product_Form', 'actual_time',\n",
              "       'forecasted_time', 'volume'],\n",
              "      dtype='object')"
            ]
          },
          "metadata": {
            "tags": []
          },
          "execution_count": 30
        }
      ]
    },
    {
      "cell_type": "code",
      "metadata": {
        "id": "xmRTunuuYu4H",
        "colab_type": "code",
        "colab": {}
      },
      "source": [
        ""
      ],
      "execution_count": 0,
      "outputs": []
    }
  ]
}