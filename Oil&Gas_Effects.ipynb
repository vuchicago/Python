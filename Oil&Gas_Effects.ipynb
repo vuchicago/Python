{
  "nbformat": 4,
  "nbformat_minor": 0,
  "metadata": {
    "colab": {
      "name": "Oil&Gas Effects.ipynb",
      "version": "0.3.2",
      "provenance": [],
      "collapsed_sections": [],
      "include_colab_link": true
    },
    "kernelspec": {
      "name": "python3",
      "display_name": "Python 3"
    }
  },
  "cells": [
    {
      "cell_type": "markdown",
      "metadata": {
        "id": "view-in-github",
        "colab_type": "text"
      },
      "source": [
        "<a href=\"https://colab.research.google.com/github/vuchicago/Python/blob/master/Oil%26Gas_Effects.ipynb\" target=\"_parent\"><img src=\"https://colab.research.google.com/assets/colab-badge.svg\" alt=\"Open In Colab\"/></a>"
      ]
    },
    {
      "cell_type": "code",
      "metadata": {
        "id": "76aR6Pi8v4Aa",
        "colab_type": "code",
        "colab": {
          "base_uri": "https://localhost:8080/",
          "height": 126
        },
        "outputId": "42f8cfae-f756-49dd-adc0-22b3cf3fcb9b"
      },
      "source": [
        "####MOUNT DRIVE\n",
        "from google.colab import drive\n",
        "drive.mount('/content/gdrive',force_remount=True)\n",
        "\n",
        "\n",
        "\n"
      ],
      "execution_count": 1,
      "outputs": [
        {
          "output_type": "stream",
          "text": [
            "Go to this URL in a browser: https://accounts.google.com/o/oauth2/auth?client_id=947318989803-6bn6qk8qdgf4n4g3pfee6491hc0brc4i.apps.googleusercontent.com&redirect_uri=urn%3Aietf%3Awg%3Aoauth%3A2.0%3Aoob&scope=email%20https%3A%2F%2Fwww.googleapis.com%2Fauth%2Fdocs.test%20https%3A%2F%2Fwww.googleapis.com%2Fauth%2Fdrive%20https%3A%2F%2Fwww.googleapis.com%2Fauth%2Fdrive.photos.readonly%20https%3A%2F%2Fwww.googleapis.com%2Fauth%2Fpeopleapi.readonly&response_type=code\n",
            "\n",
            "Enter your authorization code:\n",
            "··········\n",
            "Mounted at /content/gdrive\n"
          ],
          "name": "stdout"
        }
      ]
    },
    {
      "cell_type": "code",
      "metadata": {
        "id": "59UIC-zRvRaN",
        "colab_type": "code",
        "colab": {}
      },
      "source": [
        "import os\n",
        "os.chdir(\"/content/gdrive/My Drive/Python/Oil_Gas_MSA\")\n",
        "import pandas as pd\n",
        "import numpy as np\n",
        "import matplotlib as mpl\n",
        "from matplotlib import pyplot as plt\n",
        "from datetime import datetime as dt\n",
        "\n",
        "base_dir=\"/content/gdrive/My Drive/Python/Oil_Gas_MSA\"\n",
        "\n",
        "pred_var=['index',\"Private industries\",\"Forestry,fishing\",\"Oil_gas\",'Non-metal miner manufac']\n",
        "\n",
        "input_files=os.listdir(base_dir)"
      ],
      "execution_count": 0,
      "outputs": []
    },
    {
      "cell_type": "code",
      "metadata": {
        "id": "n6OvmJ2HtHuq",
        "colab_type": "code",
        "colab": {}
      },
      "source": [
        "msa_files=pd.DataFrame()\n",
        "for file in input_files:\n",
        "    msa_file=pd.read_csv(file)\n",
        "    keep_indices=[0,1,4,5,9,10,14,34,50,56,65,78]\n",
        "    column_keep=[\"Description\", \"2001\",\"2002\",'2003', '2004', '2005', '2006', '2007', '2008', '2009', '2010', '2011',\n",
        "       '2012', '2013', '2014', '2015', '2016', '2017']\n",
        "    msa_file=msa_file[column_keep].iloc[keep_indices,:]\n",
        "    msa_file_T=pd.DataFrame(msa_file.T[1:]).reset_index()\n",
        "    msa_file_T=msa_file_T.rename(columns={1:\"Private industries\",4:\"Forestry,fishing\",5:\"Oil_gas\",9:\"Utilities\",\n",
        "                                          10:\"Manufacturing\",14:\"Non-metal miner manufac\",34:\"Retail\",\n",
        "                                          50:\"Finance_Ins\",56:\"Real_estate\",65:\"Education\",78:\"Government\"})*1\n",
        "    for var in msa_file_T.columns:\n",
        "        msa_file_T[var]=msa_file_T[var].replace(\"(D)\",np.NaN).replace(\"(NA)\",np.nan).replace(\"(L)\",np.nan)*1\n",
        "        msa_file_T[var]=msa_file_T[var].apply(lambda x: np.nan if isinstance(np.float(x),str) else x)\n",
        "        msa_file_T[var]=msa_file_T[var].fillna(method='ffill')\n",
        "        msa_file_T[var]=msa_file_T[var].fillna(method='bfill')\n",
        "        msa_file_T[var]=msa_file_T[var].replace(np.nan,0)\n",
        "    #for var in msa_file_T.columns:\n",
        "    msa_files=pd.concat([msa_files,msa_file_T],axis=0)\n",
        "\n",
        "\n",
        "\n"
      ],
      "execution_count": 0,
      "outputs": []
    },
    {
      "cell_type": "code",
      "metadata": {
        "id": "cPFx9xmOxmg9",
        "colab_type": "code",
        "colab": {}
      },
      "source": [
        "def feature_engineering(dset_in):\n",
        "    dset_out=pd.DataFrame()\n",
        "    for col in dset_in.columns:\n",
        "        dset_out[col]=dset_in[col]\n",
        "        dset_out[col+\"_log\"]=dset_in[col].apply(lambda x: np.log(x+1))\n",
        "        dset_out[col+\"_squared\"]=dset_in[col].apply(lambda x: np.square(x+1))\n",
        "    return dset_out\n"
      ],
      "execution_count": 0,
      "outputs": []
    },
    {
      "cell_type": "code",
      "metadata": {
        "id": "G98Jr5_ntUTw",
        "colab_type": "code",
        "colab": {
          "base_uri": "https://localhost:8080/",
          "height": 106
        },
        "outputId": "cef2f177-4497-4af8-cd9f-f9dd087807e0"
      },
      "source": [
        "msa_files[\"Recession_indicator\"]=0\n",
        "recession_years=['2001','2008','2009']\n",
        "for i in range(len(msa_files)):\n",
        "    if msa_files[\"index\"].iloc[i] in recession_years:\n",
        "        msa_files[\"Recession_indicator\"].iloc[i]=1\n",
        "    else:\n",
        "        msa_files[\"Recession_indicator\"].iloc[i]=0\n",
        "        \n",
        "pred_var=[\"Private industries\",\"Forestry,fishing\",\"Oil_gas\",'Non-metal miner manufac',\"Utilities\",\"Manufacturing\",\"Retail\",\"Finance_Ins\",\"Real_estate\",\"Education\",\"Government\"]\n",
        "label_var=[\"Recession_indicator\"]\n",
        "df_var=msa_files[pred_var]\n",
        "df_label=msa_files[label_var]\n",
        "\n",
        "####convert it to numeric matrix\n",
        "df_var_mat=np.matrix(df_var,float)\n",
        "df_label_mat=np.matrix(df_label,float)\n",
        "\n"
      ],
      "execution_count": 0,
      "outputs": [
        {
          "output_type": "stream",
          "text": [
            "/usr/local/lib/python3.6/dist-packages/pandas/core/indexing.py:190: SettingWithCopyWarning: \n",
            "A value is trying to be set on a copy of a slice from a DataFrame\n",
            "\n",
            "See the caveats in the documentation: http://pandas.pydata.org/pandas-docs/stable/indexing.html#indexing-view-versus-copy\n",
            "  self._setitem_with_indexer(indexer, value)\n"
          ],
          "name": "stderr"
        }
      ]
    },
    {
      "cell_type": "code",
      "metadata": {
        "id": "lsutURePtWqZ",
        "colab_type": "code",
        "colab": {}
      },
      "source": [
        "#####Sklearn doesn't return p-values of coefficients\n",
        "from sklearn.linear_model import LogisticRegression\n",
        "import sklearn.feature_selection\n",
        "clf=LogisticRegression(random_state=0,solver='lbfgs').fit(df_var,df_label)\n",
        "p_value=sklearn.feature_selection.f_regression(df_var,df_label)\n",
        "clf.coef_\n",
        "\n"
      ],
      "execution_count": 0,
      "outputs": []
    },
    {
      "cell_type": "code",
      "metadata": {
        "id": "Z7A6wxSNtYJM",
        "colab_type": "code",
        "colab": {}
      },
      "source": [
        "#####using statsmodels\n",
        "import statsmodels.api as sm\n",
        "import statsmodels.formula.api as smf\n",
        "from statsmodels.discrete import discrete_model\n",
        "\n",
        "\n",
        "discrete_model.Logit(df_label_mat,df_var_mat)\n",
        "results=sm.Logit(df_label_mat,df_var_mat)\n",
        "results_f=results.fit()\n",
        "print(results_f.summary())"
      ],
      "execution_count": 0,
      "outputs": []
    }
  ]
}