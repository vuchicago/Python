{
  "nbformat": 4,
  "nbformat_minor": 0,
  "metadata": {
    "colab": {
      "name": "Redwood MS_v2.ipynb",
      "provenance": [],
      "collapsed_sections": [],
      "authorship_tag": "ABX9TyOVSj56D+ASupOuZGk4aaqm",
      "include_colab_link": true
    },
    "kernelspec": {
      "name": "python3",
      "display_name": "Python 3"
    },
    "language_info": {
      "name": "python"
    }
  },
  "cells": [
    {
      "cell_type": "markdown",
      "metadata": {
        "id": "view-in-github",
        "colab_type": "text"
      },
      "source": [
        "<a href=\"https://colab.research.google.com/github/vuchicago/Python/blob/master/Redwood_MS_v2.ipynb\" target=\"_parent\"><img src=\"https://colab.research.google.com/assets/colab-badge.svg\" alt=\"Open In Colab\"/></a>"
      ]
    },
    {
      "cell_type": "code",
      "metadata": {
        "colab": {
          "base_uri": "https://localhost:8080/"
        },
        "id": "H9SKPfSkecW4",
        "outputId": "00ce5ac5-0986-416b-cddd-2fa6ca3b64f1"
      },
      "source": [
        "####MOUNT DRIVE\n",
        "from google.colab import drive\n",
        "drive.mount('/content/gdrive',force_remount=True)"
      ],
      "execution_count": 5,
      "outputs": [
        {
          "output_type": "stream",
          "text": [
            "Mounted at /content/gdrive\n"
          ],
          "name": "stdout"
        }
      ]
    },
    {
      "cell_type": "code",
      "metadata": {
        "id": "M2HXXYDu0XwG"
      },
      "source": [
        "import os\n",
        "\n",
        "import tensorflow as tf\n",
        "import pandas as pd\n",
        "import numpy as np\n",
        "import matplotlib as mpl\n",
        "from matplotlib import pyplot as plt\n",
        "from datetime import datetime as dt\n",
        "base_dir=\"/content/gdrive/My Drive/Python/Logistics\"\n",
        "ms_dir=os.path.join(base_dir,\"Managed Services\")\n",
        "email_dir=os.path.join(ms_dir,\"Outlook Emails\")\n",
        "email_dir_val=os.path.join(ms_dir,\"Outlook Emails (Validation)\")\n",
        "\n"
      ],
      "execution_count": 33,
      "outputs": []
    },
    {
      "cell_type": "code",
      "metadata": {
        "id": "nJtKKQwJTI5b"
      },
      "source": [
        "os.chdir(email_dir_val)\n",
        "\n",
        "!pip install extract-msg\n",
        "!pip install imapclient\n",
        "import extract_msg\n"
      ],
      "execution_count": null,
      "outputs": []
    },
    {
      "cell_type": "code",
      "metadata": {
        "id": "2EyotbD80geJ"
      },
      "source": [
        "os.chdir(ms_dir)"
      ],
      "execution_count": 7,
      "outputs": []
    },
    {
      "cell_type": "code",
      "metadata": {
        "id": "q2ALbilM1yre"
      },
      "source": [
        "####import json file\n",
        "import json\n",
        "with open('MS Email Data_output_Apr_01_2021_v2.json') as json_data:\n",
        "    data = json.load(json_data)##\n",
        "\n",
        "##data contains entities and text.  Within entities, you have end_idx, start_idx, text, and type.  You want end_idx, start_idx, type\n"
      ],
      "execution_count": 4,
      "outputs": []
    },
    {
      "cell_type": "code",
      "metadata": {
        "colab": {
          "base_uri": "https://localhost:8080/"
        },
        "id": "fYAuJ_Vd9t_P",
        "outputId": "20ebdf74-6e33-4178-bcf2-f286cdacfa50"
      },
      "source": [
        "###Code to read json file and store it into dictionary for model to read\n",
        "entity_data={'entity':[]}\n",
        "for i in range(1,len(data)):\n",
        "  partial_data={'entities':[]}\n",
        "  for entities in data[i]['entities']:\n",
        "    partial_data['entities'].append((entities['start_idx'],entities['end_idx'],entities['type']))\n",
        "  entity_data[\"entity\"].append(partial_data)\n",
        "\n",
        "entity_data['entity']"
      ],
      "execution_count": 14,
      "outputs": [
        {
          "output_type": "execute_result",
          "data": {
            "text/plain": [
              "[{'entities': [(166, 176, 'Pallet Count'),\n",
              "   (178, 190, 'Weight'),\n",
              "   (201, 225, 'Delivery Address')]},\n",
              " {'entities': [(15, 48, 'Pickup Address'),\n",
              "   (80, 138, 'Delivery Address'),\n",
              "   (141, 150, 'PO Number'),\n",
              "   (153, 162, 'Pallet Count'),\n",
              "   (174, 183, 'Weight')]},\n",
              " {'entities': [(80, 91, 'PO Number'),\n",
              "   (102, 111, 'Pallet Count'),\n",
              "   (124, 131, 'Weight'),\n",
              "   (220, 273, 'Pickup Address'),\n",
              "   (320, 387, 'Delivery Address')]},\n",
              " {'entities': [(51, 103, 'Pickup Address'),\n",
              "   (127, 138, 'PO Number'),\n",
              "   (155, 164, 'Pallet Count'),\n",
              "   (165, 172, 'Weight')]},\n",
              " {'entities': [(66, 108, 'Pickup Address'),\n",
              "   (132, 143, 'PO Number'),\n",
              "   (174, 183, 'Pallet Count'),\n",
              "   (184, 192, 'Weight')]},\n",
              " {'entities': [(67, 102, 'Pickup Address'),\n",
              "   (130, 141, 'PO Number'),\n",
              "   (158, 167, 'Pallet Count'),\n",
              "   (168, 175, 'Weight')]},\n",
              " {'entities': [(51, 103, 'Pickup Address'),\n",
              "   (123, 134, 'PO Number'),\n",
              "   (164, 173, 'Pallet Count'),\n",
              "   (174, 182, 'Weight')]},\n",
              " {'entities': [(50, 114, 'Pickup Address'),\n",
              "   (142, 153, 'PO Number'),\n",
              "   (171, 180, 'Pallet Count'),\n",
              "   (181, 189, 'Weight')]},\n",
              " {'entities': [(50, 117, 'Pickup Address'),\n",
              "   (145, 156, 'PO Number'),\n",
              "   (173, 183, 'Pallet Count'),\n",
              "   (184, 193, 'Weight'),\n",
              "   (217, 228, 'PO Number'),\n",
              "   (245, 255, 'Pallet Count'),\n",
              "   (256, 265, 'Weight')]},\n",
              " {'entities': [(53, 104, 'Pickup Address'),\n",
              "   (132, 143, 'PO Number'),\n",
              "   (173, 183, 'Pallet Count'),\n",
              "   (184, 193, 'Weight')]},\n",
              " {'entities': [(70, 120, 'Pickup Address'),\n",
              "   (148, 159, 'PO Number'),\n",
              "   (176, 186, 'Pallet Count'),\n",
              "   (187, 195, 'Weight'),\n",
              "   (219, 230, 'PO Number'),\n",
              "   (247, 256, 'Pallet Count'),\n",
              "   (257, 265, 'Weight')]},\n",
              " {'entities': [(68, 103, 'Pickup Address'),\n",
              "   (131, 142, 'PO Number'),\n",
              "   (159, 168, 'Pallet Count'),\n",
              "   (169, 178, 'Weight')]},\n",
              " {'entities': [(30, 81, 'Pickup Address'),\n",
              "   (126, 136, 'Pallet Count'),\n",
              "   (140, 158, 'Weight'),\n",
              "   (216, 229, 'PO Number')]},\n",
              " {'entities': [(79, 90, 'PO Number'),\n",
              "   (101, 110, 'Pallet Count'),\n",
              "   (123, 130, 'Weight'),\n",
              "   (192, 272, 'Pickup Address'),\n",
              "   (349, 386, 'Delivery Address')]},\n",
              " {'entities': [(1, 44, 'Delivery Address'),\n",
              "   (98, 106, 'Weight'),\n",
              "   (121, 130, 'Pallet Count'),\n",
              "   (146, 157, 'PO Number'),\n",
              "   (160, 171, 'PO Number')]},\n",
              " {'entities': [(67, 114, 'Pickup Address'),\n",
              "   (142, 153, 'PO Number'),\n",
              "   (171, 180, 'Pallet Count'),\n",
              "   (181, 189, 'Weight')]},\n",
              " {'entities': [(67, 108, 'Pickup Address'),\n",
              "   (134, 145, 'PO Number'),\n",
              "   (162, 172, 'Pallet Count'),\n",
              "   (173, 182, 'Weight'),\n",
              "   (234, 244, 'Pallet Count'),\n",
              "   (245, 254, 'Weight'),\n",
              "   (278, 289, 'PO Number'),\n",
              "   (306, 316, 'Pallet Count'),\n",
              "   (317, 326, 'Weight'),\n",
              "   (350, 361, 'PO Number'),\n",
              "   (378, 388, 'Pallet Count'),\n",
              "   (389, 398, 'Pallet Count')]},\n",
              " {'entities': [(50, 114, 'Pickup Address'),\n",
              "   (171, 180, 'Pallet Count'),\n",
              "   (181, 187, 'Weight')]},\n",
              " {'entities': [(50, 102, 'Pickup Address'),\n",
              "   (126, 137, 'PO Number'),\n",
              "   (154, 163, 'Pallet Count'),\n",
              "   (164, 173, 'Weight')]},\n",
              " {'entities': [(99, 139, 'Pickup Address')]},\n",
              " {'entities': [(78, 88, 'PO Number'),\n",
              "   (91, 100, 'Pallet Count'),\n",
              "   (191, 230, 'Delivery Address'),\n",
              "   (257, 307, 'Pickup Address')]},\n",
              " {'entities': [(25, 34, 'Pallet Count'),\n",
              "   (35, 47, 'Weight'),\n",
              "   (84, 97, 'PO Number')]},\n",
              " {'entities': [(53, 104, 'Pickup Address'),\n",
              "   (132, 143, 'PO Number'),\n",
              "   (174, 184, 'Pallet Count'),\n",
              "   (185, 194, 'Weight')]},\n",
              " {'entities': [(78, 92, 'PO Number'),\n",
              "   (93, 99, 'PO Number'),\n",
              "   (100, 106, 'PO Number'),\n",
              "   (109, 118, 'Pallet Count'),\n",
              "   (201, 240, 'Delivery Address'),\n",
              "   (267, 317, 'Pickup Address')]},\n",
              " {'entities': [(67, 102, 'Pickup Address'),\n",
              "   (126, 137, 'PO Number'),\n",
              "   (154, 163, 'Pallet Count'),\n",
              "   (164, 171, 'Weight')]},\n",
              " {'entities': [(67, 105, 'Pickup Address'),\n",
              "   (131, 142, 'PO Number'),\n",
              "   (176, 186, 'Pallet Count'),\n",
              "   (187, 196, 'Weight')]},\n",
              " {'entities': [(112, 146, 'Pickup Address'),\n",
              "   (147, 159, 'Weight'),\n",
              "   (171, 180, 'PO Number')]}]"
            ]
          },
          "metadata": {
            "tags": []
          },
          "execution_count": 14
        }
      ]
    },
    {
      "cell_type": "code",
      "metadata": {
        "id": "zfK03Z0xGix2"
      },
      "source": [
        "a=data[1]['text']\n",
        "b=data[2]['text']\n",
        "c=data[3]['text']\n"
      ],
      "execution_count": 20,
      "outputs": []
    },
    {
      "cell_type": "code",
      "metadata": {
        "id": "TRbLo_sQXnkh"
      },
      "source": [
        "##annotate the data\n",
        "train_data=[\n",
        "    (a,entity_data['entity'][0]),\n",
        "    (b,entity_data['entity'][1]),\n",
        "    (c,entity_data['entity'][2])\n",
        "]"
      ],
      "execution_count": 21,
      "outputs": []
    },
    {
      "cell_type": "code",
      "metadata": {
        "colab": {
          "base_uri": "https://localhost:8080/"
        },
        "id": "iogf8v_KlWjX",
        "outputId": "e96265c9-f6c4-41f2-82de-81190acf6d70"
      },
      "source": [
        "for i,j in train_data:\n",
        "  print(j)"
      ],
      "execution_count": 31,
      "outputs": [
        {
          "output_type": "stream",
          "text": [
            "{'entities': [(166, 176, 'Pallet Count'), (178, 190, 'Weight'), (201, 225, 'Delivery Address')]}\n",
            "{'entities': [(80, 91, 'PO Number'), (102, 111, 'Pallet Count'), (124, 131, 'Weight'), (220, 273, 'Pickup Address'), (320, 387, 'Delivery Address')]}\n",
            "{'entities': [(15, 48, 'Pickup Address'), (80, 138, 'Delivery Address'), (141, 150, 'PO Number'), (153, 162, 'Pallet Count'), (174, 183, 'Weight')]}\n"
          ],
          "name": "stdout"
        }
      ]
    },
    {
      "cell_type": "code",
      "metadata": {
        "id": "jpw6LXDVN1g7"
      },
      "source": [
        "######combine the text with the corresponding labeled entities  (Annotate the data)\n",
        "train_data=[]\n",
        "\n",
        "for i in range(0,len(entity_data['entity'])):\n",
        "  train_data.append((data[i+1]['text'],entity_data['entity'][i]))"
      ],
      "execution_count": 19,
      "outputs": []
    },
    {
      "cell_type": "code",
      "metadata": {
        "colab": {
          "base_uri": "https://localhost:8080/"
        },
        "id": "4fcW4KfmkjqQ",
        "outputId": "41ef2dec-2a20-4e8d-fd01-b54bc9763be7"
      },
      "source": [
        "for i,j in train_data:\n",
        "  print(i,j)"
      ],
      "execution_count": 20,
      "outputs": [
        {
          "output_type": "stream",
          "text": [
            "\"Good Morning   I tried to do the pick up on line but there was no customer code for Largo FL and it would not let me put 52 pallets in the pallet count.   Si I have 52 pallets, 10400 pounds, going to Baxter in Largo FL 33773, ready now close at 3.   Let me know   Thank you\"\r {'entities': [(166, 176, 'Pallet Count'), (178, 190, 'Weight'), (201, 225, 'Delivery Address')]}\n",
            "\" FROM: CABKA  123 BYASSEE RD HAZELWOOD MO 63042   TO: Baxter Healthcare Corp / Hospital Products  65 Pitts Station Road  Marion, NC 28752   PO 249388   30 STACKS; 48X40X96; 35,640LBS   HOURS M-F; 7 a.m. to 3 p.m. CST\"\r {'entities': [(15, 48, 'Pickup Address'), (80, 138, 'Delivery Address'), (141, 150, 'PO Number'), (153, 162, 'Pallet Count'), (174, 183, 'Weight')]}\n",
            "\" HELLO,          I NEED TO SCHEDULE A PICK UP :   EXL2812182 ORDER # 177825239 PO # 235684   Total:  2 PALLETS (48X40X52)  391 lbs.  Medical Devices  NON HAZMAT  Class 150     Shipping from:  EMD Millipore Corporation  530 John Hancock Road  Taunton, MA 02780  DOORS 11-20  READY: TODAY 4:30pm � 6:00pm   Shipping to:  BAXTER HEALTHCARE CORPORATON  65 PITTS STATION ROAD MARION NC 28752 HOSPITAL PRODUCTS\"\r {'entities': [(80, 91, 'PO Number'), (102, 111, 'Pallet Count'), (124, 131, 'Weight'), (220, 273, 'Pickup Address'), (320, 387, 'Delivery Address')]}\n",
            "\" Hello,   This is shipping from the MI warehouse. Rockwell Medical 30142 S. Wixom Road Wixom, MI 48393 800-449-3353 EXT 430   PO 46406234 OP P/U# C582152 2 pallets 5140lbs Ship date: 3/16/21\"\r {'entities': [(51, 103, 'Pickup Address'), (127, 138, 'PO Number'), (155, 164, 'Pallet Count'), (165, 172, 'Weight')]}\n",
            "\"Hello,   This is shipping from the TX warehouse Rockwell Medical 4051 Freeport Parkway  Grapevine, TX 76051 800-449-3353 ext 460   PO 46406238 OP (Ontario CA)  P/U# C582158 2 pallets 3,250lbs Ship date: 3/17/21\"\r {'entities': [(66, 108, 'Pickup Address'), (132, 143, 'PO Number'), (174, 183, 'Pallet Count'), (184, 192, 'Weight')]}\n",
            "\"Hello,   This is shipping from the MI warehouse. Rockwell Medical 30142 S. Wixom Road Wixom, MI 48393 Ph: 800-449-3353 Ext 430   PO 46406254 OP P/U# C582151 1 pallets 1310lbs Ship date: 3/16/21\"\r {'entities': [(67, 102, 'Pickup Address'), (130, 141, 'PO Number'), (158, 167, 'Pallet Count'), (168, 175, 'Weight')]}\n",
            "\" Hello,   This is shipping from the SC warehouse. Rockwell Medical 604 High Tech Court Greer, SC 29650 Ph: 864-849-0530   PO 46406224 OP (Buford, GA) P/U# C582167 3 pallets 7,710lbs Ship date: 3/18/21\"\r {'entities': [(51, 103, 'Pickup Address'), (123, 134, 'PO Number'), (164, 173, 'Pallet Count'), (174, 182, 'Weight')]}\n",
            "\"Hello,   This is shipping from the TX warehouse. Rockwell Medical 4051 Freeport Pkwy Suite 100 Grapevine TX 76051 Ph: 800-449-3353 Ext 460   PO 46308141 OP  P/U# C578440 1 pallets 1,940lbs Ship date: 2/17/21\"\r {'entities': [(50, 114, 'Pickup Address'), (142, 153, 'PO Number'), (171, 180, 'Pallet Count'), (181, 189, 'Weight')]}\n",
            "\"Hello,   This is shipping from the TX warehouse. Rockwell Medical 4051 Freeport Pkwy. Suite 100 Grapevine , TX 76051 Ph: 800-449-3353 EXT 460   PO 46354304 OP P/U# C580926 12 pallets 37,170lbs Ship date: 3/18/2021   PO 46354304 OP P/U# C580927 16 pallets 36,320lbs Ship date: 3/18/2021\"\r {'entities': [(50, 117, 'Pickup Address'), (145, 156, 'PO Number'), (173, 183, 'Pallet Count'), (184, 193, 'Weight'), (217, 228, 'PO Number'), (245, 255, 'Pallet Count'), (256, 265, 'Weight')]}\n",
            "\"Hello,   This PO is shipping from the MI WAREHOUSE. Rockwell Medical 30142 S Wixom Rd.  Wixom, MI 48393 Ph: 800-449-3353 EXT 430   PO 46354325 OP (Waukegan IL) P/U# C80895 11 pallets 27,220lbs Ship date: 3/9/21\"\r {'entities': [(53, 104, 'Pickup Address'), (132, 143, 'PO Number'), (173, 183, 'Pallet Count'), (184, 193, 'Weight')]}\n",
            "\"Hello,   This PO is shipping from the TX Warehouse. Rockwell Medical 4051 Freeport Pkwy.  Suite 100 Grapevine, TX 76051 Ph: 800-449-3353 ext 460   PO 46307907 OP P/U# C578456 12 pallets 27910lbs Ship date: 2/17/2021   PO 46251841 OP P/U# C578457 8 pallets 18704lbs Ship date: 2/17/2021\"\r {'entities': [(70, 120, 'Pickup Address'), (148, 159, 'PO Number'), (176, 186, 'Pallet Count'), (187, 195, 'Weight'), (219, 230, 'PO Number'), (247, 256, 'Pallet Count'), (257, 265, 'Weight')]}\n",
            "\" Hello,   This is shipping from the MI warehouse. Rockwell Medical 30142 S. Wixom Road Wixom, MI 48393 Ph: 800-449-3353 Ext 430   PO 46354319 OP P/U# C580918 8 pallets 20,110lbs Ship date: 3/9/21\"\r {'entities': [(68, 103, 'Pickup Address'), (131, 142, 'PO Number'), (159, 168, 'Pallet Count'), (169, 178, 'Weight')]}\n",
            "BAXTER HEALTHCARE RENAL D     1900 NORTH HIGHWAY 201       MOUNTAIN HOME AR 72653                             Good Morning!   Pallets: 1    Gross Weights: 350   Dimension: 45 x 45 x 26                       Customer PO#: 46130590 OP\r {'entities': [(30, 81, 'Pickup Address'), (126, 136, 'Pallet Count'), (140, 158, 'Weight'), (216, 229, 'PO Number')]}\n",
            "\"HELLO,          I NEED TO SCHEDULE A PICK UP :   EXL2791478 ORDER # 176564922 PO # 229620   Total:  5 PALLETS (48X40X52)  425 lbs.  Medical Devices  NON HAZMAT  Class 150     Shipping from:  EMD Millipore Corporation  530 John Hancock Road  Taunton, MA 02780  DOORS 11-20  READY: TODAY 4:30pm � 6:00pm   Shipping to:  BAXTER HEALTHCARE CORPORATON  65 PITTS STATION ROAD MARION NC 28752 HOSPITAL PRODUCTS\"\r {'entities': [(79, 90, 'PO Number'), (101, 110, 'Pallet Count'), (123, 130, 'Weight'), (192, 272, 'Pickup Address'), (349, 386, 'Delivery Address')]}\n",
            "\"5995 Commerce Center Dr, Groveport OH 43125       M-F 8am/3pm Delivery address / hours: Weight:  1100 Lbs Pallet count: 2 Pallets Reference #s:  PO# 3843145 & PO# 3789495\"\r {'entities': [(1, 44, 'Delivery Address'), (98, 106, 'Weight'), (121, 130, 'Pallet Count'), (146, 157, 'PO Number'), (160, 171, 'PO Number')]}\n",
            "\"Hello,   This is shipping from the TX warehouse. Rockwell Medical 4051 Freeport Pkwy Suite 100 Grapevine TX 76051 Ph: 800-449-3353 Ext 460   PO 46308141 OP  P/U# C578440 1 pallets 1,940lbs Ship date: 2/17/21\"\r {'entities': [(67, 114, 'Pickup Address'), (142, 153, 'PO Number'), (171, 180, 'Pallet Count'), (181, 189, 'Weight')]}\n",
            "\"Hello,   This is shipping from the TX warehouse. Rockwell Medical 4051 Freeport Parkway Grapevine, TX 76051 Ph: 800-449-3353 x 460   PO 46354317 OP P/U# C580906 18 pallets 38,310lbs Ship date: 3/18/2021   PO 46354317 OP P/U# C580913 18 pallets 40,860lbs Ship date: 3/23/2021   PO 46354317 OP P/U# C580914 19 pallets 42,020lbs Ship date: 3/26/2021   PO 46354317 OP P/U# C580916 19 pallets 43,130lbs Ship date: 3/30/2021\"\r {'entities': [(67, 108, 'Pickup Address'), (134, 145, 'PO Number'), (162, 172, 'Pallet Count'), (173, 182, 'Weight'), (234, 244, 'Pallet Count'), (245, 254, 'Weight'), (278, 289, 'PO Number'), (306, 316, 'Pallet Count'), (317, 326, 'Weight'), (350, 361, 'PO Number'), (378, 388, 'Pallet Count'), (389, 398, 'Pallet Count')]}\n",
            "\"Hello,   This is shipping from the TX warehouse. Rockwell Medical 4051 Freeport Pkwy Suite 100 Grapevine TX 76051 Ph: 800-449-3353 Ext 460   PO 46207707 OP  P/U# C578402 1 pallets 428lbs Ship date: 2/11/2021 (Tomorrow)\"\r {'entities': [(50, 114, 'Pickup Address'), (171, 180, 'Pallet Count'), (181, 187, 'Weight')]}\n",
            "\"Hello,   This is shipping from the MI warehouse. Rockwell Medical 30142 S. Wixom Road Wixom, MI 48393 800-449-3353 EXT 430   PO 46354303 OP P/U# C580928 9 pallets 21,090lbs Ship date: 3/4/21\"\r {'entities': [(50, 102, 'Pickup Address'), (126, 137, 'PO Number'), (154, 163, 'Pallet Count'), (164, 173, 'Weight')]}\n",
            "I have 2 pallets 860 lbs. ready to be picked up today shipping to: Baxter Healthcare Corporation / 911 North Davis Ave / Cleveland MS 38732 Aluminum seals Class 100 48x40x37\r {'entities': [(99, 139, 'Pickup Address')]}\n",
            "\"Hello,   Please see the attached BOL.   The following is ready for pickup�   PO #258442   4 Pallets: 88 Cases @ 719 LBS    Dims - 45 x 48 x 70       Delivery Address Baxter Healthcare Corp  65 Pitts Station Road  Marion, NC 28752   Pickup Address  Contec  767 Flatwood Industrial Dr.  Spartanburg, SC 29303   Shipping Hours  Monday � Friday  8 am � 8 pm\"\r {'entities': [(78, 88, 'PO Number'), (91, 100, 'Pallet Count'), (191, 230, 'Delivery Address'), (257, 307, 'Pickup Address')]}\n",
            "Good Morning!   Pallets: 1   Gross Weights: 324   Dimension: 48 x 40 x24   Customer PO#: 46109265 OP                                                Shipment ready for pickup Open/Closed Time: 7:00am- 4:00pm\r {'entities': [(25, 34, 'Pallet Count'), (35, 47, 'Weight'), (84, 97, 'PO Number')]}\n",
            "\"Hello,   This PO is shipping from the MI WAREHOUSE. Rockwell Medical 30142 S Wixom Rd.  Wixom, MI 48393 Ph: 800-449-3353 EXT 430   PO 46308075 OP (Waukegan IL) P/U# C578442 14 pallets 33,595lbs Ship date: 2/16/21\"\r {'entities': [(53, 104, 'Pickup Address'), (132, 143, 'PO Number'), (174, 184, 'Pallet Count'), (185, 194, 'Weight')]}\n",
            "\"Hello,   Please see the attached BOL.   The following is ready for pickup�   PO #s - 256237 256134 255758   7 Pallets: 156 Cases @ 1184 LBS    45 x 48 x 70    Delivery Address Baxter Healthcare Corp  65 Pitts Station Road  Marion, NC 28752   Pickup Address  Contec  767 Flatwood Industrial Dr.  Spartanburg, SC 29303   Shipping Hours  Monday � Friday  8 am � 8 pm\"\r {'entities': [(78, 92, 'PO Number'), (93, 99, 'PO Number'), (100, 106, 'PO Number'), (109, 118, 'Pallet Count'), (201, 240, 'Delivery Address'), (267, 317, 'Pickup Address')]}\n",
            "\"Hello,   This is shipping from the MI warehouse. Rockwell Medical 30142 S. Wixom Road Wixom, MI 48393 800-449-3353 EXT 430   PO 46251877 OP P/U# C576439 2 pallets 4448lbs Ship date: 1/29/2021\"\r {'entities': [(67, 102, 'Pickup Address'), (126, 137, 'PO Number'), (154, 163, 'Pallet Count'), (164, 171, 'Weight')]}\n",
            "\"Hello,   This is shipping from the MI warehouse. Rockwell Medical 30142 South Wixom Road Wixom, MI 48393 Ph: 800-449-3353 x 430   PO 46456911 OP (Montgomery, NY) P/U# C583857 10 pallets 24,524lbs Ship date: 3/26/21\"\r {'entities': [(67, 105, 'Pickup Address'), (131, 142, 'PO Number'), (176, 186, 'Pallet Count'), (187, 196, 'Weight')]}\n",
            "\"Good afternoon.   Hoping you could provide some research for me.   We have 2 pallets scheduled for pick up via Redwood.   Roquette � IA  Mannitol 2,000 pounds (approx.)  PO 260359 ADM � SC     Sodium Citrate 2,000 pounds (approx.)  PO 260386   Order originated from Baxter Marion perhaps last week\"\r {'entities': [(112, 146, 'Pickup Address'), (147, 159, 'Weight'), (171, 180, 'PO Number')]}\n"
          ],
          "name": "stdout"
        }
      ]
    },
    {
      "cell_type": "code",
      "metadata": {
        "colab": {
          "base_uri": "https://localhost:8080/"
        },
        "id": "QO7g6sCE2GM1",
        "outputId": "59b84c07-54da-4a95-f294-ad5e40df57e9"
      },
      "source": [
        "!pip install spacy\n",
        "\n",
        "import spacy\n",
        "# Load Packages\n",
        "from __future__ import unicode_literals, print_function\n",
        "\n",
        "import plac #  wrapper over argparse\n",
        "import random\n",
        "from pathlib import Path\n",
        "import spacy\n",
        "from tqdm import tqdm # loading bar\n"
      ],
      "execution_count": 21,
      "outputs": [
        {
          "output_type": "stream",
          "text": [
            "Requirement already satisfied: spacy in /usr/local/lib/python3.7/dist-packages (2.2.4)\n",
            "Requirement already satisfied: setuptools in /usr/local/lib/python3.7/dist-packages (from spacy) (54.2.0)\n",
            "Requirement already satisfied: murmurhash<1.1.0,>=0.28.0 in /usr/local/lib/python3.7/dist-packages (from spacy) (1.0.5)\n",
            "Requirement already satisfied: cymem<2.1.0,>=2.0.2 in /usr/local/lib/python3.7/dist-packages (from spacy) (2.0.5)\n",
            "Requirement already satisfied: requests<3.0.0,>=2.13.0 in /usr/local/lib/python3.7/dist-packages (from spacy) (2.23.0)\n",
            "Requirement already satisfied: blis<0.5.0,>=0.4.0 in /usr/local/lib/python3.7/dist-packages (from spacy) (0.4.1)\n",
            "Requirement already satisfied: wasabi<1.1.0,>=0.4.0 in /usr/local/lib/python3.7/dist-packages (from spacy) (0.8.2)\n",
            "Requirement already satisfied: numpy>=1.15.0 in /usr/local/lib/python3.7/dist-packages (from spacy) (1.19.5)\n",
            "Requirement already satisfied: preshed<3.1.0,>=3.0.2 in /usr/local/lib/python3.7/dist-packages (from spacy) (3.0.5)\n",
            "Requirement already satisfied: thinc==7.4.0 in /usr/local/lib/python3.7/dist-packages (from spacy) (7.4.0)\n",
            "Requirement already satisfied: catalogue<1.1.0,>=0.0.7 in /usr/local/lib/python3.7/dist-packages (from spacy) (1.0.0)\n",
            "Requirement already satisfied: tqdm<5.0.0,>=4.38.0 in /usr/local/lib/python3.7/dist-packages (from spacy) (4.41.1)\n",
            "Requirement already satisfied: plac<1.2.0,>=0.9.6 in /usr/local/lib/python3.7/dist-packages (from spacy) (1.1.3)\n",
            "Requirement already satisfied: srsly<1.1.0,>=1.0.2 in /usr/local/lib/python3.7/dist-packages (from spacy) (1.0.5)\n",
            "Requirement already satisfied: urllib3!=1.25.0,!=1.25.1,<1.26,>=1.21.1 in /usr/local/lib/python3.7/dist-packages (from requests<3.0.0,>=2.13.0->spacy) (1.24.3)\n",
            "Requirement already satisfied: certifi>=2017.4.17 in /usr/local/lib/python3.7/dist-packages (from requests<3.0.0,>=2.13.0->spacy) (2020.12.5)\n",
            "Requirement already satisfied: chardet<4,>=3.0.2 in /usr/local/lib/python3.7/dist-packages (from requests<3.0.0,>=2.13.0->spacy) (3.0.4)\n",
            "Requirement already satisfied: idna<3,>=2.5 in /usr/local/lib/python3.7/dist-packages (from requests<3.0.0,>=2.13.0->spacy) (2.10)\n",
            "Requirement already satisfied: importlib-metadata>=0.20; python_version < \"3.8\" in /usr/local/lib/python3.7/dist-packages (from catalogue<1.1.0,>=0.0.7->spacy) (3.8.1)\n",
            "Requirement already satisfied: zipp>=0.5 in /usr/local/lib/python3.7/dist-packages (from importlib-metadata>=0.20; python_version < \"3.8\"->catalogue<1.1.0,>=0.0.7->spacy) (3.4.1)\n",
            "Requirement already satisfied: typing-extensions>=3.6.4; python_version < \"3.8\" in /usr/local/lib/python3.7/dist-packages (from importlib-metadata>=0.20; python_version < \"3.8\"->catalogue<1.1.0,>=0.0.7->spacy) (3.7.4.3)\n"
          ],
          "name": "stdout"
        }
      ]
    },
    {
      "cell_type": "code",
      "metadata": {
        "id": "z7avE_s29uqA"
      },
      "source": [
        "import en_core_web_sm"
      ],
      "execution_count": 62,
      "outputs": []
    },
    {
      "cell_type": "code",
      "metadata": {
        "colab": {
          "base_uri": "https://localhost:8080/"
        },
        "id": "t3jYpNe_2LsH",
        "outputId": "6db1d7dd-b7c2-43a1-c8d9-47dfbd88985f"
      },
      "source": [
        "# sets the model, output directory and training iterations \n",
        "#model = \"en_core_web_sm\"\n",
        "model=None\n",
        "output_dir=ms_dir\n",
        "\n",
        "\n",
        "# Checks to see if there is a current model or no model. In this case I will be starting with a blank model \n",
        "\n",
        "if model is not None:\n",
        "    ner_model = spacy.load(model)  # load existing spaCy model\n",
        "    print(\"Loaded model '%s'\" % model)\n",
        "else:\n",
        "# this will create a blank english model\n",
        "    ner_model = spacy.blank('en')  # create blank Language class\n",
        "    print(\"Created blank 'en' model\")"
      ],
      "execution_count": 95,
      "outputs": [
        {
          "output_type": "stream",
          "text": [
            "Created blank 'en' model\n"
          ],
          "name": "stdout"
        }
      ]
    },
    {
      "cell_type": "code",
      "metadata": {
        "id": "28wolM4kYgsk"
      },
      "source": [
        "\n",
        "# create the built-in pipeline components and add them to the pipeline\n",
        "    # nlp.create_pipe works for built-ins that are registered with spaCy\n",
        "if 'ner' not in ner_model.pipe_names:\n",
        "    ner = ner_model.create_pipe('ner')\n",
        "    ner_model.add_pipe(ner, last=True)\n",
        "# otherwise, get it so we can add labels\n",
        "else:\n",
        "    ner = ner_model.get_pipe('ner')"
      ],
      "execution_count": 97,
      "outputs": []
    },
    {
      "cell_type": "code",
      "metadata": {
        "colab": {
          "base_uri": "https://localhost:8080/"
        },
        "id": "_XcOApGK2PZg",
        "outputId": "85559ea0-5af9-432f-cbd5-819152915ada"
      },
      "source": [
        "n_iter=40\n",
        "\n",
        "# add labels, Trains data based on annotations \n",
        "for _,annotations in train_data:\n",
        "    for ent in annotations.get('entities'):\n",
        "        ner.add_label(ent[2])  ###get the labels, which are in the third column of ent (start_num, end_num, labels)\n",
        "\n",
        "    # get names of other pipes to disable them during training\n",
        "other_pipes = [pipe for pipe in ner_model.pipe_names if pipe != 'ner']\n",
        "with ner_model.disable_pipes(*other_pipes):  # only train NER\n",
        "    optimizer = ner_model.begin_training()\n",
        "    for itn in range(n_iter):\n",
        "        random.shuffle(train_data)\n",
        "        losses = {}\n",
        "        for text, annotations in tqdm(train_data):\n",
        "            ner_model.update(\n",
        "                [text],  # batch of texts\n",
        "                [annotations],  # batch of annotations\n",
        "                drop=0.2,  # dropout - make it harder to memorise data\n",
        "                sgd=optimizer,  # callable to update weights\n",
        "                losses=losses)\n",
        "        print(losses)"
      ],
      "execution_count": null,
      "outputs": [
        {
          "output_type": "stream",
          "text": [
            "100%|██████████| 27/27 [00:02<00:00, 11.94it/s]\n",
            "  7%|▋         | 2/27 [00:00<00:01, 13.10it/s]"
          ],
          "name": "stderr"
        },
        {
          "output_type": "stream",
          "text": [
            "{'ner': 52.55899437362077}\n"
          ],
          "name": "stdout"
        },
        {
          "output_type": "stream",
          "text": [
            "100%|██████████| 27/27 [00:02<00:00, 12.60it/s]\n",
            "  7%|▋         | 2/27 [00:00<00:01, 13.31it/s]"
          ],
          "name": "stderr"
        },
        {
          "output_type": "stream",
          "text": [
            "{'ner': 53.50498380808208}\n"
          ],
          "name": "stdout"
        },
        {
          "output_type": "stream",
          "text": [
            "100%|██████████| 27/27 [00:02<00:00, 13.03it/s]\n",
            "  7%|▋         | 2/27 [00:00<00:01, 13.85it/s]"
          ],
          "name": "stderr"
        },
        {
          "output_type": "stream",
          "text": [
            "{'ner': 62.149498760349545}\n"
          ],
          "name": "stdout"
        },
        {
          "output_type": "stream",
          "text": [
            "100%|██████████| 27/27 [00:02<00:00, 13.10it/s]\n",
            "  7%|▋         | 2/27 [00:00<00:02, 11.92it/s]"
          ],
          "name": "stderr"
        },
        {
          "output_type": "stream",
          "text": [
            "{'ner': 37.59228933383784}\n"
          ],
          "name": "stdout"
        },
        {
          "output_type": "stream",
          "text": [
            "100%|██████████| 27/27 [00:02<00:00, 12.52it/s]\n",
            "  7%|▋         | 2/27 [00:00<00:01, 13.71it/s]"
          ],
          "name": "stderr"
        },
        {
          "output_type": "stream",
          "text": [
            "{'ner': 63.52034909201765}\n"
          ],
          "name": "stdout"
        },
        {
          "output_type": "stream",
          "text": [
            "100%|██████████| 27/27 [00:02<00:00, 12.70it/s]\n",
            "  7%|▋         | 2/27 [00:00<00:01, 12.92it/s]"
          ],
          "name": "stderr"
        },
        {
          "output_type": "stream",
          "text": [
            "{'ner': 45.80656624781507}\n"
          ],
          "name": "stdout"
        },
        {
          "output_type": "stream",
          "text": [
            "100%|██████████| 27/27 [00:02<00:00, 12.58it/s]\n",
            "  7%|▋         | 2/27 [00:00<00:01, 13.18it/s]"
          ],
          "name": "stderr"
        },
        {
          "output_type": "stream",
          "text": [
            "{'ner': 65.42660544674713}\n"
          ],
          "name": "stdout"
        },
        {
          "output_type": "stream",
          "text": [
            "100%|██████████| 27/27 [00:02<00:00, 12.84it/s]\n",
            "  7%|▋         | 2/27 [00:00<00:01, 13.63it/s]"
          ],
          "name": "stderr"
        },
        {
          "output_type": "stream",
          "text": [
            "{'ner': 15.715111504681563}\n"
          ],
          "name": "stdout"
        },
        {
          "output_type": "stream",
          "text": [
            "100%|██████████| 27/27 [00:02<00:00, 12.79it/s]\n",
            "  4%|▎         | 1/27 [00:00<00:02,  9.54it/s]"
          ],
          "name": "stderr"
        },
        {
          "output_type": "stream",
          "text": [
            "{'ner': 64.22390185252584}\n"
          ],
          "name": "stdout"
        },
        {
          "output_type": "stream",
          "text": [
            "100%|██████████| 27/27 [00:02<00:00, 12.61it/s]\n",
            "  7%|▋         | 2/27 [00:00<00:01, 15.67it/s]"
          ],
          "name": "stderr"
        },
        {
          "output_type": "stream",
          "text": [
            "{'ner': 31.453515647642302}\n"
          ],
          "name": "stdout"
        },
        {
          "output_type": "stream",
          "text": [
            "100%|██████████| 27/27 [00:02<00:00, 13.07it/s]\n",
            "  7%|▋         | 2/27 [00:00<00:01, 13.89it/s]"
          ],
          "name": "stderr"
        },
        {
          "output_type": "stream",
          "text": [
            "{'ner': 44.49795077480771}\n"
          ],
          "name": "stdout"
        },
        {
          "output_type": "stream",
          "text": [
            "100%|██████████| 27/27 [00:02<00:00, 12.71it/s]\n",
            "  7%|▋         | 2/27 [00:00<00:02, 12.31it/s]"
          ],
          "name": "stderr"
        },
        {
          "output_type": "stream",
          "text": [
            "{'ner': 51.27368225069972}\n"
          ],
          "name": "stdout"
        },
        {
          "output_type": "stream",
          "text": [
            "100%|██████████| 27/27 [00:02<00:00, 12.50it/s]\n",
            "  7%|▋         | 2/27 [00:00<00:02, 12.37it/s]"
          ],
          "name": "stderr"
        },
        {
          "output_type": "stream",
          "text": [
            "{'ner': 19.826748335609413}\n"
          ],
          "name": "stdout"
        },
        {
          "output_type": "stream",
          "text": [
            "100%|██████████| 27/27 [00:02<00:00, 12.71it/s]\n",
            "  7%|▋         | 2/27 [00:00<00:02, 11.78it/s]"
          ],
          "name": "stderr"
        },
        {
          "output_type": "stream",
          "text": [
            "{'ner': 23.590627886137742}\n"
          ],
          "name": "stdout"
        },
        {
          "output_type": "stream",
          "text": [
            "100%|██████████| 27/27 [00:02<00:00, 12.30it/s]\n",
            "  7%|▋         | 2/27 [00:00<00:02, 12.16it/s]"
          ],
          "name": "stderr"
        },
        {
          "output_type": "stream",
          "text": [
            "{'ner': 50.80456548012657}\n"
          ],
          "name": "stdout"
        },
        {
          "output_type": "stream",
          "text": [
            "100%|██████████| 27/27 [00:02<00:00, 12.62it/s]\n",
            "  7%|▋         | 2/27 [00:00<00:01, 14.37it/s]"
          ],
          "name": "stderr"
        },
        {
          "output_type": "stream",
          "text": [
            "{'ner': 45.409666622207055}\n"
          ],
          "name": "stdout"
        },
        {
          "output_type": "stream",
          "text": [
            "100%|██████████| 27/27 [00:02<00:00, 12.72it/s]\n",
            "  7%|▋         | 2/27 [00:00<00:02, 11.88it/s]"
          ],
          "name": "stderr"
        },
        {
          "output_type": "stream",
          "text": [
            "{'ner': 35.65317975279643}\n"
          ],
          "name": "stdout"
        },
        {
          "output_type": "stream",
          "text": [
            "100%|██████████| 27/27 [00:02<00:00, 12.76it/s]\n",
            "  7%|▋         | 2/27 [00:00<00:01, 13.26it/s]"
          ],
          "name": "stderr"
        },
        {
          "output_type": "stream",
          "text": [
            "{'ner': 14.702000194839306}\n"
          ],
          "name": "stdout"
        },
        {
          "output_type": "stream",
          "text": [
            "100%|██████████| 27/27 [00:02<00:00, 12.76it/s]\n",
            "  7%|▋         | 2/27 [00:00<00:01, 12.65it/s]"
          ],
          "name": "stderr"
        },
        {
          "output_type": "stream",
          "text": [
            "{'ner': 18.82600755834148}\n"
          ],
          "name": "stdout"
        },
        {
          "output_type": "stream",
          "text": [
            "100%|██████████| 27/27 [00:02<00:00, 12.25it/s]\n",
            "  7%|▋         | 2/27 [00:00<00:02, 12.39it/s]"
          ],
          "name": "stderr"
        },
        {
          "output_type": "stream",
          "text": [
            "{'ner': 16.53619354860783}\n"
          ],
          "name": "stdout"
        },
        {
          "output_type": "stream",
          "text": [
            "100%|██████████| 27/27 [00:02<00:00, 12.93it/s]\n",
            "  7%|▋         | 2/27 [00:00<00:02, 11.89it/s]"
          ],
          "name": "stderr"
        },
        {
          "output_type": "stream",
          "text": [
            "{'ner': 31.244681365628576}\n"
          ],
          "name": "stdout"
        },
        {
          "output_type": "stream",
          "text": [
            "100%|██████████| 27/27 [00:02<00:00, 12.83it/s]\n",
            "  7%|▋         | 2/27 [00:00<00:01, 13.75it/s]"
          ],
          "name": "stderr"
        },
        {
          "output_type": "stream",
          "text": [
            "{'ner': 19.06613177165267}\n"
          ],
          "name": "stdout"
        },
        {
          "output_type": "stream",
          "text": [
            "100%|██████████| 27/27 [00:02<00:00, 12.44it/s]\n",
            "  7%|▋         | 2/27 [00:00<00:02, 11.67it/s]"
          ],
          "name": "stderr"
        },
        {
          "output_type": "stream",
          "text": [
            "{'ner': 25.039112867380933}\n"
          ],
          "name": "stdout"
        },
        {
          "output_type": "stream",
          "text": [
            "100%|██████████| 27/27 [00:02<00:00, 12.44it/s]\n",
            "  7%|▋         | 2/27 [00:00<00:01, 13.89it/s]"
          ],
          "name": "stderr"
        },
        {
          "output_type": "stream",
          "text": [
            "{'ner': 62.71259051045491}\n"
          ],
          "name": "stdout"
        },
        {
          "output_type": "stream",
          "text": [
            "100%|██████████| 27/27 [00:02<00:00, 12.28it/s]\n",
            "  7%|▋         | 2/27 [00:00<00:01, 15.09it/s]"
          ],
          "name": "stderr"
        },
        {
          "output_type": "stream",
          "text": [
            "{'ner': 32.19810967819396}\n"
          ],
          "name": "stdout"
        },
        {
          "output_type": "stream",
          "text": [
            "100%|██████████| 27/27 [00:02<00:00, 12.54it/s]\n",
            "  7%|▋         | 2/27 [00:00<00:02, 12.30it/s]"
          ],
          "name": "stderr"
        },
        {
          "output_type": "stream",
          "text": [
            "{'ner': 50.04604417531493}\n"
          ],
          "name": "stdout"
        },
        {
          "output_type": "stream",
          "text": [
            "100%|██████████| 27/27 [00:02<00:00, 13.13it/s]\n",
            "  7%|▋         | 2/27 [00:00<00:01, 13.02it/s]"
          ],
          "name": "stderr"
        },
        {
          "output_type": "stream",
          "text": [
            "{'ner': 37.446718600223086}\n"
          ],
          "name": "stdout"
        },
        {
          "output_type": "stream",
          "text": [
            "100%|██████████| 27/27 [00:02<00:00, 12.68it/s]\n",
            "  7%|▋         | 2/27 [00:00<00:01, 16.43it/s]"
          ],
          "name": "stderr"
        },
        {
          "output_type": "stream",
          "text": [
            "{'ner': 33.192296932032924}\n"
          ],
          "name": "stdout"
        },
        {
          "output_type": "stream",
          "text": [
            "100%|██████████| 27/27 [00:02<00:00, 12.71it/s]\n",
            "  7%|▋         | 2/27 [00:00<00:01, 13.10it/s]"
          ],
          "name": "stderr"
        },
        {
          "output_type": "stream",
          "text": [
            "{'ner': 32.512573537741574}\n"
          ],
          "name": "stdout"
        },
        {
          "output_type": "stream",
          "text": [
            "100%|██████████| 27/27 [00:02<00:00, 13.08it/s]\n",
            "  7%|▋         | 2/27 [00:00<00:01, 12.72it/s]"
          ],
          "name": "stderr"
        },
        {
          "output_type": "stream",
          "text": [
            "{'ner': 82.56215666465025}\n"
          ],
          "name": "stdout"
        },
        {
          "output_type": "stream",
          "text": [
            "100%|██████████| 27/27 [00:02<00:00, 12.44it/s]\n",
            "  7%|▋         | 2/27 [00:00<00:02, 10.64it/s]"
          ],
          "name": "stderr"
        },
        {
          "output_type": "stream",
          "text": [
            "{'ner': 49.82512170738431}\n"
          ],
          "name": "stdout"
        },
        {
          "output_type": "stream",
          "text": [
            "100%|██████████| 27/27 [00:02<00:00, 12.78it/s]\n",
            "  7%|▋         | 2/27 [00:00<00:02, 10.30it/s]"
          ],
          "name": "stderr"
        },
        {
          "output_type": "stream",
          "text": [
            "{'ner': 26.888035102493706}\n"
          ],
          "name": "stdout"
        },
        {
          "output_type": "stream",
          "text": [
            "100%|██████████| 27/27 [00:02<00:00, 12.43it/s]\n",
            "  7%|▋         | 2/27 [00:00<00:01, 13.54it/s]"
          ],
          "name": "stderr"
        },
        {
          "output_type": "stream",
          "text": [
            "{'ner': 27.415140623028883}\n"
          ],
          "name": "stdout"
        },
        {
          "output_type": "stream",
          "text": [
            "100%|██████████| 27/27 [00:02<00:00, 12.85it/s]\n",
            "  7%|▋         | 2/27 [00:00<00:02, 12.38it/s]"
          ],
          "name": "stderr"
        },
        {
          "output_type": "stream",
          "text": [
            "{'ner': 28.450387043947533}\n"
          ],
          "name": "stdout"
        },
        {
          "output_type": "stream",
          "text": [
            "100%|██████████| 27/27 [00:02<00:00, 12.05it/s]\n",
            "  7%|▋         | 2/27 [00:00<00:01, 13.97it/s]"
          ],
          "name": "stderr"
        },
        {
          "output_type": "stream",
          "text": [
            "{'ner': 25.709232398441273}\n"
          ],
          "name": "stdout"
        },
        {
          "output_type": "stream",
          "text": [
            "100%|██████████| 27/27 [00:02<00:00, 12.40it/s]\n",
            "  7%|▋         | 2/27 [00:00<00:02, 11.96it/s]"
          ],
          "name": "stderr"
        },
        {
          "output_type": "stream",
          "text": [
            "{'ner': 32.149617450495356}\n"
          ],
          "name": "stdout"
        },
        {
          "output_type": "stream",
          "text": [
            "100%|██████████| 27/27 [00:02<00:00, 12.19it/s]\n",
            "  7%|▋         | 2/27 [00:00<00:01, 14.66it/s]"
          ],
          "name": "stderr"
        },
        {
          "output_type": "stream",
          "text": [
            "{'ner': 54.96993003001016}\n"
          ],
          "name": "stdout"
        },
        {
          "output_type": "stream",
          "text": [
            "100%|██████████| 27/27 [00:02<00:00, 12.28it/s]\n",
            "  4%|▎         | 1/27 [00:00<00:02,  9.30it/s]"
          ],
          "name": "stderr"
        },
        {
          "output_type": "stream",
          "text": [
            "{'ner': 52.711873897820595}\n"
          ],
          "name": "stdout"
        },
        {
          "output_type": "stream",
          "text": [
            " 26%|██▌       | 7/27 [00:00<00:01, 11.57it/s]"
          ],
          "name": "stderr"
        }
      ]
    },
    {
      "cell_type": "code",
      "metadata": {
        "colab": {
          "base_uri": "https://localhost:8080/"
        },
        "id": "qLUXLU9Cf1yi",
        "outputId": "3383de04-0738-4ed2-d41f-89e24a1baf31"
      },
      "source": [
        "\n"
      ],
      "execution_count": 86,
      "outputs": [
        {
          "output_type": "stream",
          "text": [
            "Requirement already satisfied: extract-msg in /usr/local/lib/python3.7/dist-packages (0.28.7)\n",
            "Requirement already satisfied: compressed-rtf>=1.0.6 in /usr/local/lib/python3.7/dist-packages (from extract-msg) (1.0.6)\n",
            "Requirement already satisfied: ebcdic>=1.1.1 in /usr/local/lib/python3.7/dist-packages (from extract-msg) (1.1.1)\n",
            "Requirement already satisfied: imapclient==2.1.0 in /usr/local/lib/python3.7/dist-packages (from extract-msg) (2.1.0)\n",
            "Requirement already satisfied: olefile>=0.46 in /usr/local/lib/python3.7/dist-packages (from extract-msg) (0.46)\n",
            "Requirement already satisfied: tzlocal>=2.1 in /usr/local/lib/python3.7/dist-packages (from extract-msg) (2.1)\n",
            "Requirement already satisfied: six in /usr/local/lib/python3.7/dist-packages (from imapclient==2.1.0->extract-msg) (1.15.0)\n",
            "Requirement already satisfied: pytz in /usr/local/lib/python3.7/dist-packages (from tzlocal>=2.1->extract-msg) (2018.9)\n",
            "Requirement already satisfied: imapclient in /usr/local/lib/python3.7/dist-packages (2.1.0)\n",
            "Requirement already satisfied: six in /usr/local/lib/python3.7/dist-packages (from imapclient) (1.15.0)\n"
          ],
          "name": "stdout"
        }
      ]
    },
    {
      "cell_type": "code",
      "metadata": {
        "id": "1lqd7aj4hmF2"
      },
      "source": [
        "\n",
        "\n",
        "msg_val=pd.DataFrame()\n",
        "for mail in os.listdir(email_dir_val):\n",
        "  msg=extract_msg.Message(mail)\n",
        "  msg_body=pd.Series(msg.body)\n",
        "  msg_val=pd.concat([msg_val,msg_body])"
      ],
      "execution_count": null,
      "outputs": []
    },
    {
      "cell_type": "code",
      "metadata": {
        "id": "zacLoiQqJK5O"
      },
      "source": [
        "os.listdir(email_dir_val)"
      ],
      "execution_count": null,
      "outputs": []
    },
    {
      "cell_type": "code",
      "metadata": {
        "id": "SLx5OydFliX1"
      },
      "source": [
        "msg_val[0]=msg_val[0].replace(\"\\t\",\" \",regex=True).replace(\"\\r\\n\",\" \",regex=True).replace(\"\\[EXTERNAL EMAIL]\",\" \",regex=True).replace(\"  \",\" \",regex=True)\n",
        "print(msg_val.head())"
      ],
      "execution_count": null,
      "outputs": []
    },
    {
      "cell_type": "code",
      "metadata": {
        "id": "eC67WpeJl8sM"
      },
      "source": [
        "# test the trained model on validation dataset\n",
        "for text in msg_val[0]:\n",
        "    doc = ner_model(text)\n",
        "    print(' Entities', [(ent.text, ent.label_) for ent in doc.ents])"
      ],
      "execution_count": null,
      "outputs": []
    },
    {
      "cell_type": "code",
      "metadata": {
        "id": "Wb6coNpIEw-K"
      },
      "source": [
        "import spacy\n",
        "nlp=spacy.load('en')\n"
      ],
      "execution_count": 91,
      "outputs": []
    },
    {
      "cell_type": "code",
      "metadata": {
        "colab": {
          "base_uri": "https://localhost:8080/"
        },
        "id": "UC1xPWc5F81Y",
        "outputId": "49678abe-8280-4646-cc51-8eac89c35950"
      },
      "source": [
        "for text in msg_val[0]:\n",
        "  doc=nlp(text)\n",
        "  print(' Entities', [(ent.text, ent.label_) for ent in doc.ents])"
      ],
      "execution_count": 94,
      "outputs": [
        {
          "output_type": "stream",
          "text": [
            " Entities [('HUGHES MACHINERY CO 14400', 'ORG'), ('COLLEGE BLVD LENEXA', 'LAW'), ('66215', 'DATE'), ('4952743', 'CARDINAL'), ('1', 'CARDINAL'), ('44', 'CARDINAL'), ('44', 'CARDINAL'), ('38', 'CARDINAL'), ('70', 'CARDINAL'), ('048580', 'CARDINAL'), ('5', 'CARDINAL'), ('Tina Sternbergh', 'PERSON'), ('Armstrong International', 'PERSON'), ('269', 'CARDINAL'), ('279', 'CARDINAL'), ('Correspondence', 'PERSON'), ('RMA Request', 'PERSON')]\n",
            " Entities [('Afternoon', 'TIME'), ('BOL', 'ORG'), ('Corrosion Fluid', 'ORG'), ('1', 'CARDINAL'), ('323', 'CARDINAL'), ('60446', 'CARDINAL'), ('314', 'CARDINAL'), ('800‑678‑4858', 'CARDINAL'), ('Bridgeton', 'GPE'), ('MO', 'ORG'), ('TEXAS PIPE & SUPPLY', 'ORG'), ('MultAlloy', 'ORG'), ('Cuba', 'GPE'), ('Iran', 'GPE'), ('North Korea', 'GPE'), ('Sudan', 'GPE'), ('Syria', 'GPE')]\n",
            " Entities [('tomorrow', 'DATE'), ('25', 'CARDINAL'), ('1', 'CARDINAL'), ('490 pounds', 'QUANTITY'), ('4944661', 'CARDINAL'), ('85', 'CARDINAL'), ('Howard Gardner Denver-Fraser', 'PERSON'), ('Bennett Fraser', 'PERSON'), ('48026', 'CARDINAL'), ('586', 'CARDINAL')]\n"
          ],
          "name": "stdout"
        }
      ]
    },
    {
      "cell_type": "code",
      "metadata": {
        "id": "FxQuHmHlfxAH"
      },
      "source": [
        "doc=nlp(data[5]['text'])"
      ],
      "execution_count": 16,
      "outputs": []
    },
    {
      "cell_type": "code",
      "metadata": {
        "colab": {
          "base_uri": "https://localhost:8080/",
          "height": 52
        },
        "id": "XzYokAJZpVTJ",
        "outputId": "8f8d018d-023c-4c21-e3b6-5f7c7a6c90b5"
      },
      "source": [
        "data[5]['text']"
      ],
      "execution_count": 58,
      "outputs": [
        {
          "output_type": "execute_result",
          "data": {
            "application/vnd.google.colaboratory.intrinsic+json": {
              "type": "string"
            },
            "text/plain": [
              "'\"Hello,   This is shipping from the TX warehouse Rockwell Medical 4051 Freeport Parkway  Grapevine, TX 76051 800-449-3353 ext 460   PO 46406238 OP (Ontario CA)  P/U# C582158 2 pallets 3,250lbs Ship date: 3/17/21\"\\r'"
            ]
          },
          "metadata": {
            "tags": []
          },
          "execution_count": 58
        }
      ]
    },
    {
      "cell_type": "code",
      "metadata": {
        "colab": {
          "base_uri": "https://localhost:8080/"
        },
        "id": "LKQXN_E-fTbf",
        "outputId": "c99fda58-c66d-4c66-f1cf-2846b4ed2cf1"
      },
      "source": [
        "for ent in doc.ents:\n",
        "  print(ent.text,ent.start_char,ent.end_char,ent.label_)"
      ],
      "execution_count": 17,
      "outputs": [
        {
          "output_type": "stream",
          "text": [
            "TX 36 38 ORG\n",
            "Rockwell Medical 4051 Freeport Parkway 49 87 ORG\n",
            "460 126 129 CARDINAL\n",
            "P/U# C582158 2 161 175 ORG\n"
          ],
          "name": "stdout"
        }
      ]
    }
  ]
}