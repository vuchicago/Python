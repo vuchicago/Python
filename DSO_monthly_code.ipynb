{
  "nbformat": 4,
  "nbformat_minor": 0,
  "metadata": {
    "colab": {
      "name": "DSO_monthly_code.ipynb",
      "version": "0.3.2",
      "provenance": [],
      "collapsed_sections": [],
      "include_colab_link": true
    },
    "kernelspec": {
      "name": "python3",
      "display_name": "Python 3"
    }
  },
  "cells": [
    {
      "cell_type": "markdown",
      "metadata": {
        "id": "view-in-github",
        "colab_type": "text"
      },
      "source": [
        "<a href=\"https://colab.research.google.com/github/vuchicago/Python/blob/master/DSO_monthly_code.ipynb\" target=\"_parent\"><img src=\"https://colab.research.google.com/assets/colab-badge.svg\" alt=\"Open In Colab\"/></a>"
      ]
    },
    {
      "cell_type": "markdown",
      "metadata": {
        "colab_type": "text",
        "id": "NeauXhbv-4-W"
      },
      "source": [
        "\n",
        "####CODE WRITTEN @VUNGUYEN UPDATED MAY 29, 2019\n",
        "\n",
        "\n",
        "####BEFORE YOU INITIALIZE THE CODE, PLEASE GO THROUGH THESE 5 INITIAL STEPS.  \n",
        "\n",
        "\n",
        "1) Go to google drive to \"Shared with me\" folder.  Right click on \"DSO For SalesForce\" folder that has been shared.  \n",
        "   Select \"Add to My Drive\" - YOU ONLY NEED TO DO THIS ONCE. IF ALREADY Done IN PREVIOUS MONTHS, THEN SKIP.\n",
        "   \n",
        "2) Download all the dso files to inspect.  \n",
        "       \n",
        "       a) Make sure that all of the rows and columns are in the SAME EXACT order as the previous month.  \n",
        "                *For example, Column A or B should be the same fields, even if blank. Sometimes people will delete a column and this will produce a code error\n",
        "  \n",
        "        b) Make sure all of the tabs contain data.  If there is a tab in the file that contains no data, then DELETE the tab\n",
        "\n",
        "3) Create a folder called \"Sales Districts\" within the main folder for that month.  \n",
        "        \n",
        "        a) Drag all the files that have only only one district or group into this folder.  You can tell by which files contain      \"DBAC_REPORT\" as a tab      \n",
        "      \n",
        "        b) leave all others that contain multiple districts alone (Generally Midwest, North Central, Northeast, Southern, Inside Sales)\n",
        "\n",
        "\n",
        "4) Mount Drive using code below.  Click Shift + Enter.  Or Go to Runtime -> Run Selection\n",
        "\n",
        "5) Update all of the relevant fields below the mount code that says \"UPDATE MONTHLY\" \n"
      ]
    },
    {
      "cell_type": "code",
      "metadata": {
        "colab_type": "code",
        "outputId": "f43ba103-fb5b-41e4-e77c-bb1a59351ddd",
        "id": "Cd3c4A_f-wlK",
        "colab": {
          "base_uri": "https://localhost:8080/",
          "height": 35
        }
      },
      "source": [
        "\n",
        "####MOUNT DRIVE\n",
        "from google.colab import drive\n",
        "drive.mount('/content/gdrive',force_remount=True)"
      ],
      "execution_count": 64,
      "outputs": [
        {
          "output_type": "stream",
          "text": [
            "Mounted at /content/gdrive\n"
          ],
          "name": "stdout"
        }
      ]
    },
    {
      "cell_type": "code",
      "metadata": {
        "id": "zUK_O2XLaUR4",
        "colab_type": "code",
        "outputId": "765e9b71-b410-420b-92db-8a77b4281a75",
        "colab": {
          "base_uri": "https://localhost:8080/",
          "height": 52
        }
      },
      "source": [
        "import os, shutil, pandas as pd, numpy as np\n",
        "\n",
        "############################################################# UPDATE MONTHLY   ############################################\n",
        "year='2019' ###UPDATE ONCE PER YEAR\n",
        "\n",
        "dso_output_file=\"dso_May2019.xlsx\" ####UPDATE MONTHLY\n",
        "\n",
        "dso_main_folder=\"May (April data)\"  ####UPDATE MONTHLY\n",
        "\n",
        "#######            UPDATE MONTHLY\n",
        "midwest=\"DBAC  4-30-19  Midwest Region (1000).xlsx\" \n",
        "ncentral='DBAC  4-30-19  North Central (2500).xlsx'\n",
        "inside='DBAC  4-30-19  Inside Sales (8500).xlsx'\n",
        "southern='SR 3000 DSO April 2019.xlsx'\n",
        "northeast='DBAC Northeast for Salesforce 4-30-19.xlsx'\n",
        "\n",
        "\n",
        "############################################################# DONE WITH UPDATE.  DON'T TOUCH CODE BELOW       ##################################\n",
        "#########################################################################################################################################\n",
        "\n",
        "####DIRECTORIES OF FILES\n",
        "\n",
        "dso_dir='/content/gdrive/My Drive/DSO For Salesforce' ##original dso directory\n",
        "base_dir=os.path.join(dso_dir,year) \n",
        "main_dir=os.path.join(base_dir,dso_main_folder) \n",
        "adl_dir=os.path.join(main_dir,\"Sales Districts\")\n",
        "\n",
        "print(\"Files in Main folder:\",os.listdir(base_dir))\n",
        "print(\"Number of files in Sales District Subfolder:\",len(os.listdir(adl_dir)))\n",
        "\n"
      ],
      "execution_count": 65,
      "outputs": [
        {
          "output_type": "stream",
          "text": [
            "Files in Main folder: ['April (March Data)', 'May (April data)', 'March (Feb data)', 'Cement User ID_SFDC.xlsx', 'dso_May2019.xlsx']\n",
            "Number of files in Sales District Subfolder: 19\n"
          ],
          "name": "stdout"
        }
      ]
    },
    {
      "cell_type": "code",
      "metadata": {
        "id": "_HhlzEAlbJXQ",
        "colab_type": "code",
        "outputId": "4b993e38-7aed-4641-92d3-ef1ee73fbe2d",
        "colab": {
          "base_uri": "https://localhost:8080/",
          "height": 35
        }
      },
      "source": [
        "\n",
        "\n",
        "\n",
        "#######THE LIST OF DISTRICT MANAGERS\n",
        "os.chdir(base_dir)                                                               # change directory to base directory\n",
        "district_managers=pd.read_excel(\"Cement User ID_SFDC.xlsx\",sheet_name=\"Manager\")  ###read the district manager list\n",
        "district_managers[\"Sales District Text\"]=[str(i) for i in district_managers[\"Sales District Text\"]]\n",
        "district_managers[\"USER_C\"]=district_managers[\"User ID\"]\n",
        "col_keep=[\"Sales District Text\",\"User ID\",\"USER_C\"]\n",
        "district_managers=district_managers[col_keep].rename(columns={\"User ID\":\"OWNERID\"})\n",
        "############################################\n",
        "\n",
        "os.chdir(main_dir)\n",
        "###Dictionary to map month given to column \"PERIOD__C\" in the dso upload file\n",
        "month={\"Jan\":1,'Feb':2,'Mar':3,'Apr':4,'May':5,\"Jun\":6,\"Jul\":7,\"Aug\":8, \"Sep\":9,\"Oct\":10,\"Nov\":11,\"Dec\":12}\n",
        "month_rev = dict([[v,k] for k,v in month.items()]) #reverse dictionary numbered months: 3 letter months\n",
        "\n",
        "#####Dictionary to map sales office number to \"SALES_OFFICE__C\" in the dso upload file\n",
        "sales_office={'1000':\"1000 - Midwest\",'2000, 4000':\"2000, 4000 - West\",'2500':\"2500 - North Central\",'3000':\"3000 - Southern\",\n",
        "              '4000':\"4000 - TX/OK\",'7000':\"7000 - Northeast\",'8500':\"8500 - Inside Sales\", '9000':\"9000 - Trade Sales\"}\n",
        "\n",
        "print(\"Number of Sales Offices:\" ,len(sales_office))\n",
        "\n"
      ],
      "execution_count": 66,
      "outputs": [
        {
          "output_type": "stream",
          "text": [
            "Number of Sales Offices: 8\n"
          ],
          "name": "stdout"
        }
      ]
    },
    {
      "cell_type": "code",
      "metadata": {
        "id": "P8BjObPnbMg6",
        "colab_type": "code",
        "colab": {}
      },
      "source": [
        "#####CREATE OUTPUT_FN TO READ IN THE TOP ROWS 3-9 in DBAC files sent by regions\n",
        "\n",
        "def output_top(input_files,i):\n",
        "    output=pd.DataFrame()\n",
        "    #####PULLS DATA FROM ROWS 3 TO 9 IN THE DBAC FILES###############\n",
        "    dbac_info=pd.read_excel(input_files,sheet_name=i,skiprows=1,index_cols=None,na_values=\"NA\").iloc[:7] ##top portion of dbac file\n",
        "    dbac_info.columns=[i for i,j in enumerate(dbac_info.columns)] ###GRAB and NAME ALL THE COLUMNS\n",
        "    \n",
        "    ###CREATE SEPARATE DATAFRAMES TO GRAB ONLY 4 COLUMNS.  \n",
        "    temp1=dbac_info[[1,3]] ##COLUMN 1,3,11,13 HAS ALL RELEVANT DATA\n",
        "    temp2=dbac_info[[11,13]] \n",
        "    temp1.columns=[i for i,j in enumerate(temp1)]  ##GIVE THE COLUMNS ARBITARY NAMES\n",
        "    temp2.columns=[i for i,j in enumerate(temp2)]\n",
        "    dbac_info=pd.concat([temp1,temp2])\n",
        "    dbac_info.index=dbac_info[0]\n",
        "    ####DEFINE SALES GROUP####\n",
        "    output['filler1']=\"A\"  \n",
        "    output['filler2']=dbac_info.loc[\"Key Calendar Year\"] \n",
        "    output['filler3']=\"Total (10 + 12)\"  \n",
        "    output['filler4']='N/A'\n",
        "    if (dbac_info.loc[\"Sales Group\"][1]==\"Empty Demarcation\") & (dbac_info.loc[\"Sales District\"][1]==\"Empty Demarcation\"):\n",
        "        output[\"REPORT_LEVEL__C\"]=\"Sales Office\"\n",
        "    elif (dbac_info.loc[\"Sales Office\"][1]!=\"Empty Demarcation\") &(dbac_info.loc[\"Sales District\"][1]==\"Empty Demarcation\"):\n",
        "        output[\"REPORT_LEVEL__C\"]=\"Sales Group\"\n",
        "    else:\n",
        "        output[\"REPORT_LEVEL__C\"]=\"Sales District\"\n",
        "    \n",
        "    output[\"SALES_OFFICE__C\"]=sales_office[dbac_info.loc[\"Sales Office\"][1]] ##convert sales office number to num+key using dictionary above\n",
        "        #####DEFINE SALES DISTRICT     \n",
        "    if dbac_info.loc[\"Sales District\"][1]==\"Empty Demarcation\":\n",
        "        output[\"SALES_DISTRICT__C\"]=\" \"\n",
        "    else:\n",
        "        output[\"SALES_DISTRICT__C\"]=dbac_info.loc[\"Sales District\"]\n",
        "    \n",
        "    if dbac_info.loc[\"Sales Group\"][1]==\"Empty Demarcation\":\n",
        "        output[\"SALES_GROUP__C\"]=\" \"\n",
        "    else:\n",
        "        output[\"SALES_GROUP__C\"]=dbac_info.loc[\"Sales Group\"]    \n",
        "\n",
        "    output['joincol']=1 ###CREATE PRIMARY KEY TO JOIN WITH DBAC_  \n",
        "    output[\"YEAR__C\"]=dbac_info.loc[\"Key Calendar Year\"]\n",
        "    output[\"DIVISION__C\"]=\"Total (10 + 12)\" \n",
        "    return output.iloc[1:2]\n"
      ],
      "execution_count": 0,
      "outputs": []
    },
    {
      "cell_type": "code",
      "metadata": {
        "id": "ItHwumr9SOBk",
        "colab_type": "code",
        "colab": {}
      },
      "source": [
        "####READS THE BOTTOM HALF OF THE DSO INPUT FILE\n",
        "\n",
        "def output_bot(input_files,i):\n",
        "    dbac_bot=pd.read_excel(input_files,sheet_name=i,skiprows=11,index_col=1,na_values=\"NA\").iloc[:12]\n",
        "    dbac_bot['joincol']=1 ##joincol will act as the primary key\n",
        "    dbac_bot=dbac_bot[dbac_bot[\"EOM A/R 1\"]!=0]  ###This reads in values in files wheree it's not filler\n",
        "    dbac_bot[\"PERIOD__C\"]=\"\" ##CREATE PERIOD_C\n",
        "    for i in range(len(dbac_bot)):\n",
        "        dbac_bot[\"PERIOD__C\"].iloc[i]=month[dbac_bot.index[i]]\n",
        "    return dbac_bot\n",
        "\n",
        "#####MERGES ALL OF THE BOTTOM AND TOP HALF DATAFRAMES CREATED PREVIOUSLY.  IF THERE ARE \n",
        "###MULTIPLE TABS, THEN ALL THE ONES GENERATED FROM MULTIPLE TABS ARE MERGED TOGETHER\n",
        "def dso_salesforce(input_files,tabs):\n",
        "    output_files=pd.DataFrame()\n",
        "    \n",
        "    for i in tabs: \n",
        "        ####READ IN FILE AND CREATE MONTH VARIABLE FOR OUTPUT\n",
        "        dbac_top=output_top(input_files,i) ###USE OUTPUT_FN HERE\n",
        "        dbac_bot=output_bot(input_files,i)\n",
        "        dbac_bot=dbac_bot.reset_index()\n",
        "\n",
        "        output_file=dbac_top.merge(dbac_bot,how='left',on='joincol',suffixes=('_top','_dbac'))  ####MERGE THE BOT AND TOP OF DBAC FILE\n",
        "        output_file=output_file.rename(columns={\"Sales Office\":\"SALES_OFFICE__C\",\n",
        "                                                \"BPDSO 4\":\"BPDSO__C\",\"DSO 3\":\"DSO__C\",\n",
        "                                                '12 Month Rolling\\nAverage DSO':\"ROLLING_DSO__C\"})      \n",
        "    ###CREATE LEVEL VARIABLE IN ORDER TO MATCH IT WITH THE SALES DISTRICT IN THE Cement User ID_SFDC file    \n",
        "        output_file['Level']=\"\"\n",
        "        for i in range(output_file.shape[0]):\n",
        "            if (output_file[\"REPORT_LEVEL__C\"].iloc[i]==\"Sales Office\"):\n",
        "                output_file[\"Level\"].iloc[i]=output_file[\"SALES_OFFICE__C\"].iloc[i]\n",
        "            elif (output_file[\"REPORT_LEVEL__C\"].iloc[i]==\"Sales District\"):\n",
        "                output_file[\"Level\"].iloc[i]=output_file[\"SALES_DISTRICT__C\"].iloc[i]\n",
        "            else:\n",
        "                output_file[\"Level\"].iloc[i]=output_file[\"SALES_GROUP__C\"].iloc[i]       \n",
        "        columns=[\"Level\",\"REPORT_LEVEL__C\",\"SALES_OFFICE__C\",\"SALES_GROUP__C\",\"SALES_DISTRICT__C\",\"PERIOD__C\",\"YEAR__C\",\"DIVISION__C\",\"BPDSO__C\",\"DSO__C\",\"ROLLING_DSO__C\"]   \n",
        "        output_file=output_file[columns]\n",
        "        \n",
        "        output_files=output_files.append(output_file,ignore_index=True).dropna()\n",
        "    return output_files"
      ],
      "execution_count": 0,
      "outputs": []
    },
    {
      "cell_type": "code",
      "metadata": {
        "id": "V19d2sRtSQNH",
        "colab_type": "code",
        "colab": {}
      },
      "source": [
        "#####THIS CONSONSOLIDATES FILES THAT ONLY HAVE ONE DISTRICT/GROUP.  THIS READS IT IN THE \"Sales Districts\" Folder\n",
        "\n",
        "def dso_salesforce_unconsol(folder,tabs):\n",
        "    output_files=pd.DataFrame()\n",
        "    import os\n",
        "    os.chdir(folder)\n",
        "    input_files=os.listdir(folder)\n",
        "    for input_file in input_files:\n",
        "        for i in tabs:\n",
        "            \n",
        "        #input_file=xl.parse(i)  # read a specific sheet to DataFrame    \n",
        "        ####READ IN FILE AND CREATE MONTH VARIABLE FOR OUTPUT\n",
        "            dbac_top=output_top(input_file,i) ###USE OUTPUT_FN HERE\n",
        "            dbac_bot=output_bot(input_file,i)\n",
        "            dbac_bot=dbac_bot.reset_index()\n",
        "            \n",
        "            output_file=dbac_top.merge(dbac_bot,how='left',on='joincol',suffixes=('_top','_dbac'))  ####MERGE THE BOT AND TOP OF DBAC FILE\n",
        "            output_file=output_file.rename(columns={\"Sales Office\":\"SALES_OFFICE__C\",  \"BPDSO 4\":\"BPDSO__C\",\"DSO 3\":\"DSO__C\",\n",
        "                                                    '12 Month Rolling\\nAverage DSO':\"ROLLING_DSO__C\"})        \n",
        "            ###CREATE LEVEL VARIABLE IN ORDER TO MATCH IT WITH THE SALES DISTRICT IN THE Cement User ID_SFDC file    \n",
        "            output_file[\"Level\"]=\"\"\n",
        "            for i in range(output_file.shape[0]):\n",
        "                if (output_file[\"REPORT_LEVEL__C\"].iloc[i]==\"Sales Office\"):\n",
        "                    output_file[\"Level\"].iloc[i]=output_file[\"SALES_OFFICE__C\"].iloc[i]\n",
        "                elif (output_file[\"REPORT_LEVEL__C\"].iloc[i]==\"Sales District\"):\n",
        "                    output_file[\"Level\"].iloc[i]=output_file[\"SALES_DISTRICT__C\"].iloc[i]\n",
        "                else:\n",
        "                    output_file[\"Level\"].iloc[i]=output_file[\"SALES_GROUP__C\"].iloc[i]                  \n",
        "            ####output the file and append it to the previous output file\n",
        "            columns=[\"Level\",\"REPORT_LEVEL__C\",\"SALES_OFFICE__C\",\"SALES_GROUP__C\",\"SALES_DISTRICT__C\",\"PERIOD__C\",\"YEAR__C\",\"DIVISION__C\",\"BPDSO__C\",\"DSO__C\",\"ROLLING_DSO__C\"]   \n",
        "            output_file=output_file[columns]\n",
        "        \n",
        "        output_files=output_files.append(output_file,ignore_index=True).dropna()\n",
        "    return output_files\n",
        "\n",
        "def west_salesgroup(dset_in):\n",
        "    for i in range(len(dset_in)):\n",
        "        if dset_in[\"SALES_DISTRICT__C\"].iloc[i] in ('2314','2317','2319','2315','2230','2219','2212','2213'):\n",
        "            dset_in[\"SALES_OFFICE__C\"].iloc[i]=\"2000 - Mountain\"\n",
        "        if dset_in[\"SALES_DISTRICT__C\"].iloc[i] in ('2911','2937', '2936', '2932','2933','2989','2938','2913','2939','2934','2935'):\n",
        "            dset_in[\"SALES_OFFICE__C\"].iloc[i]=\"4000 - TX/OK\"\n",
        "        else:\n",
        "            dset_in['SALES_OFFICE__C'].iloc[i]=dset_in[\"SALES_OFFICE__C\"].iloc[i]\n",
        "        if dset_in[\"SALES_GROUP__C\"].iloc[i]=='230':\n",
        "            dset_in[\"SALES_OFFICE__C\"].iloc[i]=\"2000 - Mountain\"\n",
        "        if dset_in[\"SALES_GROUP__C\"].iloc[i]=='490':\n",
        "            dset_in[\"SALES_OFFICE__C\"].iloc[i]=\"4000 - TX/OK\"\n",
        "        else:\n",
        "            dset_in['SALES_OFFICE__C'].iloc[i]=dset_in[\"SALES_OFFICE__C\"].iloc[i]            \n",
        "    return dset_in"
      ],
      "execution_count": 0,
      "outputs": []
    },
    {
      "cell_type": "code",
      "metadata": {
        "id": "Mc2eIniHSZb1",
        "colab_type": "code",
        "colab": {}
      },
      "source": [
        "#####GRABS ALL THE NAMES OF THE TABS IN THE FILE.  EXCLUDES UNNECESSARY TABS\n",
        "\n",
        "os.chdir(main_dir)\n",
        "def tab_names(region):\n",
        "    xl = pd.ExcelFile(region)\n",
        "    tabs_all=xl.sheet_names  # see all sheet names\n",
        "    tabs_excl=['Table',\n",
        "           'DSO_Calc',\n",
        "           'DaysCostCY',\n",
        "           'SAPBEXqueries',\n",
        "           'SAPBEXfilters',\n",
        "           'DaysCostLY',\n",
        "           'GrossBalCY',\n",
        "           'GB_LY',\n",
        "           'CurRecCY',\n",
        "           'GB_2Y',\n",
        "           'Global']\n",
        "    tabs_incl=[tabs for tabs in tabs_all if tabs not in tabs_excl]\n",
        "    return tabs_incl"
      ],
      "execution_count": 0,
      "outputs": []
    },
    {
      "cell_type": "code",
      "metadata": {
        "id": "XoL7OVLWSbsp",
        "colab_type": "code",
        "outputId": "e05be4af-6247-4eb2-dc3b-b67bc2399626",
        "colab": {
          "base_uri": "https://localhost:8080/",
          "height": 106
        }
      },
      "source": [
        "###Excludes some non-relevant tabs\n",
        "midwest_tabs=tab_names(midwest)\n",
        "ncentral_tabs=tab_names(ncentral)\n",
        "northeast_tabs=tab_names(northeast)\n",
        "inside_tabs=tab_names(inside)\n",
        "southern_tabs=tab_names(southern)\n",
        "\n",
        "\n",
        "\n",
        "#####call the files \n",
        "df_midwest=dso_salesforce(midwest,midwest_tabs)\n",
        "df_ncentral=dso_salesforce(ncentral,ncentral_tabs)\n",
        "df_inside=dso_salesforce(inside,inside_tabs)\n",
        "df_northeast=dso_salesforce(northeast,northeast_tabs)\n",
        "df_southern=dso_salesforce(southern,southern_tabs)\n",
        "\n",
        "###WEST AND SOUTHERN ARE IN DIFFERENT DIRECTORIES\n",
        "os.chdir(adl_dir)\n",
        "\n",
        "west_tabs=['DBAC_REPORT']\n",
        "\n",
        "\n",
        "df_west=dso_salesforce_unconsol(adl_dir,west_tabs)\n",
        "df_mountain_txok=west_salesgroup(df_west)\n",
        "\n",
        "\n",
        "df_total=pd.concat([df_midwest,df_ncentral,df_inside,df_mountain_txok,df_southern])\n",
        "col=[\"SALES_OFFICE__C\",\"SALES_DISTRICT__C\",\"SALES_GROUP__C\"]\n",
        "\n",
        "df_final=pd.merge(df_total,district_managers,left_on=\"Level\",right_on=\"Sales District Text\",how='left')\n",
        "final_col=[\"USER_C\",\"OWNERID\",\"REPORT_LEVEL__C\",\"SALES_OFFICE__C\",\"SALES_GROUP__C\",\"SALES_DISTRICT__C\",\"PERIOD__C\",\"YEAR__C\",\"DIVISION__C\",\"BPDSO__C\",\"DSO__C\",\"ROLLING_DSO__C\",\"Level\"]\n",
        "df_final=df_final[final_col]\n",
        "os.chdir(base_dir)    \n",
        "df_final.to_excel(dso_output_file)\n"
      ],
      "execution_count": 71,
      "outputs": [
        {
          "output_type": "stream",
          "text": [
            "/usr/local/lib/python3.6/dist-packages/pandas/core/indexing.py:190: SettingWithCopyWarning: \n",
            "A value is trying to be set on a copy of a slice from a DataFrame\n",
            "\n",
            "See the caveats in the documentation: http://pandas.pydata.org/pandas-docs/stable/indexing.html#indexing-view-versus-copy\n",
            "  self._setitem_with_indexer(indexer, value)\n"
          ],
          "name": "stderr"
        }
      ]
    }
  ]
}